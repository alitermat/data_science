{
  "cells": [
    {
      "attachments": {},
      "cell_type": "markdown",
      "metadata": {
        "id": "-4jmhpHnNYx9"
      },
      "source": [
        "\n",
        "\n",
        "## Introducción"
      ]
    },
    {
      "attachments": {},
      "cell_type": "markdown",
      "metadata": {},
      "source": [
        "Este cuaderno ofrece una introducción al manejo de datos temporales en Python. El objetivo es comprender de las características que tienen los datos temporales"
      ]
    },
    {
      "attachments": {},
      "cell_type": "markdown",
      "metadata": {
        "id": "p2W5FJnkkuEr"
      },
      "source": [
        "# Configuración\n",
        "\n"
      ]
    },
    {
      "cell_type": "code",
      "execution_count": 5,
      "metadata": {
        "colab": {
          "base_uri": "https://localhost:8080/"
        },
        "id": "UKAmCT4QNduI",
        "outputId": "9c1ec034-d49f-4129-e969-1382d7803edd"
      },
      "outputs": [],
      "source": [
        "#%pip install pandas\n",
        "#%pip install numpy\n",
        "#%pip install datetime"
      ]
    },
    {
      "cell_type": "code",
      "execution_count": 6,
      "metadata": {},
      "outputs": [
        {
          "name": "stdout",
          "output_type": "stream",
          "text": [
            "Requirement already satisfied: sktime in c:\\users\\alici\\anaconda3\\envs\\nuclio\\lib\\site-packages (from -r requirements.txt (line 1)) (0.25.0)\n",
            "Requirement already satisfied: statsmodels in c:\\users\\alici\\anaconda3\\envs\\nuclio\\lib\\site-packages (from -r requirements.txt (line 2)) (0.14.0)\n",
            "Requirement already satisfied: ipykernel in c:\\users\\alici\\anaconda3\\envs\\nuclio\\lib\\site-packages (from -r requirements.txt (line 3)) (6.25.0)\n",
            "Requirement already satisfied: platformdirs in c:\\users\\alici\\anaconda3\\envs\\nuclio\\lib\\site-packages (from -r requirements.txt (line 4)) (3.10.0)\n",
            "Requirement already satisfied: nbformat in c:\\users\\alici\\anaconda3\\envs\\nuclio\\lib\\site-packages (from -r requirements.txt (line 5)) (5.9.2)\n",
            "Requirement already satisfied: skimpy in c:\\users\\alici\\anaconda3\\envs\\nuclio\\lib\\site-packages (from -r requirements.txt (line 6)) (0.0.12)\n",
            "Requirement already satisfied: pmdarima in c:\\users\\alici\\anaconda3\\envs\\nuclio\\lib\\site-packages (from -r requirements.txt (line 7)) (2.0.4)\n",
            "Requirement already satisfied: pymannkendall in c:\\users\\alici\\anaconda3\\envs\\nuclio\\lib\\site-packages (from -r requirements.txt (line 8)) (1.4.3)\n",
            "Requirement already satisfied: openpyxl in c:\\users\\alici\\anaconda3\\envs\\nuclio\\lib\\site-packages (from -r requirements.txt (line 9)) (3.0.10)\n",
            "Requirement already satisfied: prophet in c:\\users\\alici\\anaconda3\\envs\\nuclio\\lib\\site-packages (from -r requirements.txt (line 10)) (1.1.5)\n",
            "Requirement already satisfied: ipywidgets in c:\\users\\alici\\anaconda3\\envs\\nuclio\\lib\\site-packages (from -r requirements.txt (line 11)) (8.0.4)\n",
            "Requirement already satisfied: catboost in c:\\users\\alici\\anaconda3\\envs\\nuclio\\lib\\site-packages (from -r requirements.txt (line 12)) (1.2.2)\n",
            "Requirement already satisfied: shap in c:\\users\\alici\\anaconda3\\envs\\nuclio\\lib\\site-packages (from -r requirements.txt (line 13)) (0.44.0)\n",
            "Requirement already satisfied: numpy<1.27,>=1.21 in c:\\users\\alici\\anaconda3\\envs\\nuclio\\lib\\site-packages (from sktime->-r requirements.txt (line 1)) (1.24.3)\n",
            "Requirement already satisfied: packaging in c:\\users\\alici\\anaconda3\\envs\\nuclio\\lib\\site-packages (from sktime->-r requirements.txt (line 1)) (23.1)\n",
            "Requirement already satisfied: pandas<2.2.0,>=1.1 in c:\\users\\alici\\anaconda3\\envs\\nuclio\\lib\\site-packages (from sktime->-r requirements.txt (line 1)) (2.0.3)\n",
            "Requirement already satisfied: scikit-base<0.7.0 in c:\\users\\alici\\anaconda3\\envs\\nuclio\\lib\\site-packages (from sktime->-r requirements.txt (line 1)) (0.6.2)\n",
            "Requirement already satisfied: scikit-learn<1.4.0,>=0.24 in c:\\users\\alici\\anaconda3\\envs\\nuclio\\lib\\site-packages (from sktime->-r requirements.txt (line 1)) (1.3.0)\n",
            "Requirement already satisfied: scipy<2.0.0,>=1.2 in c:\\users\\alici\\anaconda3\\envs\\nuclio\\lib\\site-packages (from sktime->-r requirements.txt (line 1)) (1.11.1)\n",
            "Requirement already satisfied: patsy>=0.5.2 in c:\\users\\alici\\anaconda3\\envs\\nuclio\\lib\\site-packages (from statsmodels->-r requirements.txt (line 2)) (0.5.3)\n",
            "Requirement already satisfied: comm>=0.1.1 in c:\\users\\alici\\anaconda3\\envs\\nuclio\\lib\\site-packages (from ipykernel->-r requirements.txt (line 3)) (0.1.2)\n",
            "Requirement already satisfied: debugpy>=1.6.5 in c:\\users\\alici\\anaconda3\\envs\\nuclio\\lib\\site-packages (from ipykernel->-r requirements.txt (line 3)) (1.6.7)\n",
            "Requirement already satisfied: ipython>=7.23.1 in c:\\users\\alici\\anaconda3\\envs\\nuclio\\lib\\site-packages (from ipykernel->-r requirements.txt (line 3)) (8.15.0)\n",
            "Requirement already satisfied: jupyter-client>=6.1.12 in c:\\users\\alici\\anaconda3\\envs\\nuclio\\lib\\site-packages (from ipykernel->-r requirements.txt (line 3)) (7.4.9)\n",
            "Requirement already satisfied: jupyter-core!=5.0.*,>=4.12 in c:\\users\\alici\\anaconda3\\envs\\nuclio\\lib\\site-packages (from ipykernel->-r requirements.txt (line 3)) (5.3.0)\n",
            "Requirement already satisfied: matplotlib-inline>=0.1 in c:\\users\\alici\\anaconda3\\envs\\nuclio\\lib\\site-packages (from ipykernel->-r requirements.txt (line 3)) (0.1.6)\n",
            "Requirement already satisfied: nest-asyncio in c:\\users\\alici\\anaconda3\\envs\\nuclio\\lib\\site-packages (from ipykernel->-r requirements.txt (line 3)) (1.5.6)\n",
            "Requirement already satisfied: psutil in c:\\users\\alici\\anaconda3\\envs\\nuclio\\lib\\site-packages (from ipykernel->-r requirements.txt (line 3)) (5.9.0)\n",
            "Requirement already satisfied: pyzmq>=20 in c:\\users\\alici\\anaconda3\\envs\\nuclio\\lib\\site-packages (from ipykernel->-r requirements.txt (line 3)) (23.2.0)\n",
            "Requirement already satisfied: tornado>=6.1 in c:\\users\\alici\\anaconda3\\envs\\nuclio\\lib\\site-packages (from ipykernel->-r requirements.txt (line 3)) (6.3.2)\n",
            "Requirement already satisfied: traitlets>=5.4.0 in c:\\users\\alici\\anaconda3\\envs\\nuclio\\lib\\site-packages (from ipykernel->-r requirements.txt (line 3)) (5.7.1)\n",
            "Requirement already satisfied: fastjsonschema in c:\\users\\alici\\anaconda3\\envs\\nuclio\\lib\\site-packages (from nbformat->-r requirements.txt (line 5)) (2.16.2)\n",
            "Requirement already satisfied: jsonschema>=2.6 in c:\\users\\alici\\anaconda3\\envs\\nuclio\\lib\\site-packages (from nbformat->-r requirements.txt (line 5)) (4.17.3)\n",
            "Requirement already satisfied: Pygments<3.0.0,>=2.10.0 in c:\\users\\alici\\anaconda3\\envs\\nuclio\\lib\\site-packages (from skimpy->-r requirements.txt (line 6)) (2.15.1)\n",
            "Requirement already satisfied: click<9.0.0,>=8.1.6 in c:\\users\\alici\\anaconda3\\envs\\nuclio\\lib\\site-packages (from skimpy->-r requirements.txt (line 6)) (8.1.7)\n",
            "Requirement already satisfied: polars<0.21,>=0.19 in c:\\users\\alici\\anaconda3\\envs\\nuclio\\lib\\site-packages (from skimpy->-r requirements.txt (line 6)) (0.20.5)\n",
            "Requirement already satisfied: pyarrow<15,>=13 in c:\\users\\alici\\anaconda3\\envs\\nuclio\\lib\\site-packages (from skimpy->-r requirements.txt (line 6)) (14.0.2)\n",
            "Requirement already satisfied: quartodoc<0.8.0,>=0.7.2 in c:\\users\\alici\\anaconda3\\envs\\nuclio\\lib\\site-packages (from skimpy->-r requirements.txt (line 6)) (0.7.2)\n",
            "Requirement already satisfied: rich<14.0,>=10.9 in c:\\users\\alici\\anaconda3\\envs\\nuclio\\lib\\site-packages (from skimpy->-r requirements.txt (line 6)) (13.7.0)\n",
            "Requirement already satisfied: typeguard==4.1.5 in c:\\users\\alici\\anaconda3\\envs\\nuclio\\lib\\site-packages (from skimpy->-r requirements.txt (line 6)) (4.1.5)\n",
            "Requirement already satisfied: typing-extensions>=4.7.0 in c:\\users\\alici\\anaconda3\\envs\\nuclio\\lib\\site-packages (from typeguard==4.1.5->skimpy->-r requirements.txt (line 6)) (4.7.1)\n",
            "Requirement already satisfied: joblib>=0.11 in c:\\users\\alici\\anaconda3\\envs\\nuclio\\lib\\site-packages (from pmdarima->-r requirements.txt (line 7)) (1.2.0)\n",
            "Requirement already satisfied: Cython!=0.29.18,!=0.29.31,>=0.29 in c:\\users\\alici\\anaconda3\\envs\\nuclio\\lib\\site-packages (from pmdarima->-r requirements.txt (line 7)) (3.0.8)\n",
            "Requirement already satisfied: urllib3 in c:\\users\\alici\\anaconda3\\envs\\nuclio\\lib\\site-packages (from pmdarima->-r requirements.txt (line 7)) (1.26.16)\n",
            "Requirement already satisfied: setuptools!=50.0.0,>=38.6.0 in c:\\users\\alici\\anaconda3\\envs\\nuclio\\lib\\site-packages (from pmdarima->-r requirements.txt (line 7)) (68.0.0)\n",
            "Requirement already satisfied: et_xmlfile in c:\\users\\alici\\anaconda3\\envs\\nuclio\\lib\\site-packages (from openpyxl->-r requirements.txt (line 9)) (1.1.0)\n",
            "Requirement already satisfied: cmdstanpy>=1.0.4 in c:\\users\\alici\\anaconda3\\envs\\nuclio\\lib\\site-packages (from prophet->-r requirements.txt (line 10)) (1.2.0)\n",
            "Requirement already satisfied: matplotlib>=2.0.0 in c:\\users\\alici\\anaconda3\\envs\\nuclio\\lib\\site-packages (from prophet->-r requirements.txt (line 10)) (3.7.2)\n",
            "Requirement already satisfied: holidays>=0.25 in c:\\users\\alici\\anaconda3\\envs\\nuclio\\lib\\site-packages (from prophet->-r requirements.txt (line 10)) (0.37)\n",
            "Requirement already satisfied: tqdm>=4.36.1 in c:\\users\\alici\\anaconda3\\envs\\nuclio\\lib\\site-packages (from prophet->-r requirements.txt (line 10)) (4.65.0)\n",
            "Requirement already satisfied: importlib-resources in c:\\users\\alici\\anaconda3\\envs\\nuclio\\lib\\site-packages (from prophet->-r requirements.txt (line 10)) (6.1.1)\n",
            "Requirement already satisfied: widgetsnbextension~=4.0 in c:\\users\\alici\\anaconda3\\envs\\nuclio\\lib\\site-packages (from ipywidgets->-r requirements.txt (line 11)) (4.0.5)\n",
            "Requirement already satisfied: jupyterlab-widgets~=3.0 in c:\\users\\alici\\anaconda3\\envs\\nuclio\\lib\\site-packages (from ipywidgets->-r requirements.txt (line 11)) (3.0.5)\n",
            "Requirement already satisfied: graphviz in c:\\users\\alici\\anaconda3\\envs\\nuclio\\lib\\site-packages (from catboost->-r requirements.txt (line 12)) (0.20.1)\n",
            "Requirement already satisfied: plotly in c:\\users\\alici\\anaconda3\\envs\\nuclio\\lib\\site-packages (from catboost->-r requirements.txt (line 12)) (5.9.0)\n",
            "Requirement already satisfied: six in c:\\users\\alici\\anaconda3\\envs\\nuclio\\lib\\site-packages (from catboost->-r requirements.txt (line 12)) (1.16.0)\n",
            "Requirement already satisfied: slicer==0.0.7 in c:\\users\\alici\\anaconda3\\envs\\nuclio\\lib\\site-packages (from shap->-r requirements.txt (line 13)) (0.0.7)\n",
            "Requirement already satisfied: numba in c:\\users\\alici\\anaconda3\\envs\\nuclio\\lib\\site-packages (from shap->-r requirements.txt (line 13)) (0.57.1)\n",
            "Requirement already satisfied: cloudpickle in c:\\users\\alici\\anaconda3\\envs\\nuclio\\lib\\site-packages (from shap->-r requirements.txt (line 13)) (2.2.1)\n",
            "Requirement already satisfied: colorama in c:\\users\\alici\\anaconda3\\envs\\nuclio\\lib\\site-packages (from click<9.0.0,>=8.1.6->skimpy->-r requirements.txt (line 6)) (0.4.6)\n",
            "Requirement already satisfied: stanio~=0.3.0 in c:\\users\\alici\\anaconda3\\envs\\nuclio\\lib\\site-packages (from cmdstanpy>=1.0.4->prophet->-r requirements.txt (line 10)) (0.3.0)\n",
            "Requirement already satisfied: python-dateutil in c:\\users\\alici\\anaconda3\\envs\\nuclio\\lib\\site-packages (from holidays>=0.25->prophet->-r requirements.txt (line 10)) (2.8.2)\n",
            "Requirement already satisfied: backcall in c:\\users\\alici\\anaconda3\\envs\\nuclio\\lib\\site-packages (from ipython>=7.23.1->ipykernel->-r requirements.txt (line 3)) (0.2.0)\n",
            "Requirement already satisfied: decorator in c:\\users\\alici\\anaconda3\\envs\\nuclio\\lib\\site-packages (from ipython>=7.23.1->ipykernel->-r requirements.txt (line 3)) (5.1.1)\n",
            "Requirement already satisfied: jedi>=0.16 in c:\\users\\alici\\anaconda3\\envs\\nuclio\\lib\\site-packages (from ipython>=7.23.1->ipykernel->-r requirements.txt (line 3)) (0.18.1)\n",
            "Requirement already satisfied: pickleshare in c:\\users\\alici\\anaconda3\\envs\\nuclio\\lib\\site-packages (from ipython>=7.23.1->ipykernel->-r requirements.txt (line 3)) (0.7.5)\n",
            "Requirement already satisfied: prompt-toolkit!=3.0.37,<3.1.0,>=3.0.30 in c:\\users\\alici\\anaconda3\\envs\\nuclio\\lib\\site-packages (from ipython>=7.23.1->ipykernel->-r requirements.txt (line 3)) (3.0.36)\n",
            "Requirement already satisfied: stack-data in c:\\users\\alici\\anaconda3\\envs\\nuclio\\lib\\site-packages (from ipython>=7.23.1->ipykernel->-r requirements.txt (line 3)) (0.2.0)\n",
            "Requirement already satisfied: attrs>=17.4.0 in c:\\users\\alici\\anaconda3\\envs\\nuclio\\lib\\site-packages (from jsonschema>=2.6->nbformat->-r requirements.txt (line 5)) (22.1.0)\n",
            "Requirement already satisfied: pyrsistent!=0.17.0,!=0.17.1,!=0.17.2,>=0.14.0 in c:\\users\\alici\\anaconda3\\envs\\nuclio\\lib\\site-packages (from jsonschema>=2.6->nbformat->-r requirements.txt (line 5)) (0.18.0)\n",
            "Requirement already satisfied: entrypoints in c:\\users\\alici\\anaconda3\\envs\\nuclio\\lib\\site-packages (from jupyter-client>=6.1.12->ipykernel->-r requirements.txt (line 3)) (0.4)\n",
            "Requirement already satisfied: pywin32>=300 in c:\\users\\alici\\anaconda3\\envs\\nuclio\\lib\\site-packages (from jupyter-core!=5.0.*,>=4.12->ipykernel->-r requirements.txt (line 3)) (305.1)\n",
            "Requirement already satisfied: contourpy>=1.0.1 in c:\\users\\alici\\anaconda3\\envs\\nuclio\\lib\\site-packages (from matplotlib>=2.0.0->prophet->-r requirements.txt (line 10)) (1.0.5)\n",
            "Requirement already satisfied: cycler>=0.10 in c:\\users\\alici\\anaconda3\\envs\\nuclio\\lib\\site-packages (from matplotlib>=2.0.0->prophet->-r requirements.txt (line 10)) (0.11.0)\n",
            "Requirement already satisfied: fonttools>=4.22.0 in c:\\users\\alici\\anaconda3\\envs\\nuclio\\lib\\site-packages (from matplotlib>=2.0.0->prophet->-r requirements.txt (line 10)) (4.25.0)\n",
            "Requirement already satisfied: kiwisolver>=1.0.1 in c:\\users\\alici\\anaconda3\\envs\\nuclio\\lib\\site-packages (from matplotlib>=2.0.0->prophet->-r requirements.txt (line 10)) (1.4.4)\n",
            "Requirement already satisfied: pillow>=6.2.0 in c:\\users\\alici\\anaconda3\\envs\\nuclio\\lib\\site-packages (from matplotlib>=2.0.0->prophet->-r requirements.txt (line 10)) (9.4.0)\n",
            "Requirement already satisfied: pyparsing<3.1,>=2.3.1 in c:\\users\\alici\\anaconda3\\envs\\nuclio\\lib\\site-packages (from matplotlib>=2.0.0->prophet->-r requirements.txt (line 10)) (3.0.9)\n",
            "Requirement already satisfied: pytz>=2020.1 in c:\\users\\alici\\anaconda3\\envs\\nuclio\\lib\\site-packages (from pandas<2.2.0,>=1.1->sktime->-r requirements.txt (line 1)) (2023.3.post1)\n",
            "Requirement already satisfied: tzdata>=2022.1 in c:\\users\\alici\\anaconda3\\envs\\nuclio\\lib\\site-packages (from pandas<2.2.0,>=1.1->sktime->-r requirements.txt (line 1)) (2023.3)\n",
            "Requirement already satisfied: griffe>=0.33 in c:\\users\\alici\\anaconda3\\envs\\nuclio\\lib\\site-packages (from quartodoc<0.8.0,>=0.7.2->skimpy->-r requirements.txt (line 6)) (0.39.1)\n",
            "Requirement already satisfied: sphobjinv>=2.3.1 in c:\\users\\alici\\anaconda3\\envs\\nuclio\\lib\\site-packages (from quartodoc<0.8.0,>=0.7.2->skimpy->-r requirements.txt (line 6)) (2.3.1)\n",
            "Requirement already satisfied: tabulate>=0.9.0 in c:\\users\\alici\\anaconda3\\envs\\nuclio\\lib\\site-packages (from quartodoc<0.8.0,>=0.7.2->skimpy->-r requirements.txt (line 6)) (0.9.0)\n",
            "Requirement already satisfied: importlib-metadata>=5.1.0 in c:\\users\\alici\\anaconda3\\envs\\nuclio\\lib\\site-packages (from quartodoc<0.8.0,>=0.7.2->skimpy->-r requirements.txt (line 6)) (6.0.0)\n",
            "Requirement already satisfied: pydantic in c:\\users\\alici\\anaconda3\\envs\\nuclio\\lib\\site-packages (from quartodoc<0.8.0,>=0.7.2->skimpy->-r requirements.txt (line 6)) (2.5.2)\n",
            "Requirement already satisfied: pyyaml in c:\\users\\alici\\anaconda3\\envs\\nuclio\\lib\\site-packages (from quartodoc<0.8.0,>=0.7.2->skimpy->-r requirements.txt (line 6)) (6.0)\n",
            "Requirement already satisfied: watchdog>=3.0.0 in c:\\users\\alici\\anaconda3\\envs\\nuclio\\lib\\site-packages (from quartodoc<0.8.0,>=0.7.2->skimpy->-r requirements.txt (line 6)) (3.0.0)\n",
            "Requirement already satisfied: plum-dispatch>2.0.0 in c:\\users\\alici\\anaconda3\\envs\\nuclio\\lib\\site-packages (from quartodoc<0.8.0,>=0.7.2->skimpy->-r requirements.txt (line 6)) (2.3.2)\n",
            "Requirement already satisfied: markdown-it-py>=2.2.0 in c:\\users\\alici\\anaconda3\\envs\\nuclio\\lib\\site-packages (from rich<14.0,>=10.9->skimpy->-r requirements.txt (line 6)) (2.2.0)\n",
            "Requirement already satisfied: threadpoolctl>=2.0.0 in c:\\users\\alici\\anaconda3\\envs\\nuclio\\lib\\site-packages (from scikit-learn<1.4.0,>=0.24->sktime->-r requirements.txt (line 1)) (2.2.0)\n",
            "Requirement already satisfied: llvmlite<0.41,>=0.40.0dev0 in c:\\users\\alici\\anaconda3\\envs\\nuclio\\lib\\site-packages (from numba->shap->-r requirements.txt (line 13)) (0.40.0)\n",
            "Requirement already satisfied: tenacity>=6.2.0 in c:\\users\\alici\\anaconda3\\envs\\nuclio\\lib\\site-packages (from plotly->catboost->-r requirements.txt (line 12)) (8.2.2)\n",
            "Requirement already satisfied: zipp>=0.5 in c:\\users\\alici\\anaconda3\\envs\\nuclio\\lib\\site-packages (from importlib-metadata>=5.1.0->quartodoc<0.8.0,>=0.7.2->skimpy->-r requirements.txt (line 6)) (3.11.0)\n",
            "Requirement already satisfied: parso<0.9.0,>=0.8.0 in c:\\users\\alici\\anaconda3\\envs\\nuclio\\lib\\site-packages (from jedi>=0.16->ipython>=7.23.1->ipykernel->-r requirements.txt (line 3)) (0.8.3)\n",
            "Requirement already satisfied: mdurl~=0.1 in c:\\users\\alici\\anaconda3\\envs\\nuclio\\lib\\site-packages (from markdown-it-py>=2.2.0->rich<14.0,>=10.9->skimpy->-r requirements.txt (line 6)) (0.1.0)\n",
            "Requirement already satisfied: beartype>=0.16.2 in c:\\users\\alici\\anaconda3\\envs\\nuclio\\lib\\site-packages (from plum-dispatch>2.0.0->quartodoc<0.8.0,>=0.7.2->skimpy->-r requirements.txt (line 6)) (0.16.4)\n",
            "Requirement already satisfied: wcwidth in c:\\users\\alici\\anaconda3\\envs\\nuclio\\lib\\site-packages (from prompt-toolkit!=3.0.37,<3.1.0,>=3.0.30->ipython>=7.23.1->ipykernel->-r requirements.txt (line 3)) (0.2.5)\n",
            "Requirement already satisfied: certifi in c:\\users\\alici\\anaconda3\\envs\\nuclio\\lib\\site-packages (from sphobjinv>=2.3.1->quartodoc<0.8.0,>=0.7.2->skimpy->-r requirements.txt (line 6)) (2023.11.17)\n",
            "Requirement already satisfied: annotated-types>=0.4.0 in c:\\users\\alici\\anaconda3\\envs\\nuclio\\lib\\site-packages (from pydantic->quartodoc<0.8.0,>=0.7.2->skimpy->-r requirements.txt (line 6)) (0.6.0)\n",
            "Requirement already satisfied: pydantic-core==2.14.5 in c:\\users\\alici\\anaconda3\\envs\\nuclio\\lib\\site-packages (from pydantic->quartodoc<0.8.0,>=0.7.2->skimpy->-r requirements.txt (line 6)) (2.14.5)\n",
            "Requirement already satisfied: executing in c:\\users\\alici\\anaconda3\\envs\\nuclio\\lib\\site-packages (from stack-data->ipython>=7.23.1->ipykernel->-r requirements.txt (line 3)) (0.8.3)\n",
            "Requirement already satisfied: asttokens in c:\\users\\alici\\anaconda3\\envs\\nuclio\\lib\\site-packages (from stack-data->ipython>=7.23.1->ipykernel->-r requirements.txt (line 3)) (2.0.5)\n",
            "Requirement already satisfied: pure-eval in c:\\users\\alici\\anaconda3\\envs\\nuclio\\lib\\site-packages (from stack-data->ipython>=7.23.1->ipykernel->-r requirements.txt (line 3)) (0.2.2)\n",
            "Note: you may need to restart the kernel to use updated packages.\n"
          ]
        }
      ],
      "source": [
        "pip install -r requirements.txt"
      ]
    },
    {
      "attachments": {},
      "cell_type": "markdown",
      "metadata": {
        "id": "WxjPiiDyLggP"
      },
      "source": [
        "### Importar módulos\n",
        "\n",
        "Primer paso en todo proyecto de Data Science. Importar los módulos que contienen las bibliotecas y funciones necesarias para realizar la tarea. En este cuaderno usaremos funciones básicas para manipular datos temporales."
      ]
    },
    {
      "cell_type": "code",
      "execution_count": 7,
      "metadata": {
        "id": "CLmgicznLggP"
      },
      "outputs": [],
      "source": [
        "# Source: https://pandas.pydata.org/pandas-docs/stable/user_guide/timeseries.html\n",
        "\n",
        "\n",
        "import numpy as np\n",
        "import pandas as pd\n",
        "from datetime import datetime, timezone, time, timedelta, date\n",
        "import warnings\n",
        "warnings.filterwarnings('ignore')\n",
        "warnings.simplefilter(action='ignore', category=FutureWarning)\n",
        "\n",
        "\n",
        "# SSL to overcome problem with ssl whn applying pd.read_csv()\n",
        "import ssl\n",
        "ssl._create_default_https_context = ssl._create_unverified_context"
      ]
    },
    {
      "attachments": {},
      "cell_type": "markdown",
      "metadata": {
        "id": "w5pHRzUYLggQ"
      },
      "source": [
        "\n",
        "\n",
        "## Operaciones básicas de tiempo\n",
        "\n"
      ]
    },
    {
      "attachments": {},
      "cell_type": "markdown",
      "metadata": {
        "id": "4FRseqElsZyU"
      },
      "source": [
        "### Datetime\n",
        "\n",
        "Formato más completo. Ofrece información al nivel del microsegundos "
      ]
    },
    {
      "cell_type": "code",
      "execution_count": 8,
      "metadata": {
        "colab": {
          "base_uri": "https://localhost:8080/"
        },
        "id": "n_kJ3ki3sd1H",
        "outputId": "87b30fa6-764f-44bd-a22e-c60651936cc6"
      },
      "outputs": [
        {
          "data": {
            "text/plain": [
              "datetime.datetime(2024, 1, 22, 19, 34, 7, 711975)"
            ]
          },
          "execution_count": 8,
          "metadata": {},
          "output_type": "execute_result"
        }
      ],
      "source": [
        "\n",
        "datetime_today = datetime.now()\n",
        "datetime_today\n"
      ]
    },
    {
      "attachments": {},
      "cell_type": "markdown",
      "metadata": {
        "id": "BfUajjzottq8"
      },
      "source": [
        "También se puede combinar con strings"
      ]
    },
    {
      "cell_type": "code",
      "execution_count": 9,
      "metadata": {
        "id": "aNxe2q_ztxte"
      },
      "outputs": [
        {
          "name": "stdout",
          "output_type": "stream",
          "text": [
            "La fecha ahora es -> 2024-01-22 19:34:07.738646\n"
          ]
        },
        {
          "data": {
            "text/plain": [
              "datetime.datetime(2024, 1, 22, 19, 34, 7, 738646)"
            ]
          },
          "metadata": {},
          "output_type": "display_data"
        }
      ],
      "source": [
        "print('La fecha ahora es -> ' +  str(datetime.now()))\n",
        "display(datetime.now())"
      ]
    },
    {
      "attachments": {},
      "cell_type": "markdown",
      "metadata": {
        "id": "c12oizzFILmn"
      },
      "source": [
        "### Date\n",
        "\n",
        "Este formato ofrece información solo de la fecha, no de la hora - e.g. (año, mes y día)"
      ]
    },
    {
      "cell_type": "code",
      "execution_count": 10,
      "metadata": {
        "colab": {
          "base_uri": "https://localhost:8080/",
          "height": 35
        },
        "id": "Q6mkVm55IQwc",
        "outputId": "b0f0b4fd-fbd1-4381-a451-2ab80b6e480e"
      },
      "outputs": [
        {
          "data": {
            "text/plain": [
              "datetime.date(2024, 1, 22)"
            ]
          },
          "metadata": {},
          "output_type": "display_data"
        }
      ],
      "source": [
        "display(date.today())"
      ]
    },
    {
      "attachments": {},
      "cell_type": "markdown",
      "metadata": {
        "id": "77RWgRMPI6vH"
      },
      "source": [
        "\n",
        "Se puede ofrecer otro formato de la fecha y combinar con _strings_ considerando `print()`"
      ]
    },
    {
      "cell_type": "code",
      "execution_count": 11,
      "metadata": {
        "colab": {
          "base_uri": "https://localhost:8080/"
        },
        "id": "Zaa4YmRLJQvS",
        "outputId": "456681dc-91ea-4f04-9c06-6d00eb6c87fa"
      },
      "outputs": [
        {
          "name": "stdout",
          "output_type": "stream",
          "text": [
            "La fecha hoy es: 2024-01-22\n"
          ]
        }
      ],
      "source": [
        "print('La fecha hoy es: ' + str(date.today()))"
      ]
    },
    {
      "attachments": {},
      "cell_type": "markdown",
      "metadata": {
        "id": "MrtvyMwnJwgA"
      },
      "source": [
        "### Time\n",
        "Esta librería sirve para manipular la información de la hora - e.g. hora, minuto, segundo, componente de la variable tiempo."
      ]
    },
    {
      "cell_type": "code",
      "execution_count": 12,
      "metadata": {
        "colab": {
          "base_uri": "https://localhost:8080/"
        },
        "id": "vU94AYEtNdj4",
        "outputId": "0cad9727-f9c8-4ba3-ddcf-19906664be84"
      },
      "outputs": [
        {
          "name": "stdout",
          "output_type": "stream",
          "text": [
            "La hora es:  19:34:07.778283\n"
          ]
        }
      ],
      "source": [
        "print('La hora es: ' ,  datetime.now().time())"
      ]
    },
    {
      "cell_type": "code",
      "execution_count": 13,
      "metadata": {
        "colab": {
          "base_uri": "https://localhost:8080/"
        },
        "id": "8LPLieO8NoTV",
        "outputId": "092a02fe-7764-469e-dc7d-0abf909dc318"
      },
      "outputs": [
        {
          "name": "stdout",
          "output_type": "stream",
          "text": [
            "El tiempo es:  19:34:07.796701\n"
          ]
        }
      ],
      "source": [
        "time_now = datetime.now().time()\n",
        "print('El tiempo es: ' ,  time_now)"
      ]
    },
    {
      "cell_type": "code",
      "execution_count": 14,
      "metadata": {
        "colab": {
          "base_uri": "https://localhost:8080/"
        },
        "id": "xWUTnzDgN4EL",
        "outputId": "b616bf8a-30b3-4359-bb89-077c4c37a867"
      },
      "outputs": [
        {
          "name": "stdout",
          "output_type": "stream",
          "text": [
            "What type is time now object? <class 'datetime.time'>\n"
          ]
        }
      ],
      "source": [
        "print('What type is time now object?',  type(time_now))"
      ]
    },
    {
      "attachments": {},
      "cell_type": "markdown",
      "metadata": {
        "id": "ymdN9v4MOV5g"
      },
      "source": [
        "### Timedelta\n",
        "\n",
        "Esta función está integrada en `datetime` y se utiliza normalmente para calcular diferencias entre fechas"
      ]
    },
    {
      "cell_type": "code",
      "execution_count": 15,
      "metadata": {
        "id": "wugjSxLGPIUr"
      },
      "outputs": [
        {
          "name": "stdout",
          "output_type": "stream",
          "text": [
            "2024-01-22 19:34:07.818135\n"
          ]
        }
      ],
      "source": [
        "date_now =  datetime.now()\n",
        "print(date_now)\n"
      ]
    },
    {
      "cell_type": "code",
      "execution_count": 16,
      "metadata": {
        "id": "JYM6eHXAP43_"
      },
      "outputs": [
        {
          "name": "stdout",
          "output_type": "stream",
          "text": [
            "2024-01-23 12:34:07.834731\n"
          ]
        }
      ],
      "source": [
        "date_a_bit_later =  datetime.now() + timedelta(hours=17) # Cuál va a ser la fecha dentro de 17h\n",
        "print(date_a_bit_later)"
      ]
    },
    {
      "cell_type": "code",
      "execution_count": 17,
      "metadata": {
        "colab": {
          "base_uri": "https://localhost:8080/",
          "height": 35
        },
        "id": "IWIZfOnoP_y0",
        "outputId": "ca3e0794-58d5-4806-87e8-6e1a5e3c4dd9"
      },
      "outputs": [
        {
          "data": {
            "text/plain": [
              "datetime.timedelta(seconds=61200, microseconds=16596)"
            ]
          },
          "metadata": {},
          "output_type": "display_data"
        }
      ],
      "source": [
        "timedelta_diff = date_a_bit_later - date_now\n",
        "display(timedelta_diff)"
      ]
    },
    {
      "cell_type": "code",
      "execution_count": 18,
      "metadata": {
        "colab": {
          "base_uri": "https://localhost:8080/"
        },
        "id": "mi5Y2OPEQLHe",
        "outputId": "1c8d284e-619d-4571-eefe-f8bb758078f6"
      },
      "outputs": [
        {
          "name": "stdout",
          "output_type": "stream",
          "text": [
            "17:00:00.016596\n"
          ]
        }
      ],
      "source": [
        "print(timedelta_diff)"
      ]
    },
    {
      "attachments": {},
      "cell_type": "markdown",
      "metadata": {
        "id": "RjKbInDGQZaZ"
      },
      "source": [
        "### Timezone\n",
        "\n",
        "La mayoría de las marcas de tiempo que se muestran se han referido a un único huso horario - tiempo universal coordinado (UTC por sus siglas en inglés). Sin embargo, es posible que nos interese trabajar con otros husos horarios."
      ]
    },
    {
      "cell_type": "code",
      "execution_count": 19,
      "metadata": {
        "colab": {
          "base_uri": "https://localhost:8080/"
        },
        "id": "iQ8pxNxVQ0xb",
        "outputId": "e2e3bbb7-3516-4915-f6d6-46ac0a2712cc"
      },
      "outputs": [
        {
          "name": "stdout",
          "output_type": "stream",
          "text": [
            "2024-01-22 19:34:07.867149\n"
          ]
        }
      ],
      "source": [
        "time_now = datetime.now()\n",
        "print(time_now)"
      ]
    },
    {
      "cell_type": "code",
      "execution_count": 20,
      "metadata": {
        "colab": {
          "base_uri": "https://localhost:8080/",
          "height": 35
        },
        "id": "FZ56Tk20R5IB",
        "outputId": "3d703734-7ca9-4f02-dfee-c8cef3c398fd"
      },
      "outputs": [
        {
          "data": {
            "text/plain": [
              "None"
            ]
          },
          "metadata": {},
          "output_type": "display_data"
        }
      ],
      "source": [
        "display(time_now.tzinfo)"
      ]
    },
    {
      "cell_type": "code",
      "execution_count": 21,
      "metadata": {
        "colab": {
          "base_uri": "https://localhost:8080/",
          "height": 53
        },
        "id": "Cx-Z0GQCTrPy",
        "outputId": "eb193e24-255a-4fcb-8e4e-ce70ef1b8b87"
      },
      "outputs": [
        {
          "data": {
            "text/plain": [
              "datetime.datetime(2024, 1, 22, 18, 34, 7, 900094, tzinfo=datetime.timezone.utc)"
            ]
          },
          "metadata": {},
          "output_type": "display_data"
        },
        {
          "data": {
            "text/plain": [
              "datetime.timezone.utc"
            ]
          },
          "metadata": {},
          "output_type": "display_data"
        }
      ],
      "source": [
        "# Set explicitly the timezone\n",
        "\n",
        "time_utc = datetime.now(tz = timezone.utc)\n",
        "display(time_utc)\n",
        "\n",
        "\n",
        "display(time_utc.tzinfo)"
      ]
    },
    {
      "attachments": {},
      "cell_type": "markdown",
      "metadata": {
        "id": "kYon70vRWlru"
      },
      "source": [
        "\n",
        "\n",
        "## Manipulando datos temporales\n"
      ]
    },
    {
      "attachments": {},
      "cell_type": "markdown",
      "metadata": {},
      "source": [
        "A veces necesitamos crear información temporal basada en una marca de tiempo que se usa como referencia."
      ]
    },
    {
      "attachments": {},
      "cell_type": "markdown",
      "metadata": {
        "id": "OGa3hhZMZiWW"
      },
      "source": [
        "### Creando fechas y horas específicas"
      ]
    },
    {
      "cell_type": "code",
      "execution_count": 22,
      "metadata": {
        "colab": {
          "base_uri": "https://localhost:8080/"
        },
        "id": "mcHEMYAJX5gY",
        "outputId": "dbf6eb43-9e00-4646-9657-f08831222ada"
      },
      "outputs": [
        {
          "name": "stdout",
          "output_type": "stream",
          "text": [
            "2023-05-15\n"
          ]
        }
      ],
      "source": [
        "# Specific date \n",
        "\n",
        "my_date =  date(day = 15, month = 5, year = 2023)\n",
        "print(my_date)"
      ]
    },
    {
      "cell_type": "code",
      "execution_count": 23,
      "metadata": {
        "colab": {
          "base_uri": "https://localhost:8080/"
        },
        "id": "gMV7GOGNYeFF",
        "outputId": "32772d86-e9d4-4a50-e2a2-5c61a039891f"
      },
      "outputs": [
        {
          "name": "stdout",
          "output_type": "stream",
          "text": [
            "2023-05-15\n"
          ]
        }
      ],
      "source": [
        "alt_date = date(2023, 5, 15)\n",
        "print(alt_date)"
      ]
    },
    {
      "cell_type": "code",
      "execution_count": 24,
      "metadata": {
        "colab": {
          "base_uri": "https://localhost:8080/"
        },
        "id": "LqmxlDb6Yv6F",
        "outputId": "babaefa7-b08f-4cc7-b990-446434a0d9c1"
      },
      "outputs": [
        {
          "name": "stdout",
          "output_type": "stream",
          "text": [
            "12:07:06\n"
          ]
        }
      ],
      "source": [
        "# Specific time of the day\n",
        "\n",
        "my_time = time(12, 7, 6)\n",
        "print(my_time)"
      ]
    },
    {
      "cell_type": "code",
      "execution_count": 25,
      "metadata": {
        "colab": {
          "base_uri": "https://localhost:8080/"
        },
        "id": "KtNSw-tGZnE2",
        "outputId": "1f7aa348-759f-483f-fbe8-28c3ff4bf68e"
      },
      "outputs": [
        {
          "name": "stdout",
          "output_type": "stream",
          "text": [
            "2023-05-15 12:04:05\n"
          ]
        }
      ],
      "source": [
        "# Create a timestamp\n",
        "\n",
        "date_time = datetime(2023,5,15,12,4,5)\n",
        "\n",
        "print(date_time)"
      ]
    },
    {
      "cell_type": "code",
      "execution_count": 26,
      "metadata": {
        "colab": {
          "base_uri": "https://localhost:8080/"
        },
        "id": "tqtayAvGaEXs",
        "outputId": "aea5e5e4-621a-4c70-9faf-e843058dd809"
      },
      "outputs": [
        {
          "name": "stdout",
          "output_type": "stream",
          "text": [
            "2023-05-15 12:07:06\n"
          ]
        }
      ],
      "source": [
        "\n",
        "# Combinar variables date y tiempo \n",
        "\n",
        "print(datetime.combine(my_date, my_time))"
      ]
    },
    {
      "cell_type": "code",
      "execution_count": 27,
      "metadata": {
        "colab": {
          "base_uri": "https://localhost:8080/"
        },
        "id": "JPJuLfaFaVFV",
        "outputId": "a298cbc6-a261-414a-a7b9-fd8640aeaa30"
      },
      "outputs": [
        {
          "name": "stdout",
          "output_type": "stream",
          "text": [
            "5 days, 3:00:00\n"
          ]
        }
      ],
      "source": [
        "\n",
        "# Cuánto son 123 horas?\n",
        "\n",
        "hours123 = timedelta(hours = 123)\n",
        "print(hours123)"
      ]
    },
    {
      "cell_type": "code",
      "execution_count": 28,
      "metadata": {
        "colab": {
          "base_uri": "https://localhost:8080/"
        },
        "id": "NNxYNBR3a8Xl",
        "outputId": "207ca480-807d-43e3-f8fc-f19e4b9e4d82"
      },
      "outputs": [
        {
          "data": {
            "text/plain": [
              "442800.0"
            ]
          },
          "execution_count": 28,
          "metadata": {},
          "output_type": "execute_result"
        }
      ],
      "source": [
        "# Cuánto son 123 horas en segundos?\n",
        "\n",
        "hours123.total_seconds()"
      ]
    },
    {
      "attachments": {},
      "cell_type": "markdown",
      "metadata": {
        "id": "JEnXlQMcep-X"
      },
      "source": [
        "### Creando fechas y horas a partir de un _string_"
      ]
    },
    {
      "cell_type": "code",
      "execution_count": 29,
      "metadata": {
        "colab": {
          "base_uri": "https://localhost:8080/"
        },
        "id": "bKKAP_38exqF",
        "outputId": "55f440b5-e393-4efc-c91b-b730c8576b78"
      },
      "outputs": [
        {
          "name": "stdout",
          "output_type": "stream",
          "text": [
            "2021-05-03 18:25:05.346197\n",
            "Type:  <class 'datetime.datetime'>\n",
            "Type:  <class 'str'>\n"
          ]
        }
      ],
      "source": [
        "# Viene la información en formato string\n",
        "my_str_date = \"2021/05/03 18:25:05.346197\"\n",
        "\n",
        "# Create date object in given time format yyyy-mm-dd\n",
        "my_date = datetime.strptime(my_str_date, '%Y/%m/%d %H:%M:%S.%f')\n",
        "\n",
        "print(my_date)\n",
        "print('Type: ',type(my_date))\n",
        "print('Type: ',type(my_str_date))"
      ]
    },
    {
      "attachments": {},
      "cell_type": "markdown",
      "metadata": {
        "id": "g5v3-vSAem4c"
      },
      "source": [
        "<br>"
      ]
    },
    {
      "attachments": {},
      "cell_type": "markdown",
      "metadata": {
        "id": "ZOymwcvNg8eD"
      },
      "source": [
        "\n",
        "\n",
        "## Transformar y procesar datos temporales\n"
      ]
    },
    {
      "attachments": {},
      "cell_type": "markdown",
      "metadata": {},
      "source": [
        "Hasta ahora, no hemos modificado los datos que recibimos. Sin embargo, podemos hacerlo y este tipo de operaciones son bastante comunes cuando aplicamos algoritmos y modelos de series temporales. Entre los tipos de operaciones que se pueden hacer"
      ]
    },
    {
      "attachments": {},
      "cell_type": "markdown",
      "metadata": {
        "id": "mdbXxuiRiCNQ"
      },
      "source": [
        "### Modificar los componentes de la fecha"
      ]
    },
    {
      "cell_type": "code",
      "execution_count": 30,
      "metadata": {
        "colab": {
          "base_uri": "https://localhost:8080/"
        },
        "id": "EBw56bVzh65U",
        "outputId": "1d067784-017b-4f02-f57f-cc0d36e69e4b"
      },
      "outputs": [
        {
          "name": "stdout",
          "output_type": "stream",
          "text": [
            "My date and time is now: 2024-01-22 19:38:49.101057\n"
          ]
        }
      ],
      "source": [
        "datetime_today = datetime.now()\n",
        "\n",
        "print('My date and time is now: ' + str(datetime_today))"
      ]
    },
    {
      "cell_type": "code",
      "execution_count": 31,
      "metadata": {
        "colab": {
          "base_uri": "https://localhost:8080/"
        },
        "id": "Gg5uZeIViw-Q",
        "outputId": "6fb741c3-bce8-442e-8df7-6d2a5d0ba007"
      },
      "outputs": [
        {
          "name": "stdout",
          "output_type": "stream",
          "text": [
            "My date and time next year will be: 2024-01-22 19:38:49.101057\n"
          ]
        }
      ],
      "source": [
        "# Utilizando replace \n",
        "\n",
        "datetime_today_1 = datetime_today.replace(year = 2024) # se pueden utilizar otros parámetros como month, day, hour, minute, second, microsecond\n",
        "\n",
        "print('My date and time next year will be: ' + str(datetime_today_1))"
      ]
    },
    {
      "attachments": {},
      "cell_type": "markdown",
      "metadata": {
        "id": "tbGDMGaSjidZ"
      },
      "source": [
        "### Obtener atributos del tiempo"
      ]
    },
    {
      "cell_type": "code",
      "execution_count": 32,
      "metadata": {
        "colab": {
          "base_uri": "https://localhost:8080/"
        },
        "id": "I3tFKlBWjms-",
        "outputId": "6787350f-0240-40be-9e61-6b88c576d7a6"
      },
      "outputs": [
        {
          "name": "stdout",
          "output_type": "stream",
          "text": [
            "MarcaDeTiempo completa: 2024-01-22 19:38:49.101057\n",
            "Año: 2024\n",
            "Mes: 1\n",
            "Dia: 22\n",
            "Hora: 19\n",
            "Minuto: 38\n",
            "Segundo: 49\n",
            "MicroSegundo: 101057\n",
            "DiaSemana: 0\n",
            "ISO-DiaSemana: 1\n"
          ]
        }
      ],
      "source": [
        "print('MarcaDeTiempo completa: ' +  str(datetime_today))\n",
        "print('Año: ' +  str(datetime_today.year))\n",
        "print('Mes: ' +  str(datetime_today.month))\n",
        "print('Dia: ' +  str(datetime_today.day))\n",
        "print('Hora: ' +  str(datetime_today.hour))\n",
        "print('Minuto: ' +  str(datetime_today.minute))\n",
        "print('Segundo: ' +  str(datetime_today.second))\n",
        "print('MicroSegundo: ' +  str(datetime_today.microsecond))\n",
        "print('DiaSemana: ' +  str(datetime_today.weekday()))\n",
        "print('ISO-DiaSemana: ' +  str(datetime_today.isoweekday()))\n"
      ]
    },
    {
      "attachments": {},
      "cell_type": "markdown",
      "metadata": {
        "id": "D0Q3uxiTjhb_"
      },
      "source": [
        "### Modificar el formato de la fecha\n",
        "\n",
        "Esto se usa para modificar el formato de la marca de tiempo y establecer un orden y formato definido del año, mes y día."
      ]
    },
    {
      "cell_type": "code",
      "execution_count": 34,
      "metadata": {
        "colab": {
          "base_uri": "https://localhost:8080/"
        },
        "id": "PA-1h6ETl-6y",
        "outputId": "2ab72908-6206-4244-8342-28b94424aca3"
      },
      "outputs": [
        {
          "data": {
            "text/plain": [
              "'2018-29-06'"
            ]
          },
          "metadata": {},
          "output_type": "display_data"
        },
        {
          "name": "stdout",
          "output_type": "stream",
          "text": [
            "2018-06-29 00:00:00\n"
          ]
        }
      ],
      "source": [
        "date_time_str = '2018-29-06' # Formato ee.uu.\n",
        "display(date_time_str) # Se puede usar 'display' para ver dos operaciones de una misma celda\n",
        "date_time_obj = datetime.strptime(date_time_str,  '%Y-%d-%m')\n",
        "\n",
        "print(date_time_obj)"
      ]
    },
    {
      "cell_type": "code",
      "execution_count": 35,
      "metadata": {
        "colab": {
          "base_uri": "https://localhost:8080/",
          "height": 54
        },
        "id": "fRZpNmmTmUEO",
        "outputId": "942cd85a-960f-4483-c54d-f3d0db1b5f50"
      },
      "outputs": [
        {
          "data": {
            "text/plain": [
              "'29/06/2018'"
            ]
          },
          "metadata": {},
          "output_type": "display_data"
        },
        {
          "data": {
            "text/plain": [
              "'2018-06-29'"
            ]
          },
          "metadata": {},
          "output_type": "display_data"
        }
      ],
      "source": [
        "# Change '-' by '/' or the order the attributes\n",
        "\n",
        "display(datetime.strftime(date_time_obj,  '%d/%m/%Y'))\n",
        "\n",
        "display(datetime.strftime(date_time_obj,  '%Y-%m-%d'))"
      ]
    },
    {
      "attachments": {},
      "cell_type": "markdown",
      "metadata": {
        "id": "tU38ZXMRm2Eu"
      },
      "source": [
        "También se pueden extraer partes específicas de la fecha como el año, el mes, el día, etc..."
      ]
    },
    {
      "cell_type": "code",
      "execution_count": 36,
      "metadata": {
        "colab": {
          "base_uri": "https://localhost:8080/",
          "height": 124
        },
        "id": "euqXvWLTmUGN",
        "outputId": "6d19e30e-fa57-4d9c-a80f-94d18a59959c"
      },
      "outputs": [
        {
          "data": {
            "text/plain": [
              "str"
            ]
          },
          "metadata": {},
          "output_type": "display_data"
        },
        {
          "name": "stdout",
          "output_type": "stream",
          "text": [
            "year: 2024\n",
            "month: 01\n",
            "day: 22\n",
            "time: 19:48:53\n",
            "date and time: 01/22/2024, 19:48:53\n"
          ]
        }
      ],
      "source": [
        "\n",
        "now = datetime.now()\n",
        "\n",
        "year = now.strftime(\"%Y\") # year, month y day lo dejaría en formato str o int\n",
        "display(type(year))\n",
        "print(\"year:\", year)\n",
        "\n",
        "month = now.strftime(\"%m\") # M mayúscula es minuto\n",
        "print(\"month:\", month)\n",
        "\n",
        "day = now.strftime(\"%d\")\n",
        "print(\"day:\", day)\n",
        "\n",
        "time = now.strftime(\"%H:%M:%S\")\n",
        "print(\"time:\", time)\n",
        "\n",
        "date_time = now.strftime(\"%m/%d/%Y, %H:%M:%S\") # Solo este se queda en formato datetime\n",
        "print(\"date and time:\",date_time)"
      ]
    },
    {
      "attachments": {},
      "cell_type": "markdown",
      "metadata": {
        "id": "Og3IpM2WMIHp"
      },
      "source": [
        "### Operaciones de tiempo\n"
      ]
    },
    {
      "cell_type": "code",
      "execution_count": 37,
      "metadata": {
        "colab": {
          "base_uri": "https://localhost:8080/"
        },
        "id": "sxrP_pY-MMia",
        "outputId": "5e78d9bf-8cb7-4392-f437-06b774c75536"
      },
      "outputs": [
        {
          "name": "stdout",
          "output_type": "stream",
          "text": [
            "12236 days, 0:00:00\n"
          ]
        }
      ],
      "source": [
        "# Only with dates\n",
        "datediff = date.today() - date(1990,7,23)\n",
        "print(datediff)"
      ]
    },
    {
      "cell_type": "code",
      "execution_count": 38,
      "metadata": {
        "colab": {
          "base_uri": "https://localhost:8080/"
        },
        "id": "cJ-Gy-trMfrt",
        "outputId": "e3739768-5b43-459d-8e14-b4ae6a4b2433"
      },
      "outputs": [
        {
          "name": "stdout",
          "output_type": "stream",
          "text": [
            "12236 days, 7:38:44.934769\n"
          ]
        }
      ],
      "source": [
        "# Adding time \n",
        "\n",
        "datetimediff = datetime.now() - datetime(1990,7,23, 12, 13,5)\n",
        "print(datetimediff)"
      ]
    },
    {
      "cell_type": "code",
      "execution_count": 39,
      "metadata": {
        "colab": {
          "base_uri": "https://localhost:8080/"
        },
        "id": "PttJYpT-ND78",
        "outputId": "8a52fde1-fe9a-41cf-a6f9-78f6b1a13b50"
      },
      "outputs": [
        {
          "name": "stdout",
          "output_type": "stream",
          "text": [
            "The date 1000 days ago was: 2021-04-27\n",
            "past is: <class 'datetime.date'>\n"
          ]
        }
      ],
      "source": [
        "# Calculating  intervals \n",
        "\n",
        "past = date.today() - timedelta(days=1000)\n",
        "\n",
        "\n",
        "print(\"The date 1000 days ago was:\", past)\n",
        "\n",
        "print(\"past is:\", type(past))"
      ]
    },
    {
      "attachments": {},
      "cell_type": "markdown",
      "metadata": {
        "id": "3HFnnY1HOJYl"
      },
      "source": [
        "\n",
        "\n",
        "## Trabajar con fechas y tiempo en Pandas"
      ]
    },
    {
      "attachments": {},
      "cell_type": "markdown",
      "metadata": {
        "id": "nwSk7N98OX4X"
      },
      "source": [
        "### Crear secuencias"
      ]
    },
    {
      "cell_type": "code",
      "execution_count": 40,
      "metadata": {
        "colab": {
          "base_uri": "https://localhost:8080/"
        },
        "id": "-l2EoUTCOXDb",
        "outputId": "91738715-bc74-45a6-b95d-8f7fd4ad64c6"
      },
      "outputs": [
        {
          "data": {
            "text/plain": [
              "DatetimeIndex(['2023-05-15', '2023-05-16', '2023-05-17', '2023-05-18',\n",
              "               '2023-05-19'],\n",
              "              dtype='datetime64[ns]', freq='D')"
            ]
          },
          "execution_count": 40,
          "metadata": {},
          "output_type": "execute_result"
        }
      ],
      "source": [
        "# Genera secuencia de fechas con pd.date_range()\n",
        "# Frecuencia puede ser diaria, mensual, anual, etc.\n",
        "\n",
        "date_var_seq = pd.date_range('2023-05-15', periods=5, freq='D') # Sacamos 5 períodos de 5 días\n",
        "date_var_seq"
      ]
    },
    {
      "cell_type": "code",
      "execution_count": 41,
      "metadata": {
        "colab": {
          "base_uri": "https://localhost:8080/"
        },
        "id": "DeKkcvgfPKtm",
        "outputId": "1c447392-1480-40bd-bd58-7ac7289a40f5"
      },
      "outputs": [
        {
          "data": {
            "text/plain": [
              "[Timestamp('2023-05-15 00:00:00'),\n",
              " Timestamp('2023-05-16 00:00:00'),\n",
              " Timestamp('2023-05-17 00:00:00'),\n",
              " Timestamp('2023-05-18 00:00:00'),\n",
              " Timestamp('2023-05-19 00:00:00')]"
            ]
          },
          "metadata": {},
          "output_type": "display_data"
        },
        {
          "data": {
            "text/html": [
              "<div>\n",
              "<style scoped>\n",
              "    .dataframe tbody tr th:only-of-type {\n",
              "        vertical-align: middle;\n",
              "    }\n",
              "\n",
              "    .dataframe tbody tr th {\n",
              "        vertical-align: top;\n",
              "    }\n",
              "\n",
              "    .dataframe thead th {\n",
              "        text-align: right;\n",
              "    }\n",
              "</style>\n",
              "<table border=\"1\" class=\"dataframe\">\n",
              "  <thead>\n",
              "    <tr style=\"text-align: right;\">\n",
              "      <th></th>\n",
              "      <th>0</th>\n",
              "    </tr>\n",
              "  </thead>\n",
              "  <tbody>\n",
              "    <tr>\n",
              "      <th>0</th>\n",
              "      <td>2023-05-15</td>\n",
              "    </tr>\n",
              "    <tr>\n",
              "      <th>1</th>\n",
              "      <td>2023-05-16</td>\n",
              "    </tr>\n",
              "    <tr>\n",
              "      <th>2</th>\n",
              "      <td>2023-05-17</td>\n",
              "    </tr>\n",
              "    <tr>\n",
              "      <th>3</th>\n",
              "      <td>2023-05-18</td>\n",
              "    </tr>\n",
              "    <tr>\n",
              "      <th>4</th>\n",
              "      <td>2023-05-19</td>\n",
              "    </tr>\n",
              "  </tbody>\n",
              "</table>\n",
              "</div>"
            ],
            "text/plain": [
              "           0\n",
              "0 2023-05-15\n",
              "1 2023-05-16\n",
              "2 2023-05-17\n",
              "3 2023-05-18\n",
              "4 2023-05-19"
            ]
          },
          "metadata": {},
          "output_type": "display_data"
        }
      ],
      "source": [
        "# Esas secuencias se pueden convertir en otras escructuras de datos\n",
        "\n",
        "datelist = pd.date_range('2023-05-15', periods=5, freq='D').to_list()\n",
        "df_dates = pd.DataFrame(datelist)\n",
        "\n",
        "display(datelist)\n",
        "display(df_dates)"
      ]
    },
    {
      "cell_type": "code",
      "execution_count": 42,
      "metadata": {
        "colab": {
          "base_uri": "https://localhost:8080/",
          "height": 206
        },
        "id": "wY_AzrluQJmo",
        "outputId": "fb4714cd-2413-4653-8e14-3ce3ef4c7a28"
      },
      "outputs": [
        {
          "data": {
            "text/html": [
              "<div>\n",
              "<style scoped>\n",
              "    .dataframe tbody tr th:only-of-type {\n",
              "        vertical-align: middle;\n",
              "    }\n",
              "\n",
              "    .dataframe tbody tr th {\n",
              "        vertical-align: top;\n",
              "    }\n",
              "\n",
              "    .dataframe thead th {\n",
              "        text-align: right;\n",
              "    }\n",
              "</style>\n",
              "<table border=\"1\" class=\"dataframe\">\n",
              "  <thead>\n",
              "    <tr style=\"text-align: right;\">\n",
              "      <th></th>\n",
              "      <th>date_var</th>\n",
              "    </tr>\n",
              "  </thead>\n",
              "  <tbody>\n",
              "    <tr>\n",
              "      <th>0</th>\n",
              "      <td>2023-05-15</td>\n",
              "    </tr>\n",
              "    <tr>\n",
              "      <th>1</th>\n",
              "      <td>2023-05-16</td>\n",
              "    </tr>\n",
              "    <tr>\n",
              "      <th>2</th>\n",
              "      <td>2023-05-17</td>\n",
              "    </tr>\n",
              "    <tr>\n",
              "      <th>3</th>\n",
              "      <td>2023-05-18</td>\n",
              "    </tr>\n",
              "    <tr>\n",
              "      <th>4</th>\n",
              "      <td>2023-05-19</td>\n",
              "    </tr>\n",
              "  </tbody>\n",
              "</table>\n",
              "</div>"
            ],
            "text/plain": [
              "    date_var\n",
              "0 2023-05-15\n",
              "1 2023-05-16\n",
              "2 2023-05-17\n",
              "3 2023-05-18\n",
              "4 2023-05-19"
            ]
          },
          "metadata": {},
          "output_type": "display_data"
        }
      ],
      "source": [
        "display(pd.DataFrame(datelist, columns = ['date_var']))"
      ]
    },
    {
      "cell_type": "code",
      "execution_count": 43,
      "metadata": {
        "colab": {
          "base_uri": "https://localhost:8080/",
          "height": 220
        },
        "id": "wTGhRtuVQWdz",
        "outputId": "407cdd9c-4963-4d01-8d5e-859ee36e33b5"
      },
      "outputs": [
        {
          "data": {
            "text/html": [
              "<div>\n",
              "<style scoped>\n",
              "    .dataframe tbody tr th:only-of-type {\n",
              "        vertical-align: middle;\n",
              "    }\n",
              "\n",
              "    .dataframe tbody tr th {\n",
              "        vertical-align: top;\n",
              "    }\n",
              "\n",
              "    .dataframe thead th {\n",
              "        text-align: right;\n",
              "    }\n",
              "</style>\n",
              "<table border=\"1\" class=\"dataframe\">\n",
              "  <thead>\n",
              "    <tr style=\"text-align: right;\">\n",
              "      <th></th>\n",
              "    </tr>\n",
              "    <tr>\n",
              "      <th>date_var</th>\n",
              "    </tr>\n",
              "  </thead>\n",
              "  <tbody>\n",
              "    <tr>\n",
              "      <th>2023-05-15</th>\n",
              "    </tr>\n",
              "    <tr>\n",
              "      <th>2023-05-16</th>\n",
              "    </tr>\n",
              "    <tr>\n",
              "      <th>2023-05-17</th>\n",
              "    </tr>\n",
              "    <tr>\n",
              "      <th>2023-05-18</th>\n",
              "    </tr>\n",
              "    <tr>\n",
              "      <th>2023-05-19</th>\n",
              "    </tr>\n",
              "  </tbody>\n",
              "</table>\n",
              "</div>"
            ],
            "text/plain": [
              "Empty DataFrame\n",
              "Columns: []\n",
              "Index: [2023-05-15 00:00:00, 2023-05-16 00:00:00, 2023-05-17 00:00:00, 2023-05-18 00:00:00, 2023-05-19 00:00:00]"
            ]
          },
          "execution_count": 43,
          "metadata": {},
          "output_type": "execute_result"
        }
      ],
      "source": [
        "df = pd.DataFrame(datelist, columns = ['date_var']) \n",
        "# Para hacer date_var índice\n",
        "df.set_index('date_var', inplace=True) # usando drop=False se mantiene la columna como variable\n",
        "df"
      ]
    },
    {
      "attachments": {},
      "cell_type": "markdown",
      "metadata": {
        "id": "ZF1LSQ04SHGN"
      },
      "source": [
        "<font color='orange'>\n",
        "\n",
        "### Ejercicio\n",
        "\n",
        "Vamos a crear un _data frame_ que contenga 100 marcas de tiempo por hora a partir de hoy en adelante referidas a dos zonas horarias diferentes: `UTC` y `US/Eastern`. Luego seleccione las observaciones donde el día es el mismo para ambas zonas horarias\n",
        "\n",
        "*Pista*: Considera `tz_localize` y `tz_convert` para tus operaciones. Trabaja con series en lugar de índices. \n",
        "</b> </font>"
      ]
    },
    {
      "cell_type": "code",
      "execution_count": 47,
      "metadata": {},
      "outputs": [
        {
          "data": {
            "text/html": [
              "<div>\n",
              "<style scoped>\n",
              "    .dataframe tbody tr th:only-of-type {\n",
              "        vertical-align: middle;\n",
              "    }\n",
              "\n",
              "    .dataframe tbody tr th {\n",
              "        vertical-align: top;\n",
              "    }\n",
              "\n",
              "    .dataframe thead th {\n",
              "        text-align: right;\n",
              "    }\n",
              "</style>\n",
              "<table border=\"1\" class=\"dataframe\">\n",
              "  <thead>\n",
              "    <tr style=\"text-align: right;\">\n",
              "      <th></th>\n",
              "      <th>utc</th>\n",
              "      <th>est</th>\n",
              "    </tr>\n",
              "  </thead>\n",
              "  <tbody>\n",
              "    <tr>\n",
              "      <th>5</th>\n",
              "      <td>2024-01-22 05:00:00+00:00</td>\n",
              "      <td>2024-01-22 00:00:00-05:00</td>\n",
              "    </tr>\n",
              "    <tr>\n",
              "      <th>6</th>\n",
              "      <td>2024-01-22 06:00:00+00:00</td>\n",
              "      <td>2024-01-22 01:00:00-05:00</td>\n",
              "    </tr>\n",
              "    <tr>\n",
              "      <th>7</th>\n",
              "      <td>2024-01-22 07:00:00+00:00</td>\n",
              "      <td>2024-01-22 02:00:00-05:00</td>\n",
              "    </tr>\n",
              "    <tr>\n",
              "      <th>8</th>\n",
              "      <td>2024-01-22 08:00:00+00:00</td>\n",
              "      <td>2024-01-22 03:00:00-05:00</td>\n",
              "    </tr>\n",
              "    <tr>\n",
              "      <th>9</th>\n",
              "      <td>2024-01-22 09:00:00+00:00</td>\n",
              "      <td>2024-01-22 04:00:00-05:00</td>\n",
              "    </tr>\n",
              "    <tr>\n",
              "      <th>...</th>\n",
              "      <td>...</td>\n",
              "      <td>...</td>\n",
              "    </tr>\n",
              "    <tr>\n",
              "      <th>91</th>\n",
              "      <td>2024-01-25 19:00:00+00:00</td>\n",
              "      <td>2024-01-25 14:00:00-05:00</td>\n",
              "    </tr>\n",
              "    <tr>\n",
              "      <th>92</th>\n",
              "      <td>2024-01-25 20:00:00+00:00</td>\n",
              "      <td>2024-01-25 15:00:00-05:00</td>\n",
              "    </tr>\n",
              "    <tr>\n",
              "      <th>93</th>\n",
              "      <td>2024-01-25 21:00:00+00:00</td>\n",
              "      <td>2024-01-25 16:00:00-05:00</td>\n",
              "    </tr>\n",
              "    <tr>\n",
              "      <th>94</th>\n",
              "      <td>2024-01-25 22:00:00+00:00</td>\n",
              "      <td>2024-01-25 17:00:00-05:00</td>\n",
              "    </tr>\n",
              "    <tr>\n",
              "      <th>95</th>\n",
              "      <td>2024-01-25 23:00:00+00:00</td>\n",
              "      <td>2024-01-25 18:00:00-05:00</td>\n",
              "    </tr>\n",
              "  </tbody>\n",
              "</table>\n",
              "<p>76 rows × 2 columns</p>\n",
              "</div>"
            ],
            "text/plain": [
              "                         utc                       est\n",
              "5  2024-01-22 05:00:00+00:00 2024-01-22 00:00:00-05:00\n",
              "6  2024-01-22 06:00:00+00:00 2024-01-22 01:00:00-05:00\n",
              "7  2024-01-22 07:00:00+00:00 2024-01-22 02:00:00-05:00\n",
              "8  2024-01-22 08:00:00+00:00 2024-01-22 03:00:00-05:00\n",
              "9  2024-01-22 09:00:00+00:00 2024-01-22 04:00:00-05:00\n",
              "..                       ...                       ...\n",
              "91 2024-01-25 19:00:00+00:00 2024-01-25 14:00:00-05:00\n",
              "92 2024-01-25 20:00:00+00:00 2024-01-25 15:00:00-05:00\n",
              "93 2024-01-25 21:00:00+00:00 2024-01-25 16:00:00-05:00\n",
              "94 2024-01-25 22:00:00+00:00 2024-01-25 17:00:00-05:00\n",
              "95 2024-01-25 23:00:00+00:00 2024-01-25 18:00:00-05:00\n",
              "\n",
              "[76 rows x 2 columns]"
            ]
          },
          "execution_count": 47,
          "metadata": {},
          "output_type": "execute_result"
        }
      ],
      "source": [
        "# Tu código va aquí\n",
        "time_var_seq= pd.date_range('2024-01-22', periods=100, freq='H')\n",
        "\n",
        "time_series= pd.Series(time_var_seq)\n",
        "\n",
        "time_series_utc= time_series.dt.tz_localize('UTC')\n",
        "\n",
        "time_series_est= time_series_utc.dt.tz_convert('US/Eastern')\n",
        "\n",
        "df_dates= pd.DataFrame({'utc':time_series_utc,\n",
        "                        'est': time_series_est})\n",
        "\n",
        "df_dates.loc[df_dates['utc'].dt.day == df_dates['est'].dt.day]\n"
      ]
    },
    {
      "attachments": {},
      "cell_type": "markdown",
      "metadata": {
        "id": "GuEO3iARVvWL"
      },
      "source": [
        "### Cargar información de fuentes externas"
      ]
    },
    {
      "cell_type": "code",
      "execution_count": 68,
      "metadata": {
        "id": "rFSEMh1zVyzp"
      },
      "outputs": [],
      "source": [
        "link = 'https://gist.githubusercontent.com/s2t2/04484ca6fcf36d9660e5/raw/d9964e04193b7fba938b750bcf107bfcfb07bc86/amzn.csv'\n",
        "\n",
        "#import ssl\n",
        "#ssl._create_default_https_context = ssl._create_unverified_context"
      ]
    },
    {
      "cell_type": "code",
      "execution_count": null,
      "metadata": {
        "colab": {
          "base_uri": "https://localhost:8080/",
          "height": 353
        },
        "id": "RmA3Rt2iV_r3",
        "outputId": "fb9965a9-8e75-494f-c68a-939913170ef4"
      },
      "outputs": [],
      "source": [
        "df_amzn = pd.read_csv(link)\n",
        "display(df_amzn.head(4))\n",
        "display(df_amzn.info())"
      ]
    },
    {
      "cell_type": "code",
      "execution_count": null,
      "metadata": {
        "colab": {
          "base_uri": "https://localhost:8080/",
          "height": 143
        },
        "id": "NiO9SPnnWIzr",
        "outputId": "49e37bff-a803-4004-ae79-71e7301a5e01"
      },
      "outputs": [],
      "source": [
        "# Sort by date\n",
        "df_amzn= df_amzn.sort_values(by = 'date').reset_index(drop = True)\n",
        "df_amzn.head(3)"
      ]
    },
    {
      "attachments": {},
      "cell_type": "markdown",
      "metadata": {
        "id": "yH828uipXv0x"
      },
      "source": [
        "### Transformar a datos temporales"
      ]
    },
    {
      "attachments": {},
      "cell_type": "markdown",
      "metadata": {
        "id": "vvNJCT6GXDq9"
      },
      "source": [
        "`date` es un objeto que no está interpretado como fecha. Necesitamos convertirlo a `datetime`. \n"
      ]
    },
    {
      "cell_type": "code",
      "execution_count": null,
      "metadata": {
        "colab": {
          "base_uri": "https://localhost:8080/",
          "height": 384
        },
        "id": "wCJU0WbJXRQZ",
        "outputId": "17231c1b-5d5b-498f-dbd6-b64e3b6b04a8"
      },
      "outputs": [],
      "source": [
        "df_amzn['date'] = pd.to_datetime(df_amzn['date'] )\n",
        "display(df_amzn.head(5))\n",
        "display(df_amzn.info())\n"
      ]
    },
    {
      "attachments": {},
      "cell_type": "markdown",
      "metadata": {
        "id": "YSTCrxw9X8kx"
      },
      "source": [
        "### Fijar el índice de fecha\n",
        "\n",
        "Usando la variable fecha como índice. Esto es útil para gestionar series temporales."
      ]
    },
    {
      "cell_type": "code",
      "execution_count": null,
      "metadata": {
        "colab": {
          "base_uri": "https://localhost:8080/",
          "height": 175
        },
        "id": "wnUKYNFJXCvE",
        "outputId": "915a7bc1-1f8d-4740-ecf7-8b96ad3d3657"
      },
      "outputs": [],
      "source": [
        "df_amzn = df_amzn.set_index('date')\n",
        "df_amzn.head(3)"
      ]
    },
    {
      "cell_type": "code",
      "execution_count": 211,
      "metadata": {
        "colab": {
          "base_uri": "https://localhost:8080/"
        },
        "id": "EXlJo_iyYuYD",
        "outputId": "cfe3ed33-04b7-46aa-ae6f-91779ea6b9dd"
      },
      "outputs": [],
      "source": [
        "# What is the index?\n",
        "\n",
        "df_amzn.index[0:5] # First 5 observations"
      ]
    },
    {
      "attachments": {},
      "cell_type": "markdown",
      "metadata": {
        "id": "rN3XPQaPZpvQ"
      },
      "source": [
        "### Filtrar información basada en tiempo"
      ]
    },
    {
      "cell_type": "code",
      "execution_count": null,
      "metadata": {
        "colab": {
          "base_uri": "https://localhost:8080/",
          "height": 554
        },
        "id": "qNV1hU4UZufK",
        "outputId": "5aa131dc-8702-4196-e790-9b8927103386"
      },
      "outputs": [],
      "source": [
        "display(df_amzn.head(10))\n",
        "display(df_amzn.info())"
      ]
    },
    {
      "cell_type": "code",
      "execution_count": null,
      "metadata": {
        "colab": {
          "base_uri": "https://localhost:8080/",
          "height": 175
        },
        "id": "vkb8zPIXaM6p",
        "outputId": "5e671bda-7f2b-4360-a241-1ad339e02ae6"
      },
      "outputs": [],
      "source": [
        "# Revisa los datos\n",
        "\n",
        "df_amzn.sort_values(by = 'date').loc['2012'].head(3)"
      ]
    },
    {
      "cell_type": "code",
      "execution_count": null,
      "metadata": {
        "colab": {
          "base_uri": "https://localhost:8080/",
          "height": 175
        },
        "id": "hYNjXlJkaixq",
        "outputId": "0334e02e-a5fa-4123-f435-bfc266a58054"
      },
      "outputs": [],
      "source": [
        "# Selecciona los tres primeros datos del mes de mayo de 2012\n",
        "df_amzn.sort_index().loc['2012-05'].head(3)"
      ]
    },
    {
      "cell_type": "code",
      "execution_count": null,
      "metadata": {
        "colab": {
          "base_uri": "https://localhost:8080/",
          "height": 458
        },
        "id": "adzoSAMCa2rY",
        "outputId": "499dd9be-0316-4cfe-e500-d048ce39076b"
      },
      "outputs": [],
      "source": [
        "# Info de Febrero\n",
        "\n",
        "display(df_amzn[df_amzn.index.month == 2].sort_index().head(5))\n",
        "display(df_amzn[df_amzn.index.month == 2].sort_index().tail(5))\n",
        "\n",
        "# Select info from February 2012 \n",
        "\n",
        "display(df_amzn[(df_amzn.index.month == 2) & (df_amzn.index.year == 2012)].sort_index().head(5))\n"
      ]
    },
    {
      "attachments": {},
      "cell_type": "markdown",
      "metadata": {
        "id": "OyJrgafvb35U"
      },
      "source": [
        "Los filtros se pueden hacer considerando dos fechas diferentes (marcas de tiempo) usando `between`"
      ]
    },
    {
      "cell_type": "code",
      "execution_count": null,
      "metadata": {
        "colab": {
          "base_uri": "https://localhost:8080/",
          "height": 175
        },
        "id": "o6OiUZMlb3JA",
        "outputId": "eb2de7b3-67b2-4172-8fc1-aa0e345bf18d"
      },
      "outputs": [],
      "source": [
        "# Get the close values from 2 February 2014 to 6 Februrary 2014\n",
        "\n",
        "df_amzn = df_amzn.sort_index()\n",
        "df_amzn_date = df_amzn.reset_index()\n",
        "df_amzn_date[df_amzn_date['date'].between('2014-02-02', '2014-02-06')]"
      ]
    },
    {
      "attachments": {},
      "cell_type": "markdown",
      "metadata": {
        "id": "R1cv2KTGduxf"
      },
      "source": [
        "### Obtener los atributos de fecha"
      ]
    },
    {
      "attachments": {},
      "cell_type": "markdown",
      "metadata": {
        "id": "jZYjXjmtdzCS"
      },
      "source": [
        "Esta es una opción interesante para la ingeniería de características en series temporales."
      ]
    },
    {
      "cell_type": "code",
      "execution_count": null,
      "metadata": {
        "colab": {
          "base_uri": "https://localhost:8080/",
          "height": 143
        },
        "id": "TJN57uW5d4Pa",
        "outputId": "b18bae14-99bb-441a-f100-0fa9ff4fe648"
      },
      "outputs": [],
      "source": [
        "df = pd.date_range(end='2020-06-02', periods=70, freq='10min').to_frame(index = False).rename(columns = {0:'date_col'})\n",
        "\n",
        "df.head(3)"
      ]
    },
    {
      "cell_type": "code",
      "execution_count": null,
      "metadata": {
        "colab": {
          "base_uri": "https://localhost:8080/",
          "height": 206
        },
        "id": "PRI4ZNsAeCO4",
        "outputId": "be8e7507-5bab-4a5b-8504-5c1de3cb174b"
      },
      "outputs": [],
      "source": [
        "# Create time features\n",
        "\n",
        "df['year'] = df.date_col.dt.year\n",
        "df['month'] = df.date_col.dt.month\n",
        "df['day'] = df.date_col.dt.day\n",
        "df['hour'] = df.date_col.dt.hour\n",
        "df['minute'] = df.date_col.dt.minute\n",
        "df['second'] = df.date_col.dt.second\n",
        "df['microsecond'] = df.date_col.dt.microsecond\n",
        "df.head(5)"
      ]
    },
    {
      "cell_type": "code",
      "execution_count": null,
      "metadata": {
        "colab": {
          "base_uri": "https://localhost:8080/"
        },
        "id": "0pFHHQ9leKVi",
        "outputId": "984dc106-3d0e-472d-9ef5-dc4f4daabfbb"
      },
      "outputs": [],
      "source": [
        "df.info()"
      ]
    },
    {
      "cell_type": "code",
      "execution_count": null,
      "metadata": {
        "colab": {
          "base_uri": "https://localhost:8080/",
          "height": 206
        },
        "id": "8BBiSAZNeQae",
        "outputId": "a59b0d0f-5b0f-4dcf-a165-21a239d51e7d"
      },
      "outputs": [],
      "source": [
        "df['weekday'] = df.date_col.dt.weekday\n",
        "df.head(5)"
      ]
    },
    {
      "attachments": {},
      "cell_type": "markdown",
      "metadata": {
        "id": "iNmEtFuMjyB6"
      },
      "source": [
        "### Operaciones agrupadas"
      ]
    },
    {
      "attachments": {},
      "cell_type": "markdown",
      "metadata": {
        "id": "No2HLmFfphwy"
      },
      "source": [
        "Se pueden realizar operaciones agrupadas usando `pd.Grouper`. [Aquí](https://pandas.pydata.org/docs/reference/api/pandas.Grouper.html) se encuentran todas las formas con las que se puede agrupar."
      ]
    },
    {
      "cell_type": "code",
      "execution_count": null,
      "metadata": {
        "colab": {
          "base_uri": "https://localhost:8080/"
        },
        "id": "6Z6o_FGveUjL",
        "outputId": "4961020e-ef79-4b40-8053-28e06ad8a737"
      },
      "outputs": [],
      "source": [
        "# Estadísiticas mensuales y trimestrales\n",
        "\n",
        "print(\"Estadísticas mensuales: \\n \\n \", df_amzn.groupby(pd.Grouper(freq='M')).agg([len, sum, np.mean, np.std]).head(3))\n",
        "\n",
        "print( '---------------------------------------- \\n' \n",
        "       '----------------------------------------')\n",
        "\n",
        "print(\"Sumas trimestrales: \\n \\n \", df_amzn.groupby(pd.Grouper(freq='3M')).sum().head(3))\n",
        "\n"
      ]
    },
    {
      "attachments": {},
      "cell_type": "markdown",
      "metadata": {
        "id": "41MKAKXS17RL"
      },
      "source": [
        "### Operaciones a través de filas\n"
      ]
    },
    {
      "attachments": {},
      "cell_type": "markdown",
      "metadata": {
        "id": "e7LPoEt22ErC"
      },
      "source": [
        "Estas operaciones son claves para el cálculo de la estacionariedad utilizando `shift()`"
      ]
    },
    {
      "cell_type": "code",
      "execution_count": null,
      "metadata": {
        "colab": {
          "base_uri": "https://localhost:8080/",
          "height": 455
        },
        "id": "BiwVGU6y2ATs",
        "outputId": "15e9c323-5c6e-40a4-bda0-255f74ea187c"
      },
      "outputs": [],
      "source": [
        "# Create a variable with the previous observation\n",
        "\n",
        "df_amzn['close_previous'] = df_amzn['close'].shift()\n",
        "df_amzn"
      ]
    },
    {
      "cell_type": "code",
      "execution_count": null,
      "metadata": {
        "colab": {
          "base_uri": "https://localhost:8080/",
          "height": 455
        },
        "id": "AkZf7VrO2U-g",
        "outputId": "5b364a8f-5ba9-4b21-98eb-f548dc8bd830"
      },
      "outputs": [],
      "source": [
        "# Create a variable with the next observation\n",
        "\n",
        "df_amzn['close_next'] = df_amzn['close'].shift(periods = -1)\n",
        "df_amzn"
      ]
    },
    {
      "cell_type": "code",
      "execution_count": null,
      "metadata": {
        "colab": {
          "base_uri": "https://localhost:8080/",
          "height": 206
        },
        "id": "d7nMW1jSGT9O",
        "outputId": "6ced201d-83f3-4134-a4c9-fcd8077dcd35"
      },
      "outputs": [],
      "source": [
        " # Calculate differences between observation of a variable\n",
        "\n",
        "df_amzn['diff'] = df_amzn.close.diff()\n",
        "df_amzn[['close', 'diff']].head(4) "
      ]
    },
    {
      "cell_type": "code",
      "execution_count": null,
      "metadata": {
        "id": "4hyauEmmHNa5"
      },
      "outputs": [],
      "source": [
        "# Calculate the difference between each two rows\n",
        "\n",
        "df_amzn['diff_2'] = df_amzn.close.diff(2)\n",
        "df_amzn[['close', 'diff_2']].head(4)\n"
      ]
    },
    {
      "cell_type": "code",
      "execution_count": null,
      "metadata": {
        "colab": {
          "base_uri": "https://localhost:8080/",
          "height": 206
        },
        "id": "pVwheYkBIOqC",
        "outputId": "3f1aa4fe-5c69-494e-fd98-f8a4cf5035c8"
      },
      "outputs": [],
      "source": [
        "# Calculate the percentage changes \n",
        "\n",
        "df_amzn['pct_change']  = df_amzn.sort_index().close.pct_change()\n",
        "df_amzn[['close', 'diff','pct_change']].head(4)\n"
      ]
    },
    {
      "cell_type": "code",
      "execution_count": null,
      "metadata": {
        "colab": {
          "base_uri": "https://localhost:8080/",
          "height": 331
        },
        "id": "_NiJbvCCIcdi",
        "outputId": "69452695-34c2-40d2-c8ba-e8ec166a449d"
      },
      "outputs": [],
      "source": [
        "# Operations considering a time window \n",
        "# Example: Sum within a period of 3 days\n",
        "\n",
        "df_amzn['wdow'] = df_amzn.close.rolling(window=3).sum()\n",
        "df_amzn[['close', 'wdow']].head(8)"
      ]
    },
    {
      "attachments": {},
      "cell_type": "markdown",
      "metadata": {
        "id": "758S6iyBWHnh"
      },
      "source": [
        "\n",
        "\n",
        "## Visualización de datos temporales"
      ]
    },
    {
      "cell_type": "code",
      "execution_count": 11,
      "metadata": {
        "id": "icL0NijaWlqw"
      },
      "outputs": [],
      "source": [
        "import plotly.express as px\n",
        "import plotly.graph_objects as go\n",
        "import plotly.figure_factory as ff\n",
        "import seaborn as sns\n",
        "import pandas as pd"
      ]
    },
    {
      "attachments": {},
      "cell_type": "markdown",
      "metadata": {
        "id": "tmTtN7WqW7fq"
      },
      "source": [
        "### Histogramas"
      ]
    },
    {
      "attachments": {},
      "cell_type": "markdown",
      "metadata": {
        "id": "TxWH0iaNW8w5"
      },
      "source": [
        "Este gráfico es bueno para comprobar cómo se distribuyen los datos. Atención a los valores atípicos"
      ]
    },
    {
      "cell_type": "code",
      "execution_count": null,
      "metadata": {
        "colab": {
          "base_uri": "https://localhost:8080/",
          "height": 542
        },
        "id": "WrSQNh1AWx2k",
        "outputId": "f192757c-eac1-4a92-f7bc-7adaf2fbc264"
      },
      "outputs": [],
      "source": [
        "\n",
        "px.histogram(df_amzn['close'])"
      ]
    },
    {
      "attachments": {},
      "cell_type": "markdown",
      "metadata": {
        "id": "dcyUMqe1XWDe"
      },
      "source": [
        "\n",
        "Los histogramas se pueden personalizar para proporcionar más detalles sobre la muestra"
      ]
    },
    {
      "cell_type": "code",
      "execution_count": null,
      "metadata": {
        "colab": {
          "base_uri": "https://localhost:8080/",
          "height": 542
        },
        "id": "0QbNyhfoXCfT",
        "outputId": "c95734dc-bd6d-4b8b-8f61-a0a9e196ea4d"
      },
      "outputs": [],
      "source": [
        "fig = px.histogram(df_amzn.close,\n",
        "                   nbins = 1000,\n",
        "                   histnorm = 'percent',\n",
        "                   marginal = 'box',\n",
        "                  title = '<b>Amazon Stocks</b> - Histogram')\n",
        "fig.update_layout(showlegend=False)\n",
        "fig.update_xaxes(title='Value of Amazon Stock', row=1, col=1)"
      ]
    },
    {
      "attachments": {},
      "cell_type": "markdown",
      "metadata": {
        "id": "02wyX5DCX9Jo"
      },
      "source": [
        "### Gráficos de líneas\n",
        "\n",
        "Buenos gráficos para representar la tendencia de la variable en el tiempo. La variable de fecha normalmente se suele situar en el eje X."
      ]
    },
    {
      "cell_type": "code",
      "execution_count": null,
      "metadata": {
        "colab": {
          "base_uri": "https://localhost:8080/",
          "height": 542
        },
        "id": "xHUgu7CIYFQo",
        "outputId": "2a767a1d-79a4-412e-b618-15afff862936"
      },
      "outputs": [],
      "source": [
        "fig = px.line(df_amzn['close'])\n",
        "fig"
      ]
    },
    {
      "cell_type": "code",
      "execution_count": null,
      "metadata": {
        "colab": {
          "base_uri": "https://localhost:8080/",
          "height": 542
        },
        "id": "rW4Opr3LYiPf",
        "outputId": "889f4000-d5ec-49b4-a984-54504e4230a1"
      },
      "outputs": [],
      "source": [
        "px.area(df_amzn['close'])\n"
      ]
    },
    {
      "attachments": {},
      "cell_type": "markdown",
      "metadata": {
        "id": "67G3SfN9YzJQ"
      },
      "source": [
        "### Gráficos agrupados"
      ]
    },
    {
      "cell_type": "code",
      "execution_count": null,
      "metadata": {
        "colab": {
          "base_uri": "https://localhost:8080/",
          "height": 237
        },
        "id": "-KB4m4LUY2X8",
        "outputId": "e1b21dad-5993-40f5-e3be-a665012c8b13"
      },
      "outputs": [],
      "source": [
        "df_amzn = df_amzn[['close']]\n",
        "df_amzn.head()"
      ]
    },
    {
      "cell_type": "code",
      "execution_count": null,
      "metadata": {
        "colab": {
          "base_uri": "https://localhost:8080/"
        },
        "id": "RG1hUjsyZyXc",
        "outputId": "8dfa324b-24ea-46e5-c080-b07665a47386"
      },
      "outputs": [],
      "source": [
        "df_amzn.info()"
      ]
    },
    {
      "cell_type": "code",
      "execution_count": null,
      "metadata": {
        "colab": {
          "base_uri": "https://localhost:8080/",
          "height": 206
        },
        "id": "tNFEqcOGaWUO",
        "outputId": "70587f65-6111-44a2-d666-11f257433946"
      },
      "outputs": [],
      "source": [
        "df_amzn['date'] =pd.to_datetime(df_amzn['date'])\n",
        "df_amzn.head(5)"
      ]
    },
    {
      "cell_type": "code",
      "execution_count": null,
      "metadata": {
        "id": "o-ODmPUVbsKq"
      },
      "outputs": [],
      "source": [
        "df_amzn['wday'] = df_amzn.date.dt.day_name()"
      ]
    },
    {
      "cell_type": "code",
      "execution_count": null,
      "metadata": {
        "colab": {
          "base_uri": "https://localhost:8080/",
          "height": 237
        },
        "id": "l4sJ8OiPYZRm",
        "outputId": "e5dbe38d-ba5a-4f96-d01e-4a5338786fde"
      },
      "outputs": [],
      "source": [
        "\n",
        "wday_df = df_amzn[['wday', 'close']].groupby('wday').sum()\n",
        "display(wday_df)\n",
        "\n",
        "wday_df = wday_df.reset_index()\n",
        "\n"
      ]
    },
    {
      "cell_type": "markdown",
      "metadata": {},
      "source": [
        "\n",
        " <font color='orange'>\n",
        "\n",
        "## Ejercicio\n",
        "\n",
        "\n",
        "Importa el enlace a continuación y configura el campo de fecha como un índice de fecha. Obtén estadísticas descriptivas y haz un gráfico con los días de la semana ordenados de más a menos nacimientos. También calcula el porcentaje de cambio de nacimientos con respecto al día anterior.\n",
        "\n",
        "</b> </font>"
      ]
    },
    {
      "cell_type": "code",
      "execution_count": null,
      "metadata": {},
      "outputs": [],
      "source": [
        "link_births = 'https://raw.githubusercontent.com/jbrownlee/Datasets/master/daily-total-female-births.csv'"
      ]
    }
  ],
  "metadata": {
    "colab": {
      "provenance": [],
      "toc_visible": true
    },
    "interpreter": {
      "hash": "806d0bd8a3daab10f37375710f3c2a5f128ac04fbb781fc63ec085ca330a45fd"
    },
    "kernelspec": {
      "display_name": "Python 3 (ipykernel)",
      "language": "python",
      "name": "python3"
    },
    "language_info": {
      "codemirror_mode": {
        "name": "ipython",
        "version": 3
      },
      "file_extension": ".py",
      "mimetype": "text/x-python",
      "name": "python",
      "nbconvert_exporter": "python",
      "pygments_lexer": "ipython3",
      "version": "3.11.5"
    }
  },
  "nbformat": 4,
  "nbformat_minor": 0
}
