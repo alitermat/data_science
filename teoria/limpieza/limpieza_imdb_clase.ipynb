{
 "cells": [
  {
   "cell_type": "markdown",
   "metadata": {},
   "source": [
    "# Limpieza de datos para crear gráficos descriptivos y modelo de ML\n",
    "\n",
    "Nos dan un dataset con información relativa da distintas películas y el número de likes que han recibido en Facebook y Twitter. Nos piden:\n",
    "\n",
    "1. Preparar el dataset para crear un modelo de ML que nos permita predecir el número de likes a partir de las características de las películas.\n",
    "2. Además del modelo, necesitaremos presentar algunos gráficos a nuestros stakeholders. Es necesario que la data este preparada para ello.\n",
    "3. Identificar problemas graves en la data y comunicarlos lo antes posible.\n",
    "4. Adicionalmente, nuestro stakeholder tiene \"curiosidad\" por algunas cifras:\n",
    "    - Actores más repetidos en el dataset\n",
    "    - Géneros de películas más comunes\n",
    "    - Relación entre presupuesto y recaudación\n",
    "\n",
    "## Diccionario de datos\n",
    "\n",
    "Esta es la información provista:\n",
    "\n",
    "- **color**: Variable categórica que representa si la película es a color on en blanco y negro. \n",
    "- **director_name**: Nombre del director.\n",
    "- **duration**: Duración de la película.\n",
    "- **gross**: Recaudación en taquilla de la película.\n",
    "- **genres**: Géneros de la película.\n",
    "- **movie_title**: Título de la película.\n",
    "- **title_year**: Año de lanzamiento de la película.\n",
    "- **language**: Idioma de la película.\n",
    "- **country**: País de origen de la película.\n",
    "- **budget**: Presupuesto de la película.\n",
    "- **imdb_score**: Valoración en IMDB.\n",
    "- **actors**: Actores de la película.\n",
    "- **movie_facebook_likes**: Likes recibidos en Facebook.\n",
    "- **movie_twitter_likes**: Likes recibidos en twitter."
   ]
  },
  {
   "cell_type": "markdown",
   "metadata": {},
   "source": [
    "## Leer datos"
   ]
  },
  {
   "cell_type": "code",
   "execution_count": 1,
   "metadata": {},
   "outputs": [],
   "source": [
    "import pandas as pd\n",
    "import numpy as np\n",
    "\n",
    "df_imdb = pd.read_csv(\"data/imdb_clase.csv\", sep=\";\", index_col=0)"
   ]
  },
  {
   "cell_type": "code",
   "execution_count": 2,
   "metadata": {},
   "outputs": [
    {
     "data": {
      "text/html": [
       "<div>\n",
       "<style scoped>\n",
       "    .dataframe tbody tr th:only-of-type {\n",
       "        vertical-align: middle;\n",
       "    }\n",
       "\n",
       "    .dataframe tbody tr th {\n",
       "        vertical-align: top;\n",
       "    }\n",
       "\n",
       "    .dataframe thead th {\n",
       "        text-align: right;\n",
       "    }\n",
       "</style>\n",
       "<table border=\"1\" class=\"dataframe\">\n",
       "  <thead>\n",
       "    <tr style=\"text-align: right;\">\n",
       "      <th></th>\n",
       "      <th>42</th>\n",
       "      <th>62</th>\n",
       "      <th>45</th>\n",
       "      <th>21</th>\n",
       "      <th>82</th>\n",
       "    </tr>\n",
       "  </thead>\n",
       "  <tbody>\n",
       "    <tr>\n",
       "      <th>color</th>\n",
       "      <td>Color</td>\n",
       "      <td>Color</td>\n",
       "      <td>Black and White</td>\n",
       "      <td>Color</td>\n",
       "      <td>Color</td>\n",
       "    </tr>\n",
       "    <tr>\n",
       "      <th>director_name</th>\n",
       "      <td>Michael Patrick King</td>\n",
       "      <td>Timur Bekmambetov</td>\n",
       "      <td>Steven Spielberg</td>\n",
       "      <td>Tom Hooper</td>\n",
       "      <td>NaN</td>\n",
       "    </tr>\n",
       "    <tr>\n",
       "      <th>duration</th>\n",
       "      <td>146</td>\n",
       "      <td>141</td>\n",
       "      <td>146</td>\n",
       "      <td>158</td>\n",
       "      <td>137</td>\n",
       "    </tr>\n",
       "    <tr>\n",
       "      <th>gross</th>\n",
       "      <td>$95,328,937.00</td>\n",
       "      <td>$nan</td>\n",
       "      <td>$79,883,359.00</td>\n",
       "      <td>$148,775,460.00</td>\n",
       "      <td>$37,304,950.00</td>\n",
       "    </tr>\n",
       "    <tr>\n",
       "      <th>genres</th>\n",
       "      <td>Comedy|Drama|Romance</td>\n",
       "      <td>Adventure|Drama|History</td>\n",
       "      <td>Drama|War</td>\n",
       "      <td>Drama|Musical|Romance</td>\n",
       "      <td>Biography|Crime|Drama</td>\n",
       "    </tr>\n",
       "    <tr>\n",
       "      <th>movie_title</th>\n",
       "      <td>sex and the city 2</td>\n",
       "      <td>ben-hur</td>\n",
       "      <td>war horse</td>\n",
       "      <td>les misérables</td>\n",
       "      <td>j. edgar</td>\n",
       "    </tr>\n",
       "    <tr>\n",
       "      <th>title_year</th>\n",
       "      <td>2010</td>\n",
       "      <td>2016</td>\n",
       "      <td>2011</td>\n",
       "      <td>2012</td>\n",
       "      <td>2011</td>\n",
       "    </tr>\n",
       "    <tr>\n",
       "      <th>language</th>\n",
       "      <td>English</td>\n",
       "      <td>English</td>\n",
       "      <td>English</td>\n",
       "      <td>English</td>\n",
       "      <td>English</td>\n",
       "    </tr>\n",
       "    <tr>\n",
       "      <th>country</th>\n",
       "      <td>USA</td>\n",
       "      <td>USA</td>\n",
       "      <td>usa</td>\n",
       "      <td>USA</td>\n",
       "      <td>USA</td>\n",
       "    </tr>\n",
       "    <tr>\n",
       "      <th>budget</th>\n",
       "      <td>USD 100,000,000.00</td>\n",
       "      <td>USD 100,000,000.00</td>\n",
       "      <td>USD 66,000,000.00</td>\n",
       "      <td>USD 61,000,000.00</td>\n",
       "      <td>USD 35,000,000.00</td>\n",
       "    </tr>\n",
       "    <tr>\n",
       "      <th>imdb_score</th>\n",
       "      <td>4.3</td>\n",
       "      <td>6.0</td>\n",
       "      <td>7.2</td>\n",
       "      <td>7.6</td>\n",
       "      <td>6.6</td>\n",
       "    </tr>\n",
       "    <tr>\n",
       "      <th>actors</th>\n",
       "      <td>Chris Noth,Liza Minnelli,Kristin Davis</td>\n",
       "      <td>Morgan Freeman,Ayelet Zurer,Moises Arias</td>\n",
       "      <td>Jeremy Irvine,Benedict Cumberbatch,Eddie Marsan</td>\n",
       "      <td>Hugh Jackman,Eddie Redmayne,Anne Hathaway</td>\n",
       "      <td>Leonardo DiCaprio,Naomi Watts,Kaitlyn Dever</td>\n",
       "    </tr>\n",
       "    <tr>\n",
       "      <th>movie_facebook_likes</th>\n",
       "      <td>0</td>\n",
       "      <td>0</td>\n",
       "      <td>28000</td>\n",
       "      <td>144000</td>\n",
       "      <td>16000</td>\n",
       "    </tr>\n",
       "    <tr>\n",
       "      <th>movie_twitter_likes</th>\n",
       "      <td>1000</td>\n",
       "      <td>1000</td>\n",
       "      <td>1000</td>\n",
       "      <td>1000</td>\n",
       "      <td>1000</td>\n",
       "    </tr>\n",
       "  </tbody>\n",
       "</table>\n",
       "</div>"
      ],
      "text/plain": [
       "                                                          42  \\\n",
       "color                                                  Color   \n",
       "director_name                           Michael Patrick King   \n",
       "duration                                                 146   \n",
       "gross                                         $95,328,937.00   \n",
       "genres                                  Comedy|Drama|Romance   \n",
       "movie_title                               sex and the city 2   \n",
       "title_year                                              2010   \n",
       "language                                             English   \n",
       "country                                                  USA   \n",
       "budget                                    USD 100,000,000.00   \n",
       "imdb_score                                               4.3   \n",
       "actors                Chris Noth,Liza Minnelli,Kristin Davis   \n",
       "movie_facebook_likes                                       0   \n",
       "movie_twitter_likes                                     1000   \n",
       "\n",
       "                                                            62  \\\n",
       "color                                                    Color   \n",
       "director_name                                Timur Bekmambetov   \n",
       "duration                                                   141   \n",
       "gross                                                     $nan   \n",
       "genres                                 Adventure|Drama|History   \n",
       "movie_title                                            ben-hur   \n",
       "title_year                                                2016   \n",
       "language                                               English   \n",
       "country                                                    USA   \n",
       "budget                                      USD 100,000,000.00   \n",
       "imdb_score                                                 6.0   \n",
       "actors                Morgan Freeman,Ayelet Zurer,Moises Arias   \n",
       "movie_facebook_likes                                         0   \n",
       "movie_twitter_likes                                       1000   \n",
       "\n",
       "                                                                   45  \\\n",
       "color                                                 Black and White   \n",
       "director_name                                        Steven Spielberg   \n",
       "duration                                                          146   \n",
       "gross                                                  $79,883,359.00   \n",
       "genres                                                      Drama|War   \n",
       "movie_title                                                 war horse   \n",
       "title_year                                                       2011   \n",
       "language                                                      English   \n",
       "country                                                           usa   \n",
       "budget                                              USD 66,000,000.00   \n",
       "imdb_score                                                        7.2   \n",
       "actors                Jeremy Irvine,Benedict Cumberbatch,Eddie Marsan   \n",
       "movie_facebook_likes                                            28000   \n",
       "movie_twitter_likes                                              1000   \n",
       "\n",
       "                                                             21  \\\n",
       "color                                                     Color   \n",
       "director_name                                        Tom Hooper   \n",
       "duration                                                    158   \n",
       "gross                                           $148,775,460.00   \n",
       "genres                                    Drama|Musical|Romance   \n",
       "movie_title                                      les misérables   \n",
       "title_year                                                 2012   \n",
       "language                                                English   \n",
       "country                                                     USA   \n",
       "budget                                        USD 61,000,000.00   \n",
       "imdb_score                                                  7.6   \n",
       "actors                Hugh Jackman,Eddie Redmayne,Anne Hathaway   \n",
       "movie_facebook_likes                                     144000   \n",
       "movie_twitter_likes                                        1000   \n",
       "\n",
       "                                                               82  \n",
       "color                                                       Color  \n",
       "director_name                                                 NaN  \n",
       "duration                                                      137  \n",
       "gross                                              $37,304,950.00  \n",
       "genres                                      Biography|Crime|Drama  \n",
       "movie_title                                              j. edgar  \n",
       "title_year                                                   2011  \n",
       "language                                                  English  \n",
       "country                                                       USA  \n",
       "budget                                          USD 35,000,000.00  \n",
       "imdb_score                                                    6.6  \n",
       "actors                Leonardo DiCaprio,Naomi Watts,Kaitlyn Dever  \n",
       "movie_facebook_likes                                        16000  \n",
       "movie_twitter_likes                                          1000  "
      ]
     },
     "execution_count": 2,
     "metadata": {},
     "output_type": "execute_result"
    }
   ],
   "source": [
    "df_imdb.sample(5).T"
   ]
  },
  {
   "cell_type": "markdown",
   "metadata": {},
   "source": [
    "## Limpieza de datos"
   ]
  },
  {
   "cell_type": "markdown",
   "metadata": {},
   "source": [
    "### Revisiones generales: `.columns`, `.index`, `.shape`"
   ]
  },
  {
   "cell_type": "code",
   "execution_count": 3,
   "metadata": {},
   "outputs": [
    {
     "data": {
      "text/plain": [
       "Index(['color', 'director_name', 'duration', 'gross', 'genres', 'movie_title',\n",
       "       'title_year', 'language', 'country', 'budget', 'imdb_score', 'actors',\n",
       "       'movie_facebook_likes', 'movie_twitter_likes'],\n",
       "      dtype='object')"
      ]
     },
     "execution_count": 3,
     "metadata": {},
     "output_type": "execute_result"
    }
   ],
   "source": [
    "df_imdb.columns"
   ]
  },
  {
   "cell_type": "code",
   "execution_count": 4,
   "metadata": {},
   "outputs": [
    {
     "data": {
      "text/plain": [
       "Int64Index([ 0,  1,  2,  3,  4,  5,  6,  7,  8,  9, 10, 11, 12, 13, 14, 15, 16,\n",
       "            17, 18, 19, 20, 21, 22, 23, 24, 25, 26, 27, 28, 29, 30, 31, 32, 33,\n",
       "            34, 35, 36, 37, 38, 39, 40, 41, 42, 43, 44, 45, 46, 47, 48, 49, 50,\n",
       "            51, 52, 53, 54, 55, 56, 57, 58, 59, 60, 61, 62, 63, 64, 65, 66, 67,\n",
       "            68, 69, 70, 71, 72, 73, 74, 75, 76, 77, 78, 79, 80, 81, 82, 83, 84,\n",
       "            85, 86, 87, 88, 89, 90, 91, 92, 93, 94, 95, 96, 97, 98],\n",
       "           dtype='int64')"
      ]
     },
     "execution_count": 4,
     "metadata": {},
     "output_type": "execute_result"
    }
   ],
   "source": [
    "df_imdb.index"
   ]
  },
  {
   "cell_type": "code",
   "execution_count": 5,
   "metadata": {},
   "outputs": [
    {
     "data": {
      "text/plain": [
       "(99, 14)"
      ]
     },
     "execution_count": 5,
     "metadata": {},
     "output_type": "execute_result"
    }
   ],
   "source": [
    "df_imdb.shape"
   ]
  },
  {
   "cell_type": "markdown",
   "metadata": {},
   "source": [
    "### Ver algunas observaciones: `.head()`, `.tail()`, `.sample()`"
   ]
  },
  {
   "cell_type": "code",
   "execution_count": 6,
   "metadata": {},
   "outputs": [
    {
     "data": {
      "text/html": [
       "<div>\n",
       "<style scoped>\n",
       "    .dataframe tbody tr th:only-of-type {\n",
       "        vertical-align: middle;\n",
       "    }\n",
       "\n",
       "    .dataframe tbody tr th {\n",
       "        vertical-align: top;\n",
       "    }\n",
       "\n",
       "    .dataframe thead th {\n",
       "        text-align: right;\n",
       "    }\n",
       "</style>\n",
       "<table border=\"1\" class=\"dataframe\">\n",
       "  <thead>\n",
       "    <tr style=\"text-align: right;\">\n",
       "      <th></th>\n",
       "      <th>0</th>\n",
       "      <th>1</th>\n",
       "      <th>2</th>\n",
       "      <th>3</th>\n",
       "      <th>4</th>\n",
       "    </tr>\n",
       "  </thead>\n",
       "  <tbody>\n",
       "    <tr>\n",
       "      <th>color</th>\n",
       "      <td>Color</td>\n",
       "      <td>Color</td>\n",
       "      <td>color</td>\n",
       "      <td>Color</td>\n",
       "      <td>Color</td>\n",
       "    </tr>\n",
       "    <tr>\n",
       "      <th>director_name</th>\n",
       "      <td>Martin Scorsese</td>\n",
       "      <td>Shane Black</td>\n",
       "      <td>Quentin Tarantino</td>\n",
       "      <td>Kenneth Lonergan</td>\n",
       "      <td>Peter Jackson</td>\n",
       "    </tr>\n",
       "    <tr>\n",
       "      <th>duration</th>\n",
       "      <td>240</td>\n",
       "      <td>195</td>\n",
       "      <td>187</td>\n",
       "      <td>186</td>\n",
       "      <td>186</td>\n",
       "    </tr>\n",
       "    <tr>\n",
       "      <th>gross</th>\n",
       "      <td>$116,866,727.00</td>\n",
       "      <td>$408,992,272.00</td>\n",
       "      <td>$54,116,191.00</td>\n",
       "      <td>$46,495.00</td>\n",
       "      <td>$258,355,354.00</td>\n",
       "    </tr>\n",
       "    <tr>\n",
       "      <th>genres</th>\n",
       "      <td>Biography|Comedy|Crime|Drama</td>\n",
       "      <td>Action|Adventure|Sci-Fi</td>\n",
       "      <td>Crime|Drama|Mystery|Thriller|Western</td>\n",
       "      <td>Drama</td>\n",
       "      <td>Adventure|Fantasy</td>\n",
       "    </tr>\n",
       "    <tr>\n",
       "      <th>movie_title</th>\n",
       "      <td>the wolf of wall street</td>\n",
       "      <td>iron man 3</td>\n",
       "      <td>the hateful eight</td>\n",
       "      <td>margaret</td>\n",
       "      <td>the hobbit: the desolation of smaug</td>\n",
       "    </tr>\n",
       "    <tr>\n",
       "      <th>title_year</th>\n",
       "      <td>2013</td>\n",
       "      <td>2013</td>\n",
       "      <td>2015</td>\n",
       "      <td>2011</td>\n",
       "      <td>2013</td>\n",
       "    </tr>\n",
       "    <tr>\n",
       "      <th>language</th>\n",
       "      <td>English</td>\n",
       "      <td>English</td>\n",
       "      <td>English</td>\n",
       "      <td>English</td>\n",
       "      <td>English</td>\n",
       "    </tr>\n",
       "    <tr>\n",
       "      <th>country</th>\n",
       "      <td>USA</td>\n",
       "      <td>USA</td>\n",
       "      <td>USA</td>\n",
       "      <td>usa</td>\n",
       "      <td>USA</td>\n",
       "    </tr>\n",
       "    <tr>\n",
       "      <th>budget</th>\n",
       "      <td>USD 100,000,000.00</td>\n",
       "      <td>USD 200,000,000.00</td>\n",
       "      <td>USD 44,000,000.00</td>\n",
       "      <td>USD 14,000,000.00</td>\n",
       "      <td>USD 225,000,000.00</td>\n",
       "    </tr>\n",
       "    <tr>\n",
       "      <th>imdb_score</th>\n",
       "      <td>8.2</td>\n",
       "      <td>7.2</td>\n",
       "      <td>7.9</td>\n",
       "      <td>6.5</td>\n",
       "      <td>7.9</td>\n",
       "    </tr>\n",
       "    <tr>\n",
       "      <th>actors</th>\n",
       "      <td>Leonardo DiCaprio,Matthew McConaughey,Jon Favreau</td>\n",
       "      <td>Robert Downey Jr.,Jon Favreau,Don Cheadle</td>\n",
       "      <td>Craig Stark,Jennifer Jason Leigh,Zoë Bell</td>\n",
       "      <td>Matt Damon,Kieran Culkin,John Gallagher Jr.</td>\n",
       "      <td>Aidan Turner,Adam Brown,James Nesbitt</td>\n",
       "    </tr>\n",
       "    <tr>\n",
       "      <th>movie_facebook_likes</th>\n",
       "      <td>138000</td>\n",
       "      <td>95000</td>\n",
       "      <td>114000</td>\n",
       "      <td>0</td>\n",
       "      <td>83000</td>\n",
       "    </tr>\n",
       "    <tr>\n",
       "      <th>movie_twitter_likes</th>\n",
       "      <td>1000</td>\n",
       "      <td>1000</td>\n",
       "      <td>1000</td>\n",
       "      <td>1000</td>\n",
       "      <td>1000</td>\n",
       "    </tr>\n",
       "  </tbody>\n",
       "</table>\n",
       "</div>"
      ],
      "text/plain": [
       "                                                                      0  \\\n",
       "color                                                             Color   \n",
       "director_name                                           Martin Scorsese   \n",
       "duration                                                            240   \n",
       "gross                                                   $116,866,727.00   \n",
       "genres                                     Biography|Comedy|Crime|Drama   \n",
       "movie_title                                     the wolf of wall street   \n",
       "title_year                                                         2013   \n",
       "language                                                        English   \n",
       "country                                                             USA   \n",
       "budget                                               USD 100,000,000.00   \n",
       "imdb_score                                                          8.2   \n",
       "actors                Leonardo DiCaprio,Matthew McConaughey,Jon Favreau   \n",
       "movie_facebook_likes                                             138000   \n",
       "movie_twitter_likes                                                1000   \n",
       "\n",
       "                                                              1  \\\n",
       "color                                                     Color   \n",
       "director_name                                       Shane Black   \n",
       "duration                                                    195   \n",
       "gross                                           $408,992,272.00   \n",
       "genres                                  Action|Adventure|Sci-Fi   \n",
       "movie_title                                          iron man 3   \n",
       "title_year                                                 2013   \n",
       "language                                                English   \n",
       "country                                                     USA   \n",
       "budget                                       USD 200,000,000.00   \n",
       "imdb_score                                                  7.2   \n",
       "actors                Robert Downey Jr.,Jon Favreau,Don Cheadle   \n",
       "movie_facebook_likes                                      95000   \n",
       "movie_twitter_likes                                        1000   \n",
       "\n",
       "                                                              2  \\\n",
       "color                                                    color    \n",
       "director_name                                 Quentin Tarantino   \n",
       "duration                                                    187   \n",
       "gross                                            $54,116,191.00   \n",
       "genres                     Crime|Drama|Mystery|Thriller|Western   \n",
       "movie_title                                   the hateful eight   \n",
       "title_year                                                 2015   \n",
       "language                                                English   \n",
       "country                                                     USA   \n",
       "budget                                        USD 44,000,000.00   \n",
       "imdb_score                                                  7.9   \n",
       "actors                Craig Stark,Jennifer Jason Leigh,Zoë Bell   \n",
       "movie_facebook_likes                                     114000   \n",
       "movie_twitter_likes                                        1000   \n",
       "\n",
       "                                                                3  \\\n",
       "color                                                       Color   \n",
       "director_name                                    Kenneth Lonergan   \n",
       "duration                                                      186   \n",
       "gross                                                  $46,495.00   \n",
       "genres                                                      Drama   \n",
       "movie_title                                              margaret   \n",
       "title_year                                                   2011   \n",
       "language                                                  English   \n",
       "country                                                       usa   \n",
       "budget                                          USD 14,000,000.00   \n",
       "imdb_score                                                    6.5   \n",
       "actors                Matt Damon,Kieran Culkin,John Gallagher Jr.   \n",
       "movie_facebook_likes                                            0   \n",
       "movie_twitter_likes                                          1000   \n",
       "\n",
       "                                                          4  \n",
       "color                                                 Color  \n",
       "director_name                                 Peter Jackson  \n",
       "duration                                                186  \n",
       "gross                                       $258,355,354.00  \n",
       "genres                                    Adventure|Fantasy  \n",
       "movie_title             the hobbit: the desolation of smaug  \n",
       "title_year                                             2013  \n",
       "language                                            English  \n",
       "country                                                 USA  \n",
       "budget                                   USD 225,000,000.00  \n",
       "imdb_score                                              7.9  \n",
       "actors                Aidan Turner,Adam Brown,James Nesbitt  \n",
       "movie_facebook_likes                                  83000  \n",
       "movie_twitter_likes                                    1000  "
      ]
     },
     "execution_count": 6,
     "metadata": {},
     "output_type": "execute_result"
    }
   ],
   "source": [
    "df_imdb.head().T"
   ]
  },
  {
   "cell_type": "code",
   "execution_count": 7,
   "metadata": {},
   "outputs": [
    {
     "data": {
      "text/html": [
       "<div>\n",
       "<style scoped>\n",
       "    .dataframe tbody tr th:only-of-type {\n",
       "        vertical-align: middle;\n",
       "    }\n",
       "\n",
       "    .dataframe tbody tr th {\n",
       "        vertical-align: top;\n",
       "    }\n",
       "\n",
       "    .dataframe thead th {\n",
       "        text-align: right;\n",
       "    }\n",
       "</style>\n",
       "<table border=\"1\" class=\"dataframe\">\n",
       "  <thead>\n",
       "    <tr style=\"text-align: right;\">\n",
       "      <th></th>\n",
       "      <th>94</th>\n",
       "      <th>95</th>\n",
       "      <th>96</th>\n",
       "      <th>97</th>\n",
       "      <th>98</th>\n",
       "    </tr>\n",
       "  </thead>\n",
       "  <tbody>\n",
       "    <tr>\n",
       "      <th>color</th>\n",
       "      <td>Color</td>\n",
       "      <td>Color</td>\n",
       "      <td>Color</td>\n",
       "      <td>Color</td>\n",
       "      <td>Color</td>\n",
       "    </tr>\n",
       "    <tr>\n",
       "      <th>director_name</th>\n",
       "      <td>Steve McQueen</td>\n",
       "      <td>Richard J. Lewis</td>\n",
       "      <td>Paul Greengrass</td>\n",
       "      <td>David Ayer</td>\n",
       "      <td>Clint Eastwood</td>\n",
       "    </tr>\n",
       "    <tr>\n",
       "      <th>duration</th>\n",
       "      <td>134</td>\n",
       "      <td>134</td>\n",
       "      <td>134</td>\n",
       "      <td>134</td>\n",
       "      <td>5</td>\n",
       "    </tr>\n",
       "    <tr>\n",
       "      <th>gross</th>\n",
       "      <td>$56,667,870.00</td>\n",
       "      <td>$7,501,404.00</td>\n",
       "      <td>$107,100,855.00</td>\n",
       "      <td>$85,707,116.00</td>\n",
       "      <td>$47,034,272.00</td>\n",
       "    </tr>\n",
       "    <tr>\n",
       "      <th>genres</th>\n",
       "      <td>Biography|Drama|History</td>\n",
       "      <td>Comedy|Drama</td>\n",
       "      <td>Biography|Drama|Thriller</td>\n",
       "      <td>Action|Drama|War</td>\n",
       "      <td>Biography|Drama|Music|Musical</td>\n",
       "    </tr>\n",
       "    <tr>\n",
       "      <th>movie_title</th>\n",
       "      <td>12 years a slave</td>\n",
       "      <td>barney's version</td>\n",
       "      <td>captain phillips</td>\n",
       "      <td>fury</td>\n",
       "      <td>jersey boys</td>\n",
       "    </tr>\n",
       "    <tr>\n",
       "      <th>title_year</th>\n",
       "      <td>2013</td>\n",
       "      <td>2010</td>\n",
       "      <td>2013</td>\n",
       "      <td>2014</td>\n",
       "      <td>2014</td>\n",
       "    </tr>\n",
       "    <tr>\n",
       "      <th>language</th>\n",
       "      <td>English</td>\n",
       "      <td>English</td>\n",
       "      <td>English</td>\n",
       "      <td>English</td>\n",
       "      <td>English</td>\n",
       "    </tr>\n",
       "    <tr>\n",
       "      <th>country</th>\n",
       "      <td>USA</td>\n",
       "      <td>Canada</td>\n",
       "      <td>USA</td>\n",
       "      <td>USA</td>\n",
       "      <td>USA</td>\n",
       "    </tr>\n",
       "    <tr>\n",
       "      <th>budget</th>\n",
       "      <td>USD 20,000,000.00</td>\n",
       "      <td>USD nan</td>\n",
       "      <td>USD 55,000,000.00</td>\n",
       "      <td>USD 68,000,000.00</td>\n",
       "      <td>USD 40,000,000.00</td>\n",
       "    </tr>\n",
       "    <tr>\n",
       "      <th>imdb_score</th>\n",
       "      <td>8.1</td>\n",
       "      <td>7.3</td>\n",
       "      <td>7.9</td>\n",
       "      <td>7.6</td>\n",
       "      <td>6.9</td>\n",
       "    </tr>\n",
       "    <tr>\n",
       "      <th>actors</th>\n",
       "      <td>Quvenzhané Wallis,Scoot McNairy,Taran Killam</td>\n",
       "      <td>Mark Addy,Atom Egoyan,Paul Gross</td>\n",
       "      <td>Tom Hanks,Chris Mulkey,Michael Chernus</td>\n",
       "      <td>Brad Pitt,Logan Lerman,Jim Parrack</td>\n",
       "      <td>Johnny Cannizzaro,Steve Schirripa,Scott Vance</td>\n",
       "    </tr>\n",
       "    <tr>\n",
       "      <th>movie_facebook_likes</th>\n",
       "      <td>83000</td>\n",
       "      <td>0</td>\n",
       "      <td>65000</td>\n",
       "      <td>82000</td>\n",
       "      <td>16000</td>\n",
       "    </tr>\n",
       "    <tr>\n",
       "      <th>movie_twitter_likes</th>\n",
       "      <td>1000</td>\n",
       "      <td>1000</td>\n",
       "      <td>1000</td>\n",
       "      <td>1000</td>\n",
       "      <td>1000</td>\n",
       "    </tr>\n",
       "  </tbody>\n",
       "</table>\n",
       "</div>"
      ],
      "text/plain": [
       "                                                                94  \\\n",
       "color                                                        Color   \n",
       "director_name                                        Steve McQueen   \n",
       "duration                                                       134   \n",
       "gross                                               $56,667,870.00   \n",
       "genres                                     Biography|Drama|History   \n",
       "movie_title                                       12 years a slave   \n",
       "title_year                                                    2013   \n",
       "language                                                   English   \n",
       "country                                                        USA   \n",
       "budget                                           USD 20,000,000.00   \n",
       "imdb_score                                                     8.1   \n",
       "actors                Quvenzhané Wallis,Scoot McNairy,Taran Killam   \n",
       "movie_facebook_likes                                         83000   \n",
       "movie_twitter_likes                                           1000   \n",
       "\n",
       "                                                    95  \\\n",
       "color                                            Color   \n",
       "director_name                         Richard J. Lewis   \n",
       "duration                                           134   \n",
       "gross                                    $7,501,404.00   \n",
       "genres                                    Comedy|Drama   \n",
       "movie_title                           barney's version   \n",
       "title_year                                        2010   \n",
       "language                                       English   \n",
       "country                                         Canada   \n",
       "budget                                         USD nan   \n",
       "imdb_score                                         7.3   \n",
       "actors                Mark Addy,Atom Egoyan,Paul Gross   \n",
       "movie_facebook_likes                                 0   \n",
       "movie_twitter_likes                               1000   \n",
       "\n",
       "                                                          96  \\\n",
       "color                                                  Color   \n",
       "director_name                                Paul Greengrass   \n",
       "duration                                                 134   \n",
       "gross                                        $107,100,855.00   \n",
       "genres                              Biography|Drama|Thriller   \n",
       "movie_title                                 captain phillips   \n",
       "title_year                                              2013   \n",
       "language                                             English   \n",
       "country                                                  USA   \n",
       "budget                                     USD 55,000,000.00   \n",
       "imdb_score                                               7.9   \n",
       "actors                Tom Hanks,Chris Mulkey,Michael Chernus   \n",
       "movie_facebook_likes                                   65000   \n",
       "movie_twitter_likes                                     1000   \n",
       "\n",
       "                                                      97  \\\n",
       "color                                              Color   \n",
       "director_name                                 David Ayer   \n",
       "duration                                             134   \n",
       "gross                                     $85,707,116.00   \n",
       "genres                                  Action|Drama|War   \n",
       "movie_title                                         fury   \n",
       "title_year                                          2014   \n",
       "language                                         English   \n",
       "country                                              USA   \n",
       "budget                                 USD 68,000,000.00   \n",
       "imdb_score                                           7.6   \n",
       "actors                Brad Pitt,Logan Lerman,Jim Parrack   \n",
       "movie_facebook_likes                               82000   \n",
       "movie_twitter_likes                                 1000   \n",
       "\n",
       "                                                                 98  \n",
       "color                                                         Color  \n",
       "director_name                                        Clint Eastwood  \n",
       "duration                                                          5  \n",
       "gross                                                $47,034,272.00  \n",
       "genres                                Biography|Drama|Music|Musical  \n",
       "movie_title                                             jersey boys  \n",
       "title_year                                                     2014  \n",
       "language                                                    English  \n",
       "country                                                         USA  \n",
       "budget                                            USD 40,000,000.00  \n",
       "imdb_score                                                      6.9  \n",
       "actors                Johnny Cannizzaro,Steve Schirripa,Scott Vance  \n",
       "movie_facebook_likes                                          16000  \n",
       "movie_twitter_likes                                            1000  "
      ]
     },
     "execution_count": 7,
     "metadata": {},
     "output_type": "execute_result"
    }
   ],
   "source": [
    "df_imdb.tail().T"
   ]
  },
  {
   "cell_type": "code",
   "execution_count": 8,
   "metadata": {},
   "outputs": [
    {
     "data": {
      "text/html": [
       "<div>\n",
       "<style scoped>\n",
       "    .dataframe tbody tr th:only-of-type {\n",
       "        vertical-align: middle;\n",
       "    }\n",
       "\n",
       "    .dataframe tbody tr th {\n",
       "        vertical-align: top;\n",
       "    }\n",
       "\n",
       "    .dataframe thead th {\n",
       "        text-align: right;\n",
       "    }\n",
       "</style>\n",
       "<table border=\"1\" class=\"dataframe\">\n",
       "  <thead>\n",
       "    <tr style=\"text-align: right;\">\n",
       "      <th></th>\n",
       "      <th>30</th>\n",
       "      <th>45</th>\n",
       "      <th>5</th>\n",
       "      <th>78</th>\n",
       "      <th>24</th>\n",
       "    </tr>\n",
       "  </thead>\n",
       "  <tbody>\n",
       "    <tr>\n",
       "      <th>color</th>\n",
       "      <td>Color</td>\n",
       "      <td>Black and White</td>\n",
       "      <td>NaN</td>\n",
       "      <td>Color</td>\n",
       "      <td>Color</td>\n",
       "    </tr>\n",
       "    <tr>\n",
       "      <th>director_name</th>\n",
       "      <td>Ridley Scott</td>\n",
       "      <td>Steven Spielberg</td>\n",
       "      <td>NaN</td>\n",
       "      <td>Martin Scorsese</td>\n",
       "      <td>NaN</td>\n",
       "    </tr>\n",
       "    <tr>\n",
       "      <th>duration</th>\n",
       "      <td>150</td>\n",
       "      <td>146</td>\n",
       "      <td>183</td>\n",
       "      <td>138</td>\n",
       "      <td>156</td>\n",
       "    </tr>\n",
       "    <tr>\n",
       "      <th>gross</th>\n",
       "      <td>$65,007,045.00</td>\n",
       "      <td>$79,883,359.00</td>\n",
       "      <td>$330,249,062.00</td>\n",
       "      <td>$127,968,405.00</td>\n",
       "      <td>$183,635,922.00</td>\n",
       "    </tr>\n",
       "    <tr>\n",
       "      <th>genres</th>\n",
       "      <td>Action|Adventure|Drama</td>\n",
       "      <td>Drama|War</td>\n",
       "      <td>Action|Adventure|Sci-Fi</td>\n",
       "      <td>Mystery|Thriller</td>\n",
       "      <td>Adventure|Drama|Thriller|Western</td>\n",
       "    </tr>\n",
       "    <tr>\n",
       "      <th>movie_title</th>\n",
       "      <td>exodus: gods and kings</td>\n",
       "      <td>war horse</td>\n",
       "      <td>batman v superman: dawn of justice</td>\n",
       "      <td>shutter island</td>\n",
       "      <td>the revenant</td>\n",
       "    </tr>\n",
       "    <tr>\n",
       "      <th>title_year</th>\n",
       "      <td>2014</td>\n",
       "      <td>2011</td>\n",
       "      <td>202</td>\n",
       "      <td>2010</td>\n",
       "      <td>2015</td>\n",
       "    </tr>\n",
       "    <tr>\n",
       "      <th>language</th>\n",
       "      <td>English</td>\n",
       "      <td>English</td>\n",
       "      <td>English</td>\n",
       "      <td>English</td>\n",
       "      <td>English</td>\n",
       "    </tr>\n",
       "    <tr>\n",
       "      <th>country</th>\n",
       "      <td>UK</td>\n",
       "      <td>usa</td>\n",
       "      <td>USA</td>\n",
       "      <td>USA</td>\n",
       "      <td>USA</td>\n",
       "    </tr>\n",
       "    <tr>\n",
       "      <th>budget</th>\n",
       "      <td>USD 140,000,000.00</td>\n",
       "      <td>USD 66,000,000.00</td>\n",
       "      <td>USD 250,000,000.00</td>\n",
       "      <td>USD 80,000,000.00</td>\n",
       "      <td>USD 135,000,000.00</td>\n",
       "    </tr>\n",
       "    <tr>\n",
       "      <th>imdb_score</th>\n",
       "      <td>6.1</td>\n",
       "      <td>7.2</td>\n",
       "      <td>6.9</td>\n",
       "      <td>8.1</td>\n",
       "      <td>8.1</td>\n",
       "    </tr>\n",
       "    <tr>\n",
       "      <th>actors</th>\n",
       "      <td>Christian Bale,María Valverde,Ben Mendelsohn</td>\n",
       "      <td>Jeremy Irvine,Benedict Cumberbatch,Eddie Marsan</td>\n",
       "      <td>Henry Cavill,Lauren Cohan,Alan D. Purwin</td>\n",
       "      <td>Leonardo DiCaprio,Joseph Sikora,Nellie Sciutto</td>\n",
       "      <td>Leonardo DiCaprio,Tom Hardy,Lukas Haas</td>\n",
       "    </tr>\n",
       "    <tr>\n",
       "      <th>movie_facebook_likes</th>\n",
       "      <td>51000</td>\n",
       "      <td>28000</td>\n",
       "      <td>197000</td>\n",
       "      <td>53000</td>\n",
       "      <td>190000</td>\n",
       "    </tr>\n",
       "    <tr>\n",
       "      <th>movie_twitter_likes</th>\n",
       "      <td>1000</td>\n",
       "      <td>1000</td>\n",
       "      <td>1000</td>\n",
       "      <td>1000</td>\n",
       "      <td>1000</td>\n",
       "    </tr>\n",
       "  </tbody>\n",
       "</table>\n",
       "</div>"
      ],
      "text/plain": [
       "                                                                30  \\\n",
       "color                                                        Color   \n",
       "director_name                                         Ridley Scott   \n",
       "duration                                                       150   \n",
       "gross                                               $65,007,045.00   \n",
       "genres                                      Action|Adventure|Drama   \n",
       "movie_title                                 exodus: gods and kings   \n",
       "title_year                                                    2014   \n",
       "language                                                   English   \n",
       "country                                                         UK   \n",
       "budget                                          USD 140,000,000.00   \n",
       "imdb_score                                                     6.1   \n",
       "actors                Christian Bale,María Valverde,Ben Mendelsohn   \n",
       "movie_facebook_likes                                         51000   \n",
       "movie_twitter_likes                                           1000   \n",
       "\n",
       "                                                                   45  \\\n",
       "color                                                 Black and White   \n",
       "director_name                                        Steven Spielberg   \n",
       "duration                                                          146   \n",
       "gross                                                  $79,883,359.00   \n",
       "genres                                                      Drama|War   \n",
       "movie_title                                                 war horse   \n",
       "title_year                                                       2011   \n",
       "language                                                      English   \n",
       "country                                                           usa   \n",
       "budget                                              USD 66,000,000.00   \n",
       "imdb_score                                                        7.2   \n",
       "actors                Jeremy Irvine,Benedict Cumberbatch,Eddie Marsan   \n",
       "movie_facebook_likes                                            28000   \n",
       "movie_twitter_likes                                              1000   \n",
       "\n",
       "                                                            5   \\\n",
       "color                                                      NaN   \n",
       "director_name                                              NaN   \n",
       "duration                                                   183   \n",
       "gross                                          $330,249,062.00   \n",
       "genres                                 Action|Adventure|Sci-Fi   \n",
       "movie_title                 batman v superman: dawn of justice   \n",
       "title_year                                                 202   \n",
       "language                                               English   \n",
       "country                                                    USA   \n",
       "budget                                      USD 250,000,000.00   \n",
       "imdb_score                                                 6.9   \n",
       "actors                Henry Cavill,Lauren Cohan,Alan D. Purwin   \n",
       "movie_facebook_likes                                    197000   \n",
       "movie_twitter_likes                                       1000   \n",
       "\n",
       "                                                                  78  \\\n",
       "color                                                          Color   \n",
       "director_name                                        Martin Scorsese   \n",
       "duration                                                         138   \n",
       "gross                                                $127,968,405.00   \n",
       "genres                                              Mystery|Thriller   \n",
       "movie_title                                           shutter island   \n",
       "title_year                                                      2010   \n",
       "language                                                     English   \n",
       "country                                                          USA   \n",
       "budget                                             USD 80,000,000.00   \n",
       "imdb_score                                                       8.1   \n",
       "actors                Leonardo DiCaprio,Joseph Sikora,Nellie Sciutto   \n",
       "movie_facebook_likes                                           53000   \n",
       "movie_twitter_likes                                             1000   \n",
       "\n",
       "                                                          24  \n",
       "color                                                  Color  \n",
       "director_name                                            NaN  \n",
       "duration                                                 156  \n",
       "gross                                        $183,635,922.00  \n",
       "genres                      Adventure|Drama|Thriller|Western  \n",
       "movie_title                                     the revenant  \n",
       "title_year                                              2015  \n",
       "language                                             English  \n",
       "country                                                  USA  \n",
       "budget                                    USD 135,000,000.00  \n",
       "imdb_score                                               8.1  \n",
       "actors                Leonardo DiCaprio,Tom Hardy,Lukas Haas  \n",
       "movie_facebook_likes                                  190000  \n",
       "movie_twitter_likes                                     1000  "
      ]
     },
     "execution_count": 8,
     "metadata": {},
     "output_type": "execute_result"
    }
   ],
   "source": [
    "df_imdb.sample(5).T"
   ]
  },
  {
   "cell_type": "markdown",
   "metadata": {},
   "source": [
    "### Describir dataset: `info()`, `describe()`"
   ]
  },
  {
   "cell_type": "code",
   "execution_count": 9,
   "metadata": {},
   "outputs": [
    {
     "name": "stdout",
     "output_type": "stream",
     "text": [
      "<class 'pandas.core.frame.DataFrame'>\n",
      "Int64Index: 99 entries, 0 to 98\n",
      "Data columns (total 14 columns):\n",
      " #   Column                Non-Null Count  Dtype  \n",
      "---  ------                --------------  -----  \n",
      " 0   color                 88 non-null     object \n",
      " 1   director_name         88 non-null     object \n",
      " 2   duration              99 non-null     int64  \n",
      " 3   gross                 99 non-null     object \n",
      " 4   genres                98 non-null     object \n",
      " 5   movie_title           99 non-null     object \n",
      " 6   title_year            99 non-null     int64  \n",
      " 7   language              99 non-null     object \n",
      " 8   country               99 non-null     object \n",
      " 9   budget                99 non-null     object \n",
      " 10  imdb_score            99 non-null     float64\n",
      " 11  actors                99 non-null     object \n",
      " 12  movie_facebook_likes  99 non-null     int64  \n",
      " 13  movie_twitter_likes   99 non-null     int64  \n",
      "dtypes: float64(1), int64(4), object(9)\n",
      "memory usage: 11.6+ KB\n"
     ]
    }
   ],
   "source": [
    "df_imdb.info()"
   ]
  },
  {
   "cell_type": "code",
   "execution_count": 10,
   "metadata": {},
   "outputs": [
    {
     "data": {
      "text/html": [
       "<div>\n",
       "<style scoped>\n",
       "    .dataframe tbody tr th:only-of-type {\n",
       "        vertical-align: middle;\n",
       "    }\n",
       "\n",
       "    .dataframe tbody tr th {\n",
       "        vertical-align: top;\n",
       "    }\n",
       "\n",
       "    .dataframe thead th {\n",
       "        text-align: right;\n",
       "    }\n",
       "</style>\n",
       "<table border=\"1\" class=\"dataframe\">\n",
       "  <thead>\n",
       "    <tr style=\"text-align: right;\">\n",
       "      <th></th>\n",
       "      <th>duration</th>\n",
       "      <th>title_year</th>\n",
       "      <th>imdb_score</th>\n",
       "      <th>movie_facebook_likes</th>\n",
       "      <th>movie_twitter_likes</th>\n",
       "    </tr>\n",
       "  </thead>\n",
       "  <tbody>\n",
       "    <tr>\n",
       "      <th>count</th>\n",
       "      <td>99.000000</td>\n",
       "      <td>99.000000</td>\n",
       "      <td>99.000000</td>\n",
       "      <td>99.000000</td>\n",
       "      <td>99.0</td>\n",
       "    </tr>\n",
       "    <tr>\n",
       "      <th>mean</th>\n",
       "      <td>155.494949</td>\n",
       "      <td>1944.010101</td>\n",
       "      <td>6.892929</td>\n",
       "      <td>66045.707071</td>\n",
       "      <td>1000.0</td>\n",
       "    </tr>\n",
       "    <tr>\n",
       "      <th>std</th>\n",
       "      <td>72.797927</td>\n",
       "      <td>393.848787</td>\n",
       "      <td>1.925514</td>\n",
       "      <td>58108.860365</td>\n",
       "      <td>0.0</td>\n",
       "    </tr>\n",
       "    <tr>\n",
       "      <th>min</th>\n",
       "      <td>-50.000000</td>\n",
       "      <td>-1000.000000</td>\n",
       "      <td>-7.500000</td>\n",
       "      <td>0.000000</td>\n",
       "      <td>1000.0</td>\n",
       "    </tr>\n",
       "    <tr>\n",
       "      <th>25%</th>\n",
       "      <td>138.500000</td>\n",
       "      <td>2012.000000</td>\n",
       "      <td>6.550000</td>\n",
       "      <td>25000.000000</td>\n",
       "      <td>1000.0</td>\n",
       "    </tr>\n",
       "    <tr>\n",
       "      <th>50%</th>\n",
       "      <td>143.000000</td>\n",
       "      <td>2013.000000</td>\n",
       "      <td>7.200000</td>\n",
       "      <td>54000.000000</td>\n",
       "      <td>1000.0</td>\n",
       "    </tr>\n",
       "    <tr>\n",
       "      <th>75%</th>\n",
       "      <td>155.000000</td>\n",
       "      <td>2014.000000</td>\n",
       "      <td>7.850000</td>\n",
       "      <td>85500.000000</td>\n",
       "      <td>1000.0</td>\n",
       "    </tr>\n",
       "    <tr>\n",
       "      <th>max</th>\n",
       "      <td>650.000000</td>\n",
       "      <td>2030.000000</td>\n",
       "      <td>8.800000</td>\n",
       "      <td>349000.000000</td>\n",
       "      <td>1000.0</td>\n",
       "    </tr>\n",
       "  </tbody>\n",
       "</table>\n",
       "</div>"
      ],
      "text/plain": [
       "         duration   title_year  imdb_score  movie_facebook_likes  \\\n",
       "count   99.000000    99.000000   99.000000             99.000000   \n",
       "mean   155.494949  1944.010101    6.892929          66045.707071   \n",
       "std     72.797927   393.848787    1.925514          58108.860365   \n",
       "min    -50.000000 -1000.000000   -7.500000              0.000000   \n",
       "25%    138.500000  2012.000000    6.550000          25000.000000   \n",
       "50%    143.000000  2013.000000    7.200000          54000.000000   \n",
       "75%    155.000000  2014.000000    7.850000          85500.000000   \n",
       "max    650.000000  2030.000000    8.800000         349000.000000   \n",
       "\n",
       "       movie_twitter_likes  \n",
       "count                 99.0  \n",
       "mean                1000.0  \n",
       "std                    0.0  \n",
       "min                 1000.0  \n",
       "25%                 1000.0  \n",
       "50%                 1000.0  \n",
       "75%                 1000.0  \n",
       "max                 1000.0  "
      ]
     },
     "execution_count": 10,
     "metadata": {},
     "output_type": "execute_result"
    }
   ],
   "source": [
    "df_imdb.describe()"
   ]
  },
  {
   "cell_type": "markdown",
   "metadata": {},
   "source": [
    "### Valores faltantes: `.isnull()`, `.isna()`"
   ]
  },
  {
   "cell_type": "code",
   "execution_count": 11,
   "metadata": {},
   "outputs": [
    {
     "data": {
      "text/plain": [
       "color                    True\n",
       "director_name            True\n",
       "duration                False\n",
       "gross                   False\n",
       "genres                   True\n",
       "movie_title             False\n",
       "title_year              False\n",
       "language                False\n",
       "country                 False\n",
       "budget                  False\n",
       "imdb_score              False\n",
       "actors                  False\n",
       "movie_facebook_likes    False\n",
       "movie_twitter_likes     False\n",
       "dtype: bool"
      ]
     },
     "execution_count": 11,
     "metadata": {},
     "output_type": "execute_result"
    }
   ],
   "source": [
    "df_imdb.isnull().any()"
   ]
  },
  {
   "cell_type": "code",
   "execution_count": 12,
   "metadata": {},
   "outputs": [
    {
     "data": {
      "text/plain": [
       "color                   11\n",
       "director_name           11\n",
       "duration                 0\n",
       "gross                    0\n",
       "genres                   1\n",
       "movie_title              0\n",
       "title_year               0\n",
       "language                 0\n",
       "country                  0\n",
       "budget                   0\n",
       "imdb_score               0\n",
       "actors                   0\n",
       "movie_facebook_likes     0\n",
       "movie_twitter_likes      0\n",
       "dtype: int64"
      ]
     },
     "execution_count": 12,
     "metadata": {},
     "output_type": "execute_result"
    }
   ],
   "source": [
    "df_imdb.isna().sum()"
   ]
  },
  {
   "cell_type": "code",
   "execution_count": 13,
   "metadata": {},
   "outputs": [
    {
     "data": {
      "text/plain": [
       "color                   11.111111\n",
       "director_name           11.111111\n",
       "duration                 0.000000\n",
       "gross                    0.000000\n",
       "genres                   1.010101\n",
       "movie_title              0.000000\n",
       "title_year               0.000000\n",
       "language                 0.000000\n",
       "country                  0.000000\n",
       "budget                   0.000000\n",
       "imdb_score               0.000000\n",
       "actors                   0.000000\n",
       "movie_facebook_likes     0.000000\n",
       "movie_twitter_likes      0.000000\n",
       "dtype: float64"
      ]
     },
     "execution_count": 13,
     "metadata": {},
     "output_type": "execute_result"
    }
   ],
   "source": [
    "df_imdb.isna().mean() * 100"
   ]
  },
  {
   "cell_type": "markdown",
   "metadata": {},
   "source": [
    "### Quitar filas duplicadas: `.duplicated()`. `.drop_duplicates()`"
   ]
  },
  {
   "cell_type": "code",
   "execution_count": 14,
   "metadata": {},
   "outputs": [
    {
     "data": {
      "text/html": [
       "<div>\n",
       "<style scoped>\n",
       "    .dataframe tbody tr th:only-of-type {\n",
       "        vertical-align: middle;\n",
       "    }\n",
       "\n",
       "    .dataframe tbody tr th {\n",
       "        vertical-align: top;\n",
       "    }\n",
       "\n",
       "    .dataframe thead th {\n",
       "        text-align: right;\n",
       "    }\n",
       "</style>\n",
       "<table border=\"1\" class=\"dataframe\">\n",
       "  <thead>\n",
       "    <tr style=\"text-align: right;\">\n",
       "      <th></th>\n",
       "      <th>color</th>\n",
       "      <th>director_name</th>\n",
       "      <th>duration</th>\n",
       "      <th>gross</th>\n",
       "      <th>genres</th>\n",
       "      <th>movie_title</th>\n",
       "      <th>title_year</th>\n",
       "      <th>language</th>\n",
       "      <th>country</th>\n",
       "      <th>budget</th>\n",
       "      <th>imdb_score</th>\n",
       "      <th>actors</th>\n",
       "      <th>movie_facebook_likes</th>\n",
       "      <th>movie_twitter_likes</th>\n",
       "    </tr>\n",
       "  </thead>\n",
       "  <tbody>\n",
       "    <tr>\n",
       "      <th>8</th>\n",
       "      <td>Color</td>\n",
       "      <td>Joss Whedon</td>\n",
       "      <td>173</td>\n",
       "      <td>$623,279,547.00</td>\n",
       "      <td>Action|Adventure|Sci-Fi</td>\n",
       "      <td>the avengers</td>\n",
       "      <td>2012</td>\n",
       "      <td>English</td>\n",
       "      <td>USA</td>\n",
       "      <td>USD 220,000,000.00</td>\n",
       "      <td>8.1</td>\n",
       "      <td>Chris Hemsworth,Robert Downey Jr.,Scarlett Joh...</td>\n",
       "      <td>123000</td>\n",
       "      <td>1000</td>\n",
       "    </tr>\n",
       "    <tr>\n",
       "      <th>9</th>\n",
       "      <td>Color</td>\n",
       "      <td>Joss Whedon</td>\n",
       "      <td>173</td>\n",
       "      <td>$623,279,547.00</td>\n",
       "      <td>Action|Adventure|Sci-Fi</td>\n",
       "      <td>the avengers</td>\n",
       "      <td>2012</td>\n",
       "      <td>English</td>\n",
       "      <td>USA</td>\n",
       "      <td>USD 220,000,000.00</td>\n",
       "      <td>8.1</td>\n",
       "      <td>Chris Hemsworth,Robert Downey Jr.,Scarlett Joh...</td>\n",
       "      <td>123000</td>\n",
       "      <td>1000</td>\n",
       "    </tr>\n",
       "    <tr>\n",
       "      <th>30</th>\n",
       "      <td>Color</td>\n",
       "      <td>Ridley Scott</td>\n",
       "      <td>150</td>\n",
       "      <td>$65,007,045.00</td>\n",
       "      <td>Action|Adventure|Drama</td>\n",
       "      <td>exodus: gods and kings</td>\n",
       "      <td>2014</td>\n",
       "      <td>English</td>\n",
       "      <td>UK</td>\n",
       "      <td>USD 140,000,000.00</td>\n",
       "      <td>6.1</td>\n",
       "      <td>Christian Bale,María Valverde,Ben Mendelsohn</td>\n",
       "      <td>51000</td>\n",
       "      <td>1000</td>\n",
       "    </tr>\n",
       "    <tr>\n",
       "      <th>31</th>\n",
       "      <td>Color</td>\n",
       "      <td>Ridley Scott</td>\n",
       "      <td>150</td>\n",
       "      <td>$65,007,045.00</td>\n",
       "      <td>Action|Adventure|Drama</td>\n",
       "      <td>exodus: gods and kings</td>\n",
       "      <td>2014</td>\n",
       "      <td>English</td>\n",
       "      <td>UK</td>\n",
       "      <td>USD 140,000,000.00</td>\n",
       "      <td>6.1</td>\n",
       "      <td>Christian Bale,María Valverde,Ben Mendelsohn</td>\n",
       "      <td>51000</td>\n",
       "      <td>1000</td>\n",
       "    </tr>\n",
       "    <tr>\n",
       "      <th>52</th>\n",
       "      <td>Color</td>\n",
       "      <td>Sam Mendes</td>\n",
       "      <td>143</td>\n",
       "      <td>$304,360,277.00</td>\n",
       "      <td>Action|Adventure|Thriller</td>\n",
       "      <td>skyfall</td>\n",
       "      <td>2012</td>\n",
       "      <td>English</td>\n",
       "      <td>UK</td>\n",
       "      <td>USD 200,000,000.00</td>\n",
       "      <td>7.8</td>\n",
       "      <td>Albert Finney,Helen McCrory,Rory Kinnear</td>\n",
       "      <td>80000</td>\n",
       "      <td>1000</td>\n",
       "    </tr>\n",
       "    <tr>\n",
       "      <th>53</th>\n",
       "      <td>Color</td>\n",
       "      <td>Sam Mendes</td>\n",
       "      <td>143</td>\n",
       "      <td>$304,360,277.00</td>\n",
       "      <td>Action|Adventure|Thriller</td>\n",
       "      <td>skyfall</td>\n",
       "      <td>2012</td>\n",
       "      <td>English</td>\n",
       "      <td>UK</td>\n",
       "      <td>USD 200,000,000.00</td>\n",
       "      <td>7.8</td>\n",
       "      <td>Albert Finney,Helen McCrory,Rory Kinnear</td>\n",
       "      <td>80000</td>\n",
       "      <td>1000</td>\n",
       "    </tr>\n",
       "    <tr>\n",
       "      <th>54</th>\n",
       "      <td>Color</td>\n",
       "      <td>Baz Luhrmann</td>\n",
       "      <td>143</td>\n",
       "      <td>$144,812,796.00</td>\n",
       "      <td>Drama|Romance</td>\n",
       "      <td>the great gatsby</td>\n",
       "      <td>2013</td>\n",
       "      <td>English</td>\n",
       "      <td>Australia</td>\n",
       "      <td>USD 105,000,000.00</td>\n",
       "      <td>7.3</td>\n",
       "      <td>Leonardo DiCaprio,Elizabeth Debicki,Steve Bisley</td>\n",
       "      <td>115000</td>\n",
       "      <td>1000</td>\n",
       "    </tr>\n",
       "    <tr>\n",
       "      <th>55</th>\n",
       "      <td>Color</td>\n",
       "      <td>Baz Luhrmann</td>\n",
       "      <td>143</td>\n",
       "      <td>$144,812,796.00</td>\n",
       "      <td>Drama|Romance</td>\n",
       "      <td>the great gatsby</td>\n",
       "      <td>2013</td>\n",
       "      <td>English</td>\n",
       "      <td>Australia</td>\n",
       "      <td>USD 105,000,000.00</td>\n",
       "      <td>7.3</td>\n",
       "      <td>Leonardo DiCaprio,Elizabeth Debicki,Steve Bisley</td>\n",
       "      <td>115000</td>\n",
       "      <td>1000</td>\n",
       "    </tr>\n",
       "    <tr>\n",
       "      <th>61</th>\n",
       "      <td>Color</td>\n",
       "      <td>Timur Bekmambetov</td>\n",
       "      <td>141</td>\n",
       "      <td>$nan</td>\n",
       "      <td>Adventure|Drama|History</td>\n",
       "      <td>ben-hur</td>\n",
       "      <td>2016</td>\n",
       "      <td>English</td>\n",
       "      <td>USA</td>\n",
       "      <td>USD 100,000,000.00</td>\n",
       "      <td>6.1</td>\n",
       "      <td>Morgan Freeman,Ayelet Zurer,Moises Arias</td>\n",
       "      <td>0</td>\n",
       "      <td>1000</td>\n",
       "    </tr>\n",
       "    <tr>\n",
       "      <th>63</th>\n",
       "      <td>Color</td>\n",
       "      <td>Timur Bekmambetov</td>\n",
       "      <td>141</td>\n",
       "      <td>$nan</td>\n",
       "      <td>Adventure|Drama|History</td>\n",
       "      <td>ben-hur</td>\n",
       "      <td>2016</td>\n",
       "      <td>English</td>\n",
       "      <td>USA</td>\n",
       "      <td>USD 100,000,000.00</td>\n",
       "      <td>6.1</td>\n",
       "      <td>Morgan Freeman,Ayelet Zurer,Moises Arias</td>\n",
       "      <td>0</td>\n",
       "      <td>1000</td>\n",
       "    </tr>\n",
       "  </tbody>\n",
       "</table>\n",
       "</div>"
      ],
      "text/plain": [
       "    color      director_name  duration            gross  \\\n",
       "8   Color        Joss Whedon       173  $623,279,547.00   \n",
       "9   Color        Joss Whedon       173  $623,279,547.00   \n",
       "30  Color       Ridley Scott       150   $65,007,045.00   \n",
       "31  Color       Ridley Scott       150   $65,007,045.00   \n",
       "52  Color         Sam Mendes       143  $304,360,277.00   \n",
       "53  Color         Sam Mendes       143  $304,360,277.00   \n",
       "54  Color       Baz Luhrmann       143  $144,812,796.00   \n",
       "55  Color       Baz Luhrmann       143  $144,812,796.00   \n",
       "61  Color  Timur Bekmambetov       141             $nan   \n",
       "63  Color  Timur Bekmambetov       141             $nan   \n",
       "\n",
       "                       genres             movie_title  title_year language  \\\n",
       "8     Action|Adventure|Sci-Fi            the avengers        2012  English   \n",
       "9     Action|Adventure|Sci-Fi            the avengers        2012  English   \n",
       "30     Action|Adventure|Drama  exodus: gods and kings        2014  English   \n",
       "31     Action|Adventure|Drama  exodus: gods and kings        2014  English   \n",
       "52  Action|Adventure|Thriller                 skyfall        2012  English   \n",
       "53  Action|Adventure|Thriller                 skyfall        2012  English   \n",
       "54              Drama|Romance        the great gatsby        2013  English   \n",
       "55              Drama|Romance        the great gatsby        2013  English   \n",
       "61    Adventure|Drama|History                 ben-hur        2016  English   \n",
       "63    Adventure|Drama|History                 ben-hur        2016  English   \n",
       "\n",
       "      country              budget  imdb_score  \\\n",
       "8         USA  USD 220,000,000.00         8.1   \n",
       "9         USA  USD 220,000,000.00         8.1   \n",
       "30         UK  USD 140,000,000.00         6.1   \n",
       "31         UK  USD 140,000,000.00         6.1   \n",
       "52         UK  USD 200,000,000.00         7.8   \n",
       "53         UK  USD 200,000,000.00         7.8   \n",
       "54  Australia  USD 105,000,000.00         7.3   \n",
       "55  Australia  USD 105,000,000.00         7.3   \n",
       "61        USA  USD 100,000,000.00         6.1   \n",
       "63        USA  USD 100,000,000.00         6.1   \n",
       "\n",
       "                                               actors  movie_facebook_likes  \\\n",
       "8   Chris Hemsworth,Robert Downey Jr.,Scarlett Joh...                123000   \n",
       "9   Chris Hemsworth,Robert Downey Jr.,Scarlett Joh...                123000   \n",
       "30       Christian Bale,María Valverde,Ben Mendelsohn                 51000   \n",
       "31       Christian Bale,María Valverde,Ben Mendelsohn                 51000   \n",
       "52           Albert Finney,Helen McCrory,Rory Kinnear                 80000   \n",
       "53           Albert Finney,Helen McCrory,Rory Kinnear                 80000   \n",
       "54   Leonardo DiCaprio,Elizabeth Debicki,Steve Bisley                115000   \n",
       "55   Leonardo DiCaprio,Elizabeth Debicki,Steve Bisley                115000   \n",
       "61           Morgan Freeman,Ayelet Zurer,Moises Arias                     0   \n",
       "63           Morgan Freeman,Ayelet Zurer,Moises Arias                     0   \n",
       "\n",
       "    movie_twitter_likes  \n",
       "8                  1000  \n",
       "9                  1000  \n",
       "30                 1000  \n",
       "31                 1000  \n",
       "52                 1000  \n",
       "53                 1000  \n",
       "54                 1000  \n",
       "55                 1000  \n",
       "61                 1000  \n",
       "63                 1000  "
      ]
     },
     "execution_count": 14,
     "metadata": {},
     "output_type": "execute_result"
    }
   ],
   "source": [
    "df_imdb[df_imdb.duplicated(keep=False)]"
   ]
  },
  {
   "cell_type": "code",
   "execution_count": 15,
   "metadata": {},
   "outputs": [
    {
     "data": {
      "text/html": [
       "<div>\n",
       "<style scoped>\n",
       "    .dataframe tbody tr th:only-of-type {\n",
       "        vertical-align: middle;\n",
       "    }\n",
       "\n",
       "    .dataframe tbody tr th {\n",
       "        vertical-align: top;\n",
       "    }\n",
       "\n",
       "    .dataframe thead th {\n",
       "        text-align: right;\n",
       "    }\n",
       "</style>\n",
       "<table border=\"1\" class=\"dataframe\">\n",
       "  <thead>\n",
       "    <tr style=\"text-align: right;\">\n",
       "      <th></th>\n",
       "      <th>color</th>\n",
       "      <th>director_name</th>\n",
       "      <th>duration</th>\n",
       "      <th>gross</th>\n",
       "      <th>genres</th>\n",
       "      <th>movie_title</th>\n",
       "      <th>title_year</th>\n",
       "      <th>language</th>\n",
       "      <th>country</th>\n",
       "      <th>budget</th>\n",
       "      <th>imdb_score</th>\n",
       "      <th>actors</th>\n",
       "      <th>movie_facebook_likes</th>\n",
       "      <th>movie_twitter_likes</th>\n",
       "    </tr>\n",
       "  </thead>\n",
       "  <tbody>\n",
       "    <tr>\n",
       "      <th>9</th>\n",
       "      <td>Color</td>\n",
       "      <td>Joss Whedon</td>\n",
       "      <td>173</td>\n",
       "      <td>$623,279,547.00</td>\n",
       "      <td>Action|Adventure|Sci-Fi</td>\n",
       "      <td>the avengers</td>\n",
       "      <td>2012</td>\n",
       "      <td>English</td>\n",
       "      <td>USA</td>\n",
       "      <td>USD 220,000,000.00</td>\n",
       "      <td>8.1</td>\n",
       "      <td>Chris Hemsworth,Robert Downey Jr.,Scarlett Joh...</td>\n",
       "      <td>123000</td>\n",
       "      <td>1000</td>\n",
       "    </tr>\n",
       "    <tr>\n",
       "      <th>31</th>\n",
       "      <td>Color</td>\n",
       "      <td>Ridley Scott</td>\n",
       "      <td>150</td>\n",
       "      <td>$65,007,045.00</td>\n",
       "      <td>Action|Adventure|Drama</td>\n",
       "      <td>exodus: gods and kings</td>\n",
       "      <td>2014</td>\n",
       "      <td>English</td>\n",
       "      <td>UK</td>\n",
       "      <td>USD 140,000,000.00</td>\n",
       "      <td>6.1</td>\n",
       "      <td>Christian Bale,María Valverde,Ben Mendelsohn</td>\n",
       "      <td>51000</td>\n",
       "      <td>1000</td>\n",
       "    </tr>\n",
       "    <tr>\n",
       "      <th>53</th>\n",
       "      <td>Color</td>\n",
       "      <td>Sam Mendes</td>\n",
       "      <td>143</td>\n",
       "      <td>$304,360,277.00</td>\n",
       "      <td>Action|Adventure|Thriller</td>\n",
       "      <td>skyfall</td>\n",
       "      <td>2012</td>\n",
       "      <td>English</td>\n",
       "      <td>UK</td>\n",
       "      <td>USD 200,000,000.00</td>\n",
       "      <td>7.8</td>\n",
       "      <td>Albert Finney,Helen McCrory,Rory Kinnear</td>\n",
       "      <td>80000</td>\n",
       "      <td>1000</td>\n",
       "    </tr>\n",
       "    <tr>\n",
       "      <th>55</th>\n",
       "      <td>Color</td>\n",
       "      <td>Baz Luhrmann</td>\n",
       "      <td>143</td>\n",
       "      <td>$144,812,796.00</td>\n",
       "      <td>Drama|Romance</td>\n",
       "      <td>the great gatsby</td>\n",
       "      <td>2013</td>\n",
       "      <td>English</td>\n",
       "      <td>Australia</td>\n",
       "      <td>USD 105,000,000.00</td>\n",
       "      <td>7.3</td>\n",
       "      <td>Leonardo DiCaprio,Elizabeth Debicki,Steve Bisley</td>\n",
       "      <td>115000</td>\n",
       "      <td>1000</td>\n",
       "    </tr>\n",
       "    <tr>\n",
       "      <th>63</th>\n",
       "      <td>Color</td>\n",
       "      <td>Timur Bekmambetov</td>\n",
       "      <td>141</td>\n",
       "      <td>$nan</td>\n",
       "      <td>Adventure|Drama|History</td>\n",
       "      <td>ben-hur</td>\n",
       "      <td>2016</td>\n",
       "      <td>English</td>\n",
       "      <td>USA</td>\n",
       "      <td>USD 100,000,000.00</td>\n",
       "      <td>6.1</td>\n",
       "      <td>Morgan Freeman,Ayelet Zurer,Moises Arias</td>\n",
       "      <td>0</td>\n",
       "      <td>1000</td>\n",
       "    </tr>\n",
       "  </tbody>\n",
       "</table>\n",
       "</div>"
      ],
      "text/plain": [
       "    color      director_name  duration            gross  \\\n",
       "9   Color        Joss Whedon       173  $623,279,547.00   \n",
       "31  Color       Ridley Scott       150   $65,007,045.00   \n",
       "53  Color         Sam Mendes       143  $304,360,277.00   \n",
       "55  Color       Baz Luhrmann       143  $144,812,796.00   \n",
       "63  Color  Timur Bekmambetov       141             $nan   \n",
       "\n",
       "                       genres             movie_title  title_year language  \\\n",
       "9     Action|Adventure|Sci-Fi            the avengers        2012  English   \n",
       "31     Action|Adventure|Drama  exodus: gods and kings        2014  English   \n",
       "53  Action|Adventure|Thriller                 skyfall        2012  English   \n",
       "55              Drama|Romance        the great gatsby        2013  English   \n",
       "63    Adventure|Drama|History                 ben-hur        2016  English   \n",
       "\n",
       "      country              budget  imdb_score  \\\n",
       "9         USA  USD 220,000,000.00         8.1   \n",
       "31         UK  USD 140,000,000.00         6.1   \n",
       "53         UK  USD 200,000,000.00         7.8   \n",
       "55  Australia  USD 105,000,000.00         7.3   \n",
       "63        USA  USD 100,000,000.00         6.1   \n",
       "\n",
       "                                               actors  movie_facebook_likes  \\\n",
       "9   Chris Hemsworth,Robert Downey Jr.,Scarlett Joh...                123000   \n",
       "31       Christian Bale,María Valverde,Ben Mendelsohn                 51000   \n",
       "53           Albert Finney,Helen McCrory,Rory Kinnear                 80000   \n",
       "55   Leonardo DiCaprio,Elizabeth Debicki,Steve Bisley                115000   \n",
       "63           Morgan Freeman,Ayelet Zurer,Moises Arias                     0   \n",
       "\n",
       "    movie_twitter_likes  \n",
       "9                  1000  \n",
       "31                 1000  \n",
       "53                 1000  \n",
       "55                 1000  \n",
       "63                 1000  "
      ]
     },
     "execution_count": 15,
     "metadata": {},
     "output_type": "execute_result"
    }
   ],
   "source": [
    "df_imdb[df_imdb.duplicated(keep=\"first\")]"
   ]
  },
  {
   "cell_type": "code",
   "execution_count": 16,
   "metadata": {},
   "outputs": [
    {
     "data": {
      "text/plain": [
       "((99, 14), (94, 14))"
      ]
     },
     "execution_count": 16,
     "metadata": {},
     "output_type": "execute_result"
    }
   ],
   "source": [
    "df_imdb.shape, df_imdb.drop_duplicates().shape"
   ]
  },
  {
   "cell_type": "code",
   "execution_count": 17,
   "metadata": {},
   "outputs": [],
   "source": [
    "df_imdb.drop_duplicates(inplace=True)"
   ]
  },
  {
   "cell_type": "markdown",
   "metadata": {},
   "source": [
    "## Tratamiento de columnas\n",
    "\n",
    "Dani:\n",
    "\n",
    "- `color`\n",
    "- `director_name`\n",
    "- `gross`\n",
    "- `budget`\n",
    "- `genre`\n",
    "\n",
    "Todos:\n",
    "- `duration`\n",
    "- `movie_title`\n",
    "- `title_year`\n",
    "- `movie_twitter_likes`\n",
    "- `imdb_score`\n",
    "- `country`\n",
    "- `language`\n",
    "- `actors`\n",
    "- `movie_facebook_likes`\n"
   ]
  },
  {
   "cell_type": "markdown",
   "metadata": {},
   "source": [
    "### Columna `color`"
   ]
  },
  {
   "cell_type": "code",
   "execution_count": 18,
   "metadata": {},
   "outputs": [
    {
     "data": {
      "text/plain": [
       "Color               81\n",
       "NaN                 11\n",
       " Black and White     1\n",
       "color                1\n",
       "Name: color, dtype: int64"
      ]
     },
     "execution_count": 18,
     "metadata": {},
     "output_type": "execute_result"
    }
   ],
   "source": [
    "df_imdb.color.value_counts(dropna=False)"
   ]
  },
  {
   "cell_type": "code",
   "execution_count": 19,
   "metadata": {},
   "outputs": [
    {
     "data": {
      "text/html": [
       "<div>\n",
       "<style scoped>\n",
       "    .dataframe tbody tr th:only-of-type {\n",
       "        vertical-align: middle;\n",
       "    }\n",
       "\n",
       "    .dataframe tbody tr th {\n",
       "        vertical-align: top;\n",
       "    }\n",
       "\n",
       "    .dataframe thead th {\n",
       "        text-align: right;\n",
       "    }\n",
       "</style>\n",
       "<table border=\"1\" class=\"dataframe\">\n",
       "  <thead>\n",
       "    <tr style=\"text-align: right;\">\n",
       "      <th></th>\n",
       "      <th>5</th>\n",
       "      <th>10</th>\n",
       "      <th>15</th>\n",
       "      <th>18</th>\n",
       "      <th>56</th>\n",
       "      <th>65</th>\n",
       "      <th>74</th>\n",
       "      <th>76</th>\n",
       "      <th>80</th>\n",
       "      <th>83</th>\n",
       "      <th>87</th>\n",
       "    </tr>\n",
       "  </thead>\n",
       "  <tbody>\n",
       "    <tr>\n",
       "      <th>color</th>\n",
       "      <td>NaN</td>\n",
       "      <td>NaN</td>\n",
       "      <td>NaN</td>\n",
       "      <td>NaN</td>\n",
       "      <td>NaN</td>\n",
       "      <td>NaN</td>\n",
       "      <td>NaN</td>\n",
       "      <td>NaN</td>\n",
       "      <td>NaN</td>\n",
       "      <td>NaN</td>\n",
       "      <td>NaN</td>\n",
       "    </tr>\n",
       "    <tr>\n",
       "      <th>director_name</th>\n",
       "      <td>NaN</td>\n",
       "      <td>Tom Tykwer</td>\n",
       "      <td>Richard Linklater</td>\n",
       "      <td>Christopher Nolan</td>\n",
       "      <td>NaN</td>\n",
       "      <td>Oliver Stone</td>\n",
       "      <td>Terrence Malick</td>\n",
       "      <td>Robert Zemeckis</td>\n",
       "      <td>James Mangold</td>\n",
       "      <td>Walter Salles</td>\n",
       "      <td>Seth MacFarlane</td>\n",
       "    </tr>\n",
       "    <tr>\n",
       "      <th>duration</th>\n",
       "      <td>183</td>\n",
       "      <td>172</td>\n",
       "      <td>165</td>\n",
       "      <td>164</td>\n",
       "      <td>143</td>\n",
       "      <td>141</td>\n",
       "      <td>139</td>\n",
       "      <td>138</td>\n",
       "      <td>138</td>\n",
       "      <td>137</td>\n",
       "      <td>136</td>\n",
       "    </tr>\n",
       "    <tr>\n",
       "      <th>gross</th>\n",
       "      <td>$330,249,062.00</td>\n",
       "      <td>$27,098,580.00</td>\n",
       "      <td>$25,359,200.00</td>\n",
       "      <td>$448,130,642.00</td>\n",
       "      <td>$nan</td>\n",
       "      <td>$47,307,550.00</td>\n",
       "      <td>$13,303,319.00</td>\n",
       "      <td>$93,749,203.00</td>\n",
       "      <td>$132,550,960.00</td>\n",
       "      <td>$717,753.00</td>\n",
       "      <td>$42,615,685.00</td>\n",
       "    </tr>\n",
       "    <tr>\n",
       "      <th>genres</th>\n",
       "      <td>Action|Adventure|Sci-Fi</td>\n",
       "      <td>Drama|Sci-Fi</td>\n",
       "      <td>Drama</td>\n",
       "      <td>Action|Thriller</td>\n",
       "      <td>Drama|Horror|Thriller</td>\n",
       "      <td>Crime|Drama|Thriller</td>\n",
       "      <td>Drama|Fantasy</td>\n",
       "      <td>Drama|Thriller</td>\n",
       "      <td>Action|Adventure|Sci-Fi|Thriller</td>\n",
       "      <td>Adventure|Drama</td>\n",
       "      <td>Comedy|Western</td>\n",
       "    </tr>\n",
       "    <tr>\n",
       "      <th>movie_title</th>\n",
       "      <td>batman v superman: dawn of justice</td>\n",
       "      <td>cloud atlas</td>\n",
       "      <td>boyhood</td>\n",
       "      <td>the dark knight rises</td>\n",
       "      <td>the ridges</td>\n",
       "      <td>savages</td>\n",
       "      <td>the tree of life</td>\n",
       "      <td>flight</td>\n",
       "      <td>the wolverine</td>\n",
       "      <td>on the road</td>\n",
       "      <td>a million ways to die in the west</td>\n",
       "    </tr>\n",
       "    <tr>\n",
       "      <th>title_year</th>\n",
       "      <td>202</td>\n",
       "      <td>2012</td>\n",
       "      <td>2014</td>\n",
       "      <td>2012</td>\n",
       "      <td>2011</td>\n",
       "      <td>2012</td>\n",
       "      <td>2011</td>\n",
       "      <td>2012</td>\n",
       "      <td>2013</td>\n",
       "      <td>2012</td>\n",
       "      <td>2014</td>\n",
       "    </tr>\n",
       "    <tr>\n",
       "      <th>language</th>\n",
       "      <td>English</td>\n",
       "      <td>English</td>\n",
       "      <td>English</td>\n",
       "      <td>English</td>\n",
       "      <td>English</td>\n",
       "      <td>English</td>\n",
       "      <td>English</td>\n",
       "      <td>English</td>\n",
       "      <td>English</td>\n",
       "      <td>English</td>\n",
       "      <td>English</td>\n",
       "    </tr>\n",
       "    <tr>\n",
       "      <th>country</th>\n",
       "      <td>USA</td>\n",
       "      <td>Germany</td>\n",
       "      <td>USA</td>\n",
       "      <td>USA</td>\n",
       "      <td>USA</td>\n",
       "      <td>USA</td>\n",
       "      <td>USA</td>\n",
       "      <td>USA</td>\n",
       "      <td>USA</td>\n",
       "      <td>France</td>\n",
       "      <td>USA</td>\n",
       "    </tr>\n",
       "    <tr>\n",
       "      <th>budget</th>\n",
       "      <td>USD 250,000,000.00</td>\n",
       "      <td>USD 102,000,000.00</td>\n",
       "      <td>USD 4,000,000.00</td>\n",
       "      <td>USD 250,000,000.00</td>\n",
       "      <td>USD 17,350.00</td>\n",
       "      <td>USD 45,000,000.00</td>\n",
       "      <td>USD 32,000,000.00</td>\n",
       "      <td>USD 31,000,000.00</td>\n",
       "      <td>USD 120,000,000.00</td>\n",
       "      <td>USD 25,000,000.00</td>\n",
       "      <td>USD 40,000,000.00</td>\n",
       "    </tr>\n",
       "    <tr>\n",
       "      <th>imdb_score</th>\n",
       "      <td>6.9</td>\n",
       "      <td>-7.5</td>\n",
       "      <td>8.0</td>\n",
       "      <td>8.5</td>\n",
       "      <td>3.0</td>\n",
       "      <td>6.5</td>\n",
       "      <td>6.7</td>\n",
       "      <td>7.3</td>\n",
       "      <td>6.7</td>\n",
       "      <td>6.1</td>\n",
       "      <td>6.1</td>\n",
       "    </tr>\n",
       "    <tr>\n",
       "      <th>actors</th>\n",
       "      <td>Henry Cavill,Lauren Cohan,Alan D. Purwin</td>\n",
       "      <td>Tom Hanks,Jim Sturgess,Jim Broadbent</td>\n",
       "      <td>Ellar Coltrane,Lorelei Linklater,Libby Villari</td>\n",
       "      <td>Tom Hardy,Christian Bale,Joseph Gordon-Levitt</td>\n",
       "      <td>Robbie Barnes,Alana Kaniewski,Brandon Landers</td>\n",
       "      <td>Demián Bichir,Shea Whigham,Gary Stretch</td>\n",
       "      <td>Brad Pitt,Tye Sheridan,Fiona Shaw</td>\n",
       "      <td>Denzel Washington,Bruce Greenwood,Nadine Velaz...</td>\n",
       "      <td>Hugh Jackman,Tao Okamoto,Rila Fukushima</td>\n",
       "      <td>Kristen Stewart,Viggo Mortensen,Kirsten Dunst</td>\n",
       "      <td>Liam Neeson,Charlize Theron,Seth MacFarlane</td>\n",
       "    </tr>\n",
       "    <tr>\n",
       "      <th>movie_facebook_likes</th>\n",
       "      <td>197000</td>\n",
       "      <td>124000</td>\n",
       "      <td>92000</td>\n",
       "      <td>164000</td>\n",
       "      <td>33</td>\n",
       "      <td>28000</td>\n",
       "      <td>39000</td>\n",
       "      <td>64000</td>\n",
       "      <td>68000</td>\n",
       "      <td>27000</td>\n",
       "      <td>24000</td>\n",
       "    </tr>\n",
       "    <tr>\n",
       "      <th>movie_twitter_likes</th>\n",
       "      <td>1000</td>\n",
       "      <td>1000</td>\n",
       "      <td>1000</td>\n",
       "      <td>1000</td>\n",
       "      <td>1000</td>\n",
       "      <td>1000</td>\n",
       "      <td>1000</td>\n",
       "      <td>1000</td>\n",
       "      <td>1000</td>\n",
       "      <td>1000</td>\n",
       "      <td>1000</td>\n",
       "    </tr>\n",
       "  </tbody>\n",
       "</table>\n",
       "</div>"
      ],
      "text/plain": [
       "                                                            5   \\\n",
       "color                                                      NaN   \n",
       "director_name                                              NaN   \n",
       "duration                                                   183   \n",
       "gross                                          $330,249,062.00   \n",
       "genres                                 Action|Adventure|Sci-Fi   \n",
       "movie_title                 batman v superman: dawn of justice   \n",
       "title_year                                                 202   \n",
       "language                                               English   \n",
       "country                                                    USA   \n",
       "budget                                      USD 250,000,000.00   \n",
       "imdb_score                                                 6.9   \n",
       "actors                Henry Cavill,Lauren Cohan,Alan D. Purwin   \n",
       "movie_facebook_likes                                    197000   \n",
       "movie_twitter_likes                                       1000   \n",
       "\n",
       "                                                        10  \\\n",
       "color                                                  NaN   \n",
       "director_name                                   Tom Tykwer   \n",
       "duration                                               172   \n",
       "gross                                       $27,098,580.00   \n",
       "genres                                        Drama|Sci-Fi   \n",
       "movie_title                                    cloud atlas   \n",
       "title_year                                            2012   \n",
       "language                                           English   \n",
       "country                                            Germany   \n",
       "budget                                  USD 102,000,000.00   \n",
       "imdb_score                                            -7.5   \n",
       "actors                Tom Hanks,Jim Sturgess,Jim Broadbent   \n",
       "movie_facebook_likes                                124000   \n",
       "movie_twitter_likes                                   1000   \n",
       "\n",
       "                                                                  15  \\\n",
       "color                                                            NaN   \n",
       "director_name                                      Richard Linklater   \n",
       "duration                                                         165   \n",
       "gross                                                 $25,359,200.00   \n",
       "genres                                                         Drama   \n",
       "movie_title                                                  boyhood   \n",
       "title_year                                                      2014   \n",
       "language                                                     English   \n",
       "country                                                          USA   \n",
       "budget                                              USD 4,000,000.00   \n",
       "imdb_score                                                       8.0   \n",
       "actors                Ellar Coltrane,Lorelei Linklater,Libby Villari   \n",
       "movie_facebook_likes                                           92000   \n",
       "movie_twitter_likes                                             1000   \n",
       "\n",
       "                                                                 18  \\\n",
       "color                                                           NaN   \n",
       "director_name                                     Christopher Nolan   \n",
       "duration                                                        164   \n",
       "gross                                               $448,130,642.00   \n",
       "genres                                              Action|Thriller   \n",
       "movie_title                                   the dark knight rises   \n",
       "title_year                                                     2012   \n",
       "language                                                    English   \n",
       "country                                                         USA   \n",
       "budget                                           USD 250,000,000.00   \n",
       "imdb_score                                                      8.5   \n",
       "actors                Tom Hardy,Christian Bale,Joseph Gordon-Levitt   \n",
       "movie_facebook_likes                                         164000   \n",
       "movie_twitter_likes                                            1000   \n",
       "\n",
       "                                                                 56  \\\n",
       "color                                                           NaN   \n",
       "director_name                                                   NaN   \n",
       "duration                                                        143   \n",
       "gross                                                          $nan   \n",
       "genres                                        Drama|Horror|Thriller   \n",
       "movie_title                                              the ridges   \n",
       "title_year                                                     2011   \n",
       "language                                                    English   \n",
       "country                                                         USA   \n",
       "budget                                                USD 17,350.00   \n",
       "imdb_score                                                      3.0   \n",
       "actors                Robbie Barnes,Alana Kaniewski,Brandon Landers   \n",
       "movie_facebook_likes                                             33   \n",
       "movie_twitter_likes                                            1000   \n",
       "\n",
       "                                                           65  \\\n",
       "color                                                     NaN   \n",
       "director_name                                    Oliver Stone   \n",
       "duration                                                  141   \n",
       "gross                                          $47,307,550.00   \n",
       "genres                                   Crime|Drama|Thriller   \n",
       "movie_title                                           savages   \n",
       "title_year                                               2012   \n",
       "language                                              English   \n",
       "country                                                   USA   \n",
       "budget                                      USD 45,000,000.00   \n",
       "imdb_score                                                6.5   \n",
       "actors                Demián Bichir,Shea Whigham,Gary Stretch   \n",
       "movie_facebook_likes                                    28000   \n",
       "movie_twitter_likes                                      1000   \n",
       "\n",
       "                                                     74  \\\n",
       "color                                               NaN   \n",
       "director_name                           Terrence Malick   \n",
       "duration                                            139   \n",
       "gross                                    $13,303,319.00   \n",
       "genres                                    Drama|Fantasy   \n",
       "movie_title                            the tree of life   \n",
       "title_year                                         2011   \n",
       "language                                        English   \n",
       "country                                             USA   \n",
       "budget                                USD 32,000,000.00   \n",
       "imdb_score                                          6.7   \n",
       "actors                Brad Pitt,Tye Sheridan,Fiona Shaw   \n",
       "movie_facebook_likes                              39000   \n",
       "movie_twitter_likes                                1000   \n",
       "\n",
       "                                                                     76  \\\n",
       "color                                                               NaN   \n",
       "director_name                                           Robert Zemeckis   \n",
       "duration                                                            138   \n",
       "gross                                                    $93,749,203.00   \n",
       "genres                                                   Drama|Thriller   \n",
       "movie_title                                                      flight   \n",
       "title_year                                                         2012   \n",
       "language                                                        English   \n",
       "country                                                             USA   \n",
       "budget                                                USD 31,000,000.00   \n",
       "imdb_score                                                          7.3   \n",
       "actors                Denzel Washington,Bruce Greenwood,Nadine Velaz...   \n",
       "movie_facebook_likes                                              64000   \n",
       "movie_twitter_likes                                                1000   \n",
       "\n",
       "                                                           80  \\\n",
       "color                                                     NaN   \n",
       "director_name                                   James Mangold   \n",
       "duration                                                  138   \n",
       "gross                                         $132,550,960.00   \n",
       "genres                       Action|Adventure|Sci-Fi|Thriller   \n",
       "movie_title                                     the wolverine   \n",
       "title_year                                               2013   \n",
       "language                                              English   \n",
       "country                                                   USA   \n",
       "budget                                     USD 120,000,000.00   \n",
       "imdb_score                                                6.7   \n",
       "actors                Hugh Jackman,Tao Okamoto,Rila Fukushima   \n",
       "movie_facebook_likes                                    68000   \n",
       "movie_twitter_likes                                      1000   \n",
       "\n",
       "                                                                 83  \\\n",
       "color                                                           NaN   \n",
       "director_name                                         Walter Salles   \n",
       "duration                                                        137   \n",
       "gross                                                   $717,753.00   \n",
       "genres                                              Adventure|Drama   \n",
       "movie_title                                             on the road   \n",
       "title_year                                                     2012   \n",
       "language                                                    English   \n",
       "country                                                      France   \n",
       "budget                                            USD 25,000,000.00   \n",
       "imdb_score                                                      6.1   \n",
       "actors                Kristen Stewart,Viggo Mortensen,Kirsten Dunst   \n",
       "movie_facebook_likes                                          27000   \n",
       "movie_twitter_likes                                            1000   \n",
       "\n",
       "                                                               87  \n",
       "color                                                         NaN  \n",
       "director_name                                     Seth MacFarlane  \n",
       "duration                                                      136  \n",
       "gross                                              $42,615,685.00  \n",
       "genres                                             Comedy|Western  \n",
       "movie_title                     a million ways to die in the west  \n",
       "title_year                                                   2014  \n",
       "language                                                  English  \n",
       "country                                                       USA  \n",
       "budget                                          USD 40,000,000.00  \n",
       "imdb_score                                                    6.1  \n",
       "actors                Liam Neeson,Charlize Theron,Seth MacFarlane  \n",
       "movie_facebook_likes                                        24000  \n",
       "movie_twitter_likes                                          1000  "
      ]
     },
     "execution_count": 19,
     "metadata": {},
     "output_type": "execute_result"
    }
   ],
   "source": [
    "df_imdb[df_imdb.color.isna()].T"
   ]
  },
  {
   "cell_type": "code",
   "execution_count": 20,
   "metadata": {},
   "outputs": [],
   "source": [
    "df_imdb.loc[df_imdb.color.isna(), \"color\"] = \"Color\""
   ]
  },
  {
   "cell_type": "code",
   "execution_count": 21,
   "metadata": {},
   "outputs": [
    {
     "data": {
      "text/plain": [
       "Color               92\n",
       " Black and White     1\n",
       "color                1\n",
       "Name: color, dtype: int64"
      ]
     },
     "execution_count": 21,
     "metadata": {},
     "output_type": "execute_result"
    }
   ],
   "source": [
    "df_imdb.color.value_counts(dropna=False)"
   ]
  },
  {
   "cell_type": "code",
   "execution_count": 22,
   "metadata": {},
   "outputs": [
    {
     "data": {
      "text/plain": [
       "Color              92\n",
       "Black and White     1\n",
       "color               1\n",
       "Name: color, dtype: int64"
      ]
     },
     "execution_count": 22,
     "metadata": {},
     "output_type": "execute_result"
    }
   ],
   "source": [
    "df_imdb.color.str.strip().value_counts()"
   ]
  },
  {
   "cell_type": "code",
   "execution_count": 23,
   "metadata": {},
   "outputs": [
    {
     "data": {
      "text/plain": [
       "Color              93\n",
       "Black and white     1\n",
       "Name: color, dtype: int64"
      ]
     },
     "execution_count": 23,
     "metadata": {},
     "output_type": "execute_result"
    }
   ],
   "source": [
    "df_imdb.color.str.strip().str.capitalize().value_counts()"
   ]
  },
  {
   "cell_type": "code",
   "execution_count": 24,
   "metadata": {},
   "outputs": [],
   "source": [
    "df_imdb[\"color\"] = df_imdb.color.str.strip().str.capitalize()"
   ]
  },
  {
   "cell_type": "code",
   "execution_count": 25,
   "metadata": {},
   "outputs": [
    {
     "data": {
      "text/plain": [
       "Color              93\n",
       "Black and white     1\n",
       "Name: color, dtype: int64"
      ]
     },
     "execution_count": 25,
     "metadata": {},
     "output_type": "execute_result"
    }
   ],
   "source": [
    "df_imdb[\"color\"].value_counts(dropna=False)"
   ]
  },
  {
   "cell_type": "code",
   "execution_count": 26,
   "metadata": {},
   "outputs": [],
   "source": [
    "assert df_imdb.color.isna().any() == False\n",
    "assert sorted(df_imdb.color.unique()) == [\"Black and white\", \"Color\"]"
   ]
  },
  {
   "cell_type": "markdown",
   "metadata": {},
   "source": [
    "### Columna `director_name`"
   ]
  },
  {
   "cell_type": "code",
   "execution_count": 27,
   "metadata": {},
   "outputs": [
    {
     "data": {
      "text/plain": [
       "NaN                  11\n",
       "Christopher Nolan     3\n",
       "Michael Bay           3\n",
       "Peter Jackson         3\n",
       "Ridley Scott          3\n",
       "                     ..\n",
       "Edward Hall           1\n",
       "James Wan             1\n",
       "David Ayer            1\n",
       "Francis Lawrence      1\n",
       "Baz Luhrmann          1\n",
       "Name: director_name, Length: 64, dtype: int64"
      ]
     },
     "execution_count": 27,
     "metadata": {},
     "output_type": "execute_result"
    }
   ],
   "source": [
    "df_imdb.director_name.value_counts(dropna=False)"
   ]
  },
  {
   "cell_type": "code",
   "execution_count": 28,
   "metadata": {},
   "outputs": [
    {
     "name": "stdout",
     "output_type": "stream",
     "text": [
      "NaN                     11\n",
      "Christopher Nolan        3\n",
      "Michael Bay              3\n",
      "Peter Jackson            3\n",
      "Ridley Scott             3\n",
      "Quentin Tarantino        2\n",
      "Marc Webb                2\n",
      "Timur Bekmambetov        2\n",
      "Martin Scorsese          2\n",
      "Bryan Singer             2\n",
      "Joss Whedon              2\n",
      "Paul Thomas Anderson     2\n",
      "Angelina Jolie Pitt      2\n",
      "Tate Taylor              2\n",
      "Tom Hooper               2\n",
      "Sam Mendes               2\n",
      "Steven Spielberg         2\n",
      "Terrence Malick          1\n",
      "Denis Villeneuve         1\n",
      "Walter Salles            1\n",
      "Derek Cianfrance         1\n",
      "Seth MacFarlane          1\n",
      "Kathryn Bigelow          1\n",
      "Zack Snyder              1\n",
      "Gary Ross                1\n",
      "Gnana Rajasekaran        1\n",
      "Shane Black              1\n",
      "F. Gary Gray             1\n",
      "Rob Marshall             1\n",
      "Jay Oliva                1\n",
      "Sadyk Sher-Niyaz         1\n",
      "Null                     1\n",
      "Robert Zemeckis          1\n",
      "Kenneth Lonergan         1\n",
      "Tom Tykwer               1\n",
      "Mike Leigh               1\n",
      "Oliver Stone             1\n",
      "Richard Linklater        1\n",
      "David Dobkin             1\n",
      "Darren Aronofsky         1\n",
      "Steve McQueen            1\n",
      "Guillaume Canet          1\n",
      "Adam McKay               1\n",
      "Christopher Spencer      1\n",
      "Paul Greengrass          1\n",
      "Gore Verbinski           1\n",
      "Richard J. Lewis         1\n",
      "Clint Eastwood           1\n",
      "Anthony Russo            1\n",
      "Tony Gilroy              1\n",
      "James Mangold            1\n",
      "Daniel Espinosa          1\n",
      "Ryan Murphy              1\n",
      "Justin Chadwick          1\n",
      "Adam Shankman            1\n",
      "Gavin O'Connor           1\n",
      "Nan                      1\n",
      "David Fincher            1\n",
      "Michael Patrick King     1\n",
      "Edward Hall              1\n",
      "James Wan                1\n",
      "David Ayer               1\n",
      "Francis Lawrence         1\n",
      "Baz Luhrmann             1\n",
      "Name: director_name, dtype: int64\n"
     ]
    }
   ],
   "source": [
    "pd.set_option(\"display.max_rows\", None)\n",
    "print(df_imdb.director_name.value_counts(dropna=False))\n",
    "pd.reset_option(\"display.max_rows\")"
   ]
  },
  {
   "cell_type": "code",
   "execution_count": 29,
   "metadata": {},
   "outputs": [
    {
     "data": {
      "text/html": [
       "<div>\n",
       "<style scoped>\n",
       "    .dataframe tbody tr th:only-of-type {\n",
       "        vertical-align: middle;\n",
       "    }\n",
       "\n",
       "    .dataframe tbody tr th {\n",
       "        vertical-align: top;\n",
       "    }\n",
       "\n",
       "    .dataframe thead th {\n",
       "        text-align: right;\n",
       "    }\n",
       "</style>\n",
       "<table border=\"1\" class=\"dataframe\">\n",
       "  <thead>\n",
       "    <tr style=\"text-align: right;\">\n",
       "      <th></th>\n",
       "      <th>5</th>\n",
       "      <th>24</th>\n",
       "      <th>32</th>\n",
       "      <th>41</th>\n",
       "      <th>56</th>\n",
       "      <th>59</th>\n",
       "      <th>71</th>\n",
       "      <th>75</th>\n",
       "      <th>82</th>\n",
       "      <th>84</th>\n",
       "      <th>91</th>\n",
       "    </tr>\n",
       "  </thead>\n",
       "  <tbody>\n",
       "    <tr>\n",
       "      <th>color</th>\n",
       "      <td>Color</td>\n",
       "      <td>Color</td>\n",
       "      <td>Color</td>\n",
       "      <td>Color</td>\n",
       "      <td>Color</td>\n",
       "      <td>Color</td>\n",
       "      <td>Color</td>\n",
       "      <td>Color</td>\n",
       "      <td>Color</td>\n",
       "      <td>Color</td>\n",
       "      <td>Color</td>\n",
       "    </tr>\n",
       "    <tr>\n",
       "      <th>director_name</th>\n",
       "      <td>NaN</td>\n",
       "      <td>NaN</td>\n",
       "      <td>NaN</td>\n",
       "      <td>NaN</td>\n",
       "      <td>NaN</td>\n",
       "      <td>NaN</td>\n",
       "      <td>NaN</td>\n",
       "      <td>NaN</td>\n",
       "      <td>NaN</td>\n",
       "      <td>NaN</td>\n",
       "      <td>NaN</td>\n",
       "    </tr>\n",
       "    <tr>\n",
       "      <th>duration</th>\n",
       "      <td>183</td>\n",
       "      <td>156</td>\n",
       "      <td>150</td>\n",
       "      <td>147</td>\n",
       "      <td>143</td>\n",
       "      <td>142</td>\n",
       "      <td>139</td>\n",
       "      <td>138</td>\n",
       "      <td>137</td>\n",
       "      <td>137</td>\n",
       "      <td>136</td>\n",
       "    </tr>\n",
       "    <tr>\n",
       "      <th>gross</th>\n",
       "      <td>$330,249,062.00</td>\n",
       "      <td>$183,635,922.00</td>\n",
       "      <td>$182,204,440.00</td>\n",
       "      <td>$407,197,282.00</td>\n",
       "      <td>$nan</td>\n",
       "      <td>$407,999,255.00</td>\n",
       "      <td>$150,832,203.00</td>\n",
       "      <td>$150,117,807.00</td>\n",
       "      <td>$37,304,950.00</td>\n",
       "      <td>$281,666,058.00</td>\n",
       "      <td>$52,474,616.00</td>\n",
       "    </tr>\n",
       "    <tr>\n",
       "      <th>genres</th>\n",
       "      <td>Action|Adventure|Sci-Fi</td>\n",
       "      <td>Adventure|Drama|Thriller|Western</td>\n",
       "      <td>Biography|Drama|History|War</td>\n",
       "      <td>Action|Adventure|Sci-Fi</td>\n",
       "      <td>Drama|Horror|Thriller</td>\n",
       "      <td>Adventure|Drama|Sci-Fi|Thriller</td>\n",
       "      <td>Adventure|Mystery|Sci-Fi</td>\n",
       "      <td>Crime|Drama</td>\n",
       "      <td>Biography|Crime|Drama</td>\n",
       "      <td>Adventure|Sci-Fi</td>\n",
       "      <td>Drama</td>\n",
       "    </tr>\n",
       "    <tr>\n",
       "      <th>movie_title</th>\n",
       "      <td>batman v superman: dawn of justice</td>\n",
       "      <td>the revenant</td>\n",
       "      <td>lincoln</td>\n",
       "      <td>captain america: civil war</td>\n",
       "      <td>the ridges</td>\n",
       "      <td>the hunger games</td>\n",
       "      <td>divergent</td>\n",
       "      <td>american hustle</td>\n",
       "      <td>j. edgar</td>\n",
       "      <td>the hunger games: mockingjay - part 2</td>\n",
       "      <td>wall street: money never sleeps</td>\n",
       "    </tr>\n",
       "    <tr>\n",
       "      <th>title_year</th>\n",
       "      <td>202</td>\n",
       "      <td>2015</td>\n",
       "      <td>2012</td>\n",
       "      <td>2016</td>\n",
       "      <td>2011</td>\n",
       "      <td>2012</td>\n",
       "      <td>1800</td>\n",
       "      <td>2013</td>\n",
       "      <td>2011</td>\n",
       "      <td>2015</td>\n",
       "      <td>2010</td>\n",
       "    </tr>\n",
       "    <tr>\n",
       "      <th>language</th>\n",
       "      <td>English</td>\n",
       "      <td>English</td>\n",
       "      <td>English</td>\n",
       "      <td>English</td>\n",
       "      <td>English</td>\n",
       "      <td>English</td>\n",
       "      <td>English</td>\n",
       "      <td>English</td>\n",
       "      <td>English</td>\n",
       "      <td>English</td>\n",
       "      <td>English</td>\n",
       "    </tr>\n",
       "    <tr>\n",
       "      <th>country</th>\n",
       "      <td>USA</td>\n",
       "      <td>USA</td>\n",
       "      <td>USA</td>\n",
       "      <td>USA</td>\n",
       "      <td>USA</td>\n",
       "      <td>USA</td>\n",
       "      <td>USA</td>\n",
       "      <td>USA</td>\n",
       "      <td>USA</td>\n",
       "      <td>USA</td>\n",
       "      <td>USA</td>\n",
       "    </tr>\n",
       "    <tr>\n",
       "      <th>budget</th>\n",
       "      <td>USD 250,000,000.00</td>\n",
       "      <td>USD 135,000,000.00</td>\n",
       "      <td>USD 65,000,000.00</td>\n",
       "      <td>USD 250,000,000.00</td>\n",
       "      <td>USD 17,350.00</td>\n",
       "      <td>USD 78,000,000.00</td>\n",
       "      <td>USD 85,000,000.00</td>\n",
       "      <td>USD 40,000,000.00</td>\n",
       "      <td>USD 35,000,000.00</td>\n",
       "      <td>USD 160,000,000.00</td>\n",
       "      <td>USD 70,000,000.00</td>\n",
       "    </tr>\n",
       "    <tr>\n",
       "      <th>imdb_score</th>\n",
       "      <td>6.9</td>\n",
       "      <td>8.1</td>\n",
       "      <td>7.4</td>\n",
       "      <td>8.2</td>\n",
       "      <td>3.0</td>\n",
       "      <td>7.3</td>\n",
       "      <td>6.7</td>\n",
       "      <td>7.3</td>\n",
       "      <td>6.6</td>\n",
       "      <td>6.6</td>\n",
       "      <td>6.3</td>\n",
       "    </tr>\n",
       "    <tr>\n",
       "      <th>actors</th>\n",
       "      <td>Henry Cavill,Lauren Cohan,Alan D. Purwin</td>\n",
       "      <td>Leonardo DiCaprio,Tom Hardy,Lukas Haas</td>\n",
       "      <td>Joseph Gordon-Levitt,Hal Holbrook,Bruce McGill</td>\n",
       "      <td>Robert Downey Jr.,Scarlett Johansson,Chris Evans</td>\n",
       "      <td>Robbie Barnes,Alana Kaniewski,Brandon Landers</td>\n",
       "      <td>Jennifer Lawrence,Josh Hutcherson,Anthony Reyn...</td>\n",
       "      <td>Kate Winslet,Theo James,Mekhi Phifer</td>\n",
       "      <td>Jennifer Lawrence,Christian Bale,Bradley Cooper</td>\n",
       "      <td>Leonardo DiCaprio,Naomi Watts,Kaitlyn Dever</td>\n",
       "      <td>Jennifer Lawrence,Philip Seymour Hoffman,Josh ...</td>\n",
       "      <td>Frank Langella,Austin Pendleton,John Buffalo M...</td>\n",
       "    </tr>\n",
       "    <tr>\n",
       "      <th>movie_facebook_likes</th>\n",
       "      <td>197000</td>\n",
       "      <td>190000</td>\n",
       "      <td>71000</td>\n",
       "      <td>72000</td>\n",
       "      <td>33</td>\n",
       "      <td>140000</td>\n",
       "      <td>49000</td>\n",
       "      <td>63000</td>\n",
       "      <td>16000</td>\n",
       "      <td>38000</td>\n",
       "      <td>13000</td>\n",
       "    </tr>\n",
       "    <tr>\n",
       "      <th>movie_twitter_likes</th>\n",
       "      <td>1000</td>\n",
       "      <td>1000</td>\n",
       "      <td>1000</td>\n",
       "      <td>1000</td>\n",
       "      <td>1000</td>\n",
       "      <td>1000</td>\n",
       "      <td>1000</td>\n",
       "      <td>1000</td>\n",
       "      <td>1000</td>\n",
       "      <td>1000</td>\n",
       "      <td>1000</td>\n",
       "    </tr>\n",
       "  </tbody>\n",
       "</table>\n",
       "</div>"
      ],
      "text/plain": [
       "                                                            5   \\\n",
       "color                                                    Color   \n",
       "director_name                                              NaN   \n",
       "duration                                                   183   \n",
       "gross                                          $330,249,062.00   \n",
       "genres                                 Action|Adventure|Sci-Fi   \n",
       "movie_title                 batman v superman: dawn of justice   \n",
       "title_year                                                 202   \n",
       "language                                               English   \n",
       "country                                                    USA   \n",
       "budget                                      USD 250,000,000.00   \n",
       "imdb_score                                                 6.9   \n",
       "actors                Henry Cavill,Lauren Cohan,Alan D. Purwin   \n",
       "movie_facebook_likes                                    197000   \n",
       "movie_twitter_likes                                       1000   \n",
       "\n",
       "                                                          24  \\\n",
       "color                                                  Color   \n",
       "director_name                                            NaN   \n",
       "duration                                                 156   \n",
       "gross                                        $183,635,922.00   \n",
       "genres                      Adventure|Drama|Thriller|Western   \n",
       "movie_title                                     the revenant   \n",
       "title_year                                              2015   \n",
       "language                                             English   \n",
       "country                                                  USA   \n",
       "budget                                    USD 135,000,000.00   \n",
       "imdb_score                                               8.1   \n",
       "actors                Leonardo DiCaprio,Tom Hardy,Lukas Haas   \n",
       "movie_facebook_likes                                  190000   \n",
       "movie_twitter_likes                                     1000   \n",
       "\n",
       "                                                                  32  \\\n",
       "color                                                          Color   \n",
       "director_name                                                    NaN   \n",
       "duration                                                         150   \n",
       "gross                                                $182,204,440.00   \n",
       "genres                                   Biography|Drama|History|War   \n",
       "movie_title                                                  lincoln   \n",
       "title_year                                                      2012   \n",
       "language                                                     English   \n",
       "country                                                          USA   \n",
       "budget                                             USD 65,000,000.00   \n",
       "imdb_score                                                       7.4   \n",
       "actors                Joseph Gordon-Levitt,Hal Holbrook,Bruce McGill   \n",
       "movie_facebook_likes                                           71000   \n",
       "movie_twitter_likes                                             1000   \n",
       "\n",
       "                                                                    41  \\\n",
       "color                                                            Color   \n",
       "director_name                                                      NaN   \n",
       "duration                                                           147   \n",
       "gross                                                  $407,197,282.00   \n",
       "genres                                         Action|Adventure|Sci-Fi   \n",
       "movie_title                                 captain america: civil war   \n",
       "title_year                                                        2016   \n",
       "language                                                       English   \n",
       "country                                                            USA   \n",
       "budget                                              USD 250,000,000.00   \n",
       "imdb_score                                                         8.2   \n",
       "actors                Robert Downey Jr.,Scarlett Johansson,Chris Evans   \n",
       "movie_facebook_likes                                             72000   \n",
       "movie_twitter_likes                                               1000   \n",
       "\n",
       "                                                                 56  \\\n",
       "color                                                         Color   \n",
       "director_name                                                   NaN   \n",
       "duration                                                        143   \n",
       "gross                                                          $nan   \n",
       "genres                                        Drama|Horror|Thriller   \n",
       "movie_title                                              the ridges   \n",
       "title_year                                                     2011   \n",
       "language                                                    English   \n",
       "country                                                         USA   \n",
       "budget                                                USD 17,350.00   \n",
       "imdb_score                                                      3.0   \n",
       "actors                Robbie Barnes,Alana Kaniewski,Brandon Landers   \n",
       "movie_facebook_likes                                             33   \n",
       "movie_twitter_likes                                            1000   \n",
       "\n",
       "                                                                     59  \\\n",
       "color                                                             Color   \n",
       "director_name                                                       NaN   \n",
       "duration                                                            142   \n",
       "gross                                                   $407,999,255.00   \n",
       "genres                                  Adventure|Drama|Sci-Fi|Thriller   \n",
       "movie_title                                            the hunger games   \n",
       "title_year                                                         2012   \n",
       "language                                                        English   \n",
       "country                                                             USA   \n",
       "budget                                                USD 78,000,000.00   \n",
       "imdb_score                                                          7.3   \n",
       "actors                Jennifer Lawrence,Josh Hutcherson,Anthony Reyn...   \n",
       "movie_facebook_likes                                             140000   \n",
       "movie_twitter_likes                                                1000   \n",
       "\n",
       "                                                        71  \\\n",
       "color                                                Color   \n",
       "director_name                                          NaN   \n",
       "duration                                               139   \n",
       "gross                                      $150,832,203.00   \n",
       "genres                            Adventure|Mystery|Sci-Fi   \n",
       "movie_title                                      divergent   \n",
       "title_year                                            1800   \n",
       "language                                           English   \n",
       "country                                                USA   \n",
       "budget                                   USD 85,000,000.00   \n",
       "imdb_score                                             6.7   \n",
       "actors                Kate Winslet,Theo James,Mekhi Phifer   \n",
       "movie_facebook_likes                                 49000   \n",
       "movie_twitter_likes                                   1000   \n",
       "\n",
       "                                                                   75  \\\n",
       "color                                                           Color   \n",
       "director_name                                                     NaN   \n",
       "duration                                                          138   \n",
       "gross                                                 $150,117,807.00   \n",
       "genres                                                    Crime|Drama   \n",
       "movie_title                                           american hustle   \n",
       "title_year                                                       2013   \n",
       "language                                                      English   \n",
       "country                                                           USA   \n",
       "budget                                              USD 40,000,000.00   \n",
       "imdb_score                                                        7.3   \n",
       "actors                Jennifer Lawrence,Christian Bale,Bradley Cooper   \n",
       "movie_facebook_likes                                            63000   \n",
       "movie_twitter_likes                                              1000   \n",
       "\n",
       "                                                               82  \\\n",
       "color                                                       Color   \n",
       "director_name                                                 NaN   \n",
       "duration                                                      137   \n",
       "gross                                              $37,304,950.00   \n",
       "genres                                      Biography|Crime|Drama   \n",
       "movie_title                                              j. edgar   \n",
       "title_year                                                   2011   \n",
       "language                                                  English   \n",
       "country                                                       USA   \n",
       "budget                                          USD 35,000,000.00   \n",
       "imdb_score                                                    6.6   \n",
       "actors                Leonardo DiCaprio,Naomi Watts,Kaitlyn Dever   \n",
       "movie_facebook_likes                                        16000   \n",
       "movie_twitter_likes                                          1000   \n",
       "\n",
       "                                                                     84  \\\n",
       "color                                                             Color   \n",
       "director_name                                                       NaN   \n",
       "duration                                                            137   \n",
       "gross                                                   $281,666,058.00   \n",
       "genres                                                 Adventure|Sci-Fi   \n",
       "movie_title                       the hunger games: mockingjay - part 2   \n",
       "title_year                                                         2015   \n",
       "language                                                        English   \n",
       "country                                                             USA   \n",
       "budget                                               USD 160,000,000.00   \n",
       "imdb_score                                                          6.6   \n",
       "actors                Jennifer Lawrence,Philip Seymour Hoffman,Josh ...   \n",
       "movie_facebook_likes                                              38000   \n",
       "movie_twitter_likes                                                1000   \n",
       "\n",
       "                                                                     91  \n",
       "color                                                             Color  \n",
       "director_name                                                       NaN  \n",
       "duration                                                            136  \n",
       "gross                                                    $52,474,616.00  \n",
       "genres                                                            Drama  \n",
       "movie_title                             wall street: money never sleeps  \n",
       "title_year                                                         2010  \n",
       "language                                                        English  \n",
       "country                                                             USA  \n",
       "budget                                                USD 70,000,000.00  \n",
       "imdb_score                                                          6.3  \n",
       "actors                Frank Langella,Austin Pendleton,John Buffalo M...  \n",
       "movie_facebook_likes                                              13000  \n",
       "movie_twitter_likes                                                1000  "
      ]
     },
     "execution_count": 29,
     "metadata": {},
     "output_type": "execute_result"
    }
   ],
   "source": [
    "df_imdb[df_imdb.director_name.isna()].T"
   ]
  },
  {
   "cell_type": "code",
   "execution_count": 30,
   "metadata": {},
   "outputs": [],
   "source": [
    "df_imdb.loc[df_imdb.director_name.isna(), \"director_name\"] = \"No information available\""
   ]
  },
  {
   "cell_type": "code",
   "execution_count": 31,
   "metadata": {},
   "outputs": [
    {
     "data": {
      "text/plain": [
       "No information available    11\n",
       "Christopher Nolan            3\n",
       "Michael Bay                  3\n",
       "Peter Jackson                3\n",
       "Ridley Scott                 3\n",
       "                            ..\n",
       "Richard Linklater            1\n",
       "Steve McQueen                1\n",
       "Francis Lawrence             1\n",
       "Darren Aronofsky             1\n",
       "Baz Luhrmann                 1\n",
       "Name: director_name, Length: 64, dtype: int64"
      ]
     },
     "execution_count": 31,
     "metadata": {},
     "output_type": "execute_result"
    }
   ],
   "source": [
    "df_imdb.director_name.value_counts(dropna=False)"
   ]
  },
  {
   "cell_type": "code",
   "execution_count": 32,
   "metadata": {},
   "outputs": [
    {
     "data": {
      "text/plain": [
       "Marc Webb    2\n",
       "Jay Oliva    1\n",
       "Null         1\n",
       "James Wan    1\n",
       "Gary Ross    1\n",
       "Nan          1\n",
       "Name: director_name, dtype: int64"
      ]
     },
     "execution_count": 32,
     "metadata": {},
     "output_type": "execute_result"
    }
   ],
   "source": [
    "df_imdb.director_name[df_imdb.director_name.str.len() < 10].value_counts()"
   ]
  },
  {
   "cell_type": "code",
   "execution_count": 33,
   "metadata": {},
   "outputs": [],
   "source": [
    "to_replace = [\"Null\", \"Nan\"]\n",
    "df_imdb.loc[df_imdb.director_name.isin(to_replace), \"director_name\"] = \"No information available\""
   ]
  },
  {
   "cell_type": "code",
   "execution_count": 34,
   "metadata": {},
   "outputs": [
    {
     "data": {
      "text/plain": [
       "No information available    13\n",
       "Michael Bay                  3\n",
       "Peter Jackson                3\n",
       "Ridley Scott                 3\n",
       "Christopher Nolan            3\n",
       "                            ..\n",
       "Richard Linklater            1\n",
       "Steve McQueen                1\n",
       "Darren Aronofsky             1\n",
       "David Dobkin                 1\n",
       "Baz Luhrmann                 1\n",
       "Name: director_name, Length: 62, dtype: int64"
      ]
     },
     "execution_count": 34,
     "metadata": {},
     "output_type": "execute_result"
    }
   ],
   "source": [
    "df_imdb.director_name.value_counts(dropna=False)"
   ]
  },
  {
   "cell_type": "code",
   "execution_count": 35,
   "metadata": {},
   "outputs": [],
   "source": [
    "assert df_imdb.director_name.isna().any() == False"
   ]
  },
  {
   "cell_type": "markdown",
   "metadata": {},
   "source": [
    "### Columna `gross`"
   ]
  },
  {
   "cell_type": "code",
   "execution_count": 36,
   "metadata": {},
   "outputs": [
    {
     "data": {
      "text/plain": [
       "0     $116,866,727.00\n",
       "1     $408,992,272.00\n",
       "2      $54,116,191.00\n",
       "3          $46,495.00\n",
       "4     $258,355,354.00\n",
       "           ...       \n",
       "94     $56,667,870.00\n",
       "95      $7,501,404.00\n",
       "96    $107,100,855.00\n",
       "97     $85,707,116.00\n",
       "98     $47,034,272.00\n",
       "Name: gross, Length: 94, dtype: object"
      ]
     },
     "execution_count": 36,
     "metadata": {},
     "output_type": "execute_result"
    }
   ],
   "source": [
    "df_imdb.gross"
   ]
  },
  {
   "cell_type": "code",
   "execution_count": 37,
   "metadata": {},
   "outputs": [
    {
     "data": {
      "text/plain": [
       "False"
      ]
     },
     "execution_count": 37,
     "metadata": {},
     "output_type": "execute_result"
    }
   ],
   "source": [
    "df_imdb.gross.isna().any()"
   ]
  },
  {
   "cell_type": "code",
   "execution_count": 38,
   "metadata": {},
   "outputs": [
    {
     "data": {
      "text/plain": [
       "'$116,866,727.00$408,992,272.00$54,116,191.00$46,495.00$258,355,354.00$330,249,062.00$303,001,229.00$nan$623,279,547.00$27,098,580.00$102,515,793.00$59,696,176.00$187,991,439.00$100,000,000,000,000.00$25,359,200.00$162,804,648.00$245,428,137.00$448,130,642.00$255,108,370.00$148,775,460.00$148,775,460.00$95,720,716.00$105,219,735.00$183,635,922.00$352,358,779.00$60,962,878.00$nan$262,030,663.00$228,430,993.00$65,007,045.00$182,204,440.00$3,958,500.00$89,289,910.00$167,735,396.00$233,914,986.00$nan$292,568,851.00$8,093,318.00$200,074,175.00$407,197,282.00$95,328,937.00$169,705,587.00$424,645,577.00$79,883,359.00$52,822,418.00$41,229.00$16,377,274.00$154,985,087.00$2,175,312.00$-1,532.00$304,360,277.00$144,812,796.00$nan$72,306,065.00$202,853,933.00$407,999,255.00$458,991,599.00$nan$nan$8,324,748.00$47,307,550.00$47,105,085.00$80,574,010.00$350,034,110.00$21,383,298.00$13,651,662.00$150,832,203.00$20,389,967.00$30,513,940.00$13,303,319.00$150,117,807.00$93,749,203.00$101,160,529.00$127,968,405.00$16,969,390.00$132,550,960.00$1,206,135.00$37,304,950.00$717,753.00$281,666,058.00$115,603,980.00$115,603,980.00$42,615,685.00$259,746,958.00$241,063,875.00$38,509,342.00$52,474,616.00$-92,939.00$113,165,635.00$56,667,870.00$7,501,404.00$107,100,855.00$85,707,116.00$47,034,272.00'"
      ]
     },
     "execution_count": 38,
     "metadata": {},
     "output_type": "execute_result"
    }
   ],
   "source": [
    "df_imdb.gross.sum()"
   ]
  },
  {
   "cell_type": "code",
   "execution_count": 39,
   "metadata": {},
   "outputs": [
    {
     "data": {
      "text/plain": [
       "$nan               6\n",
       "$148,775,460.00    2\n",
       "$115,603,980.00    2\n",
       "$154,985,087.00    1\n",
       "$169,705,587.00    1\n",
       "                  ..\n",
       "$13,651,662.00     1\n",
       "$8,093,318.00      1\n",
       "$303,001,229.00    1\n",
       "$241,063,875.00    1\n",
       "$233,914,986.00    1\n",
       "Name: gross, Length: 87, dtype: int64"
      ]
     },
     "execution_count": 39,
     "metadata": {},
     "output_type": "execute_result"
    }
   ],
   "source": [
    "df_imdb.gross.value_counts(dropna=False)"
   ]
  },
  {
   "cell_type": "code",
   "execution_count": 40,
   "metadata": {},
   "outputs": [
    {
     "data": {
      "text/plain": [
       "$    94\n",
       "Name: gross, dtype: int64"
      ]
     },
     "execution_count": 40,
     "metadata": {},
     "output_type": "execute_result"
    }
   ],
   "source": [
    "df_imdb.gross.str[0].value_counts()"
   ]
  },
  {
   "cell_type": "code",
   "execution_count": 41,
   "metadata": {},
   "outputs": [
    {
     "data": {
      "text/plain": [
       "0     116,866,727.00\n",
       "1     408,992,272.00\n",
       "2      54,116,191.00\n",
       "3          46,495.00\n",
       "4     258,355,354.00\n",
       "           ...      \n",
       "94     56,667,870.00\n",
       "95      7,501,404.00\n",
       "96    107,100,855.00\n",
       "97     85,707,116.00\n",
       "98     47,034,272.00\n",
       "Name: gross, Length: 94, dtype: object"
      ]
     },
     "execution_count": 41,
     "metadata": {},
     "output_type": "execute_result"
    }
   ],
   "source": [
    "df_imdb.gross.str[1:]"
   ]
  },
  {
   "cell_type": "code",
   "execution_count": 42,
   "metadata": {},
   "outputs": [
    {
     "data": {
      "text/plain": [
       "0     116,866,727.00\n",
       "1     408,992,272.00\n",
       "2      54,116,191.00\n",
       "3          46,495.00\n",
       "4     258,355,354.00\n",
       "           ...      \n",
       "94     56,667,870.00\n",
       "95      7,501,404.00\n",
       "96    107,100,855.00\n",
       "97     85,707,116.00\n",
       "98     47,034,272.00\n",
       "Name: gross, Length: 94, dtype: object"
      ]
     },
     "execution_count": 42,
     "metadata": {},
     "output_type": "execute_result"
    }
   ],
   "source": [
    "df_imdb.gross.str.replace(\"$\", \"\", regex=False)"
   ]
  },
  {
   "cell_type": "code",
   "execution_count": 43,
   "metadata": {},
   "outputs": [],
   "source": [
    "df_imdb[\"gross\"] = df_imdb.gross.str.replace(\",\", \"\").str.replace(\"$\", \"\", regex=False).str.strip().str.lower()"
   ]
  },
  {
   "cell_type": "code",
   "execution_count": 44,
   "metadata": {},
   "outputs": [],
   "source": [
    "df_imdb.loc[df_imdb.gross.str.match(\"nan|null\"), \"gross\"] = np.nan"
   ]
  },
  {
   "cell_type": "code",
   "execution_count": 45,
   "metadata": {},
   "outputs": [
    {
     "data": {
      "text/plain": [
       "NaN             6\n",
       "115603980.00    2\n",
       "148775460.00    2\n",
       "16969390.00     1\n",
       "41229.00        1\n",
       "               ..\n",
       "85707116.00     1\n",
       "107100855.00    1\n",
       "424645577.00    1\n",
       "52822418.00     1\n",
       "245428137.00    1\n",
       "Name: gross, Length: 87, dtype: int64"
      ]
     },
     "execution_count": 45,
     "metadata": {},
     "output_type": "execute_result"
    }
   ],
   "source": [
    "df_imdb.gross.value_counts(dropna=False)"
   ]
  },
  {
   "cell_type": "code",
   "execution_count": 46,
   "metadata": {},
   "outputs": [
    {
     "data": {
      "text/html": [
       "<div>\n",
       "<style scoped>\n",
       "    .dataframe tbody tr th:only-of-type {\n",
       "        vertical-align: middle;\n",
       "    }\n",
       "\n",
       "    .dataframe tbody tr th {\n",
       "        vertical-align: top;\n",
       "    }\n",
       "\n",
       "    .dataframe thead th {\n",
       "        text-align: right;\n",
       "    }\n",
       "</style>\n",
       "<table border=\"1\" class=\"dataframe\">\n",
       "  <thead>\n",
       "    <tr style=\"text-align: right;\">\n",
       "      <th></th>\n",
       "      <th>7</th>\n",
       "      <th>27</th>\n",
       "      <th>37</th>\n",
       "      <th>56</th>\n",
       "      <th>61</th>\n",
       "      <th>62</th>\n",
       "    </tr>\n",
       "  </thead>\n",
       "  <tbody>\n",
       "    <tr>\n",
       "      <th>color</th>\n",
       "      <td>Color</td>\n",
       "      <td>Color</td>\n",
       "      <td>Color</td>\n",
       "      <td>Color</td>\n",
       "      <td>Color</td>\n",
       "      <td>Color</td>\n",
       "    </tr>\n",
       "    <tr>\n",
       "      <th>director_name</th>\n",
       "      <td>Edward Hall</td>\n",
       "      <td>Gnana Rajasekaran</td>\n",
       "      <td>Jay Oliva</td>\n",
       "      <td>No information available</td>\n",
       "      <td>Timur Bekmambetov</td>\n",
       "      <td>Timur Bekmambetov</td>\n",
       "    </tr>\n",
       "    <tr>\n",
       "      <th>duration</th>\n",
       "      <td>180</td>\n",
       "      <td>153</td>\n",
       "      <td>148</td>\n",
       "      <td>143</td>\n",
       "      <td>141</td>\n",
       "      <td>141</td>\n",
       "    </tr>\n",
       "    <tr>\n",
       "      <th>gross</th>\n",
       "      <td>NaN</td>\n",
       "      <td>NaN</td>\n",
       "      <td>NaN</td>\n",
       "      <td>NaN</td>\n",
       "      <td>NaN</td>\n",
       "      <td>NaN</td>\n",
       "    </tr>\n",
       "    <tr>\n",
       "      <th>genres</th>\n",
       "      <td>Drama|Romance</td>\n",
       "      <td>Biography|Drama|History</td>\n",
       "      <td>Action|Animation|Crime|Sci-Fi|Thriller</td>\n",
       "      <td>Drama|Horror|Thriller</td>\n",
       "      <td>Adventure|Drama|History</td>\n",
       "      <td>Adventure|Drama|History</td>\n",
       "    </tr>\n",
       "    <tr>\n",
       "      <th>movie_title</th>\n",
       "      <td>restless</td>\n",
       "      <td>ramanujan</td>\n",
       "      <td>batman: the dark knight returns, part 2</td>\n",
       "      <td>the ridges</td>\n",
       "      <td>ben-hur</td>\n",
       "      <td>ben-hur</td>\n",
       "    </tr>\n",
       "    <tr>\n",
       "      <th>title_year</th>\n",
       "      <td>2012</td>\n",
       "      <td>2014</td>\n",
       "      <td>2013</td>\n",
       "      <td>2011</td>\n",
       "      <td>2016</td>\n",
       "      <td>2016</td>\n",
       "    </tr>\n",
       "    <tr>\n",
       "      <th>language</th>\n",
       "      <td>English</td>\n",
       "      <td>English</td>\n",
       "      <td>English</td>\n",
       "      <td>English</td>\n",
       "      <td>English</td>\n",
       "      <td>English</td>\n",
       "    </tr>\n",
       "    <tr>\n",
       "      <th>country</th>\n",
       "      <td>UK</td>\n",
       "      <td>India</td>\n",
       "      <td>USA</td>\n",
       "      <td>USA</td>\n",
       "      <td>USA</td>\n",
       "      <td>USA</td>\n",
       "    </tr>\n",
       "    <tr>\n",
       "      <th>budget</th>\n",
       "      <td>USD nan</td>\n",
       "      <td>USD nan</td>\n",
       "      <td>USD 3,500,000.00</td>\n",
       "      <td>USD 17,350.00</td>\n",
       "      <td>USD 100,000,000.00</td>\n",
       "      <td>USD 100,000,000.00</td>\n",
       "    </tr>\n",
       "    <tr>\n",
       "      <th>imdb_score</th>\n",
       "      <td>7.2</td>\n",
       "      <td>7.0</td>\n",
       "      <td>8.4</td>\n",
       "      <td>3.0</td>\n",
       "      <td>6.1</td>\n",
       "      <td>6.0</td>\n",
       "    </tr>\n",
       "    <tr>\n",
       "      <th>actors</th>\n",
       "      <td>Rufus Sewell,Hayley Atwell,Charlotte Rampling</td>\n",
       "      <td>Mani Bharathi,Michael Lieber,Kevin McGowan</td>\n",
       "      <td>Michael Emerson,Mark Valley,Grey Griffin</td>\n",
       "      <td>Robbie Barnes,Alana Kaniewski,Brandon Landers</td>\n",
       "      <td>Morgan Freeman,Ayelet Zurer,Moises Arias</td>\n",
       "      <td>Morgan Freeman,Ayelet Zurer,Moises Arias</td>\n",
       "    </tr>\n",
       "    <tr>\n",
       "      <th>movie_facebook_likes</th>\n",
       "      <td>434</td>\n",
       "      <td>58</td>\n",
       "      <td>5000</td>\n",
       "      <td>33</td>\n",
       "      <td>0</td>\n",
       "      <td>0</td>\n",
       "    </tr>\n",
       "    <tr>\n",
       "      <th>movie_twitter_likes</th>\n",
       "      <td>1000</td>\n",
       "      <td>1000</td>\n",
       "      <td>1000</td>\n",
       "      <td>1000</td>\n",
       "      <td>1000</td>\n",
       "      <td>1000</td>\n",
       "    </tr>\n",
       "  </tbody>\n",
       "</table>\n",
       "</div>"
      ],
      "text/plain": [
       "                                                                 7   \\\n",
       "color                                                         Color   \n",
       "director_name                                           Edward Hall   \n",
       "duration                                                        180   \n",
       "gross                                                           NaN   \n",
       "genres                                                Drama|Romance   \n",
       "movie_title                                                restless   \n",
       "title_year                                                     2012   \n",
       "language                                                    English   \n",
       "country                                                          UK   \n",
       "budget                                                      USD nan   \n",
       "imdb_score                                                      7.2   \n",
       "actors                Rufus Sewell,Hayley Atwell,Charlotte Rampling   \n",
       "movie_facebook_likes                                            434   \n",
       "movie_twitter_likes                                            1000   \n",
       "\n",
       "                                                              27  \\\n",
       "color                                                      Color   \n",
       "director_name                                  Gnana Rajasekaran   \n",
       "duration                                                     153   \n",
       "gross                                                        NaN   \n",
       "genres                                   Biography|Drama|History   \n",
       "movie_title                                            ramanujan   \n",
       "title_year                                                  2014   \n",
       "language                                                 English   \n",
       "country                                                    India   \n",
       "budget                                                   USD nan   \n",
       "imdb_score                                                   7.0   \n",
       "actors                Mani Bharathi,Michael Lieber,Kevin McGowan   \n",
       "movie_facebook_likes                                          58   \n",
       "movie_twitter_likes                                         1000   \n",
       "\n",
       "                                                            37  \\\n",
       "color                                                    Color   \n",
       "director_name                                        Jay Oliva   \n",
       "duration                                                   148   \n",
       "gross                                                      NaN   \n",
       "genres                  Action|Animation|Crime|Sci-Fi|Thriller   \n",
       "movie_title            batman: the dark knight returns, part 2   \n",
       "title_year                                                2013   \n",
       "language                                               English   \n",
       "country                                                    USA   \n",
       "budget                                        USD 3,500,000.00   \n",
       "imdb_score                                                 8.4   \n",
       "actors                Michael Emerson,Mark Valley,Grey Griffin   \n",
       "movie_facebook_likes                                      5000   \n",
       "movie_twitter_likes                                       1000   \n",
       "\n",
       "                                                                 56  \\\n",
       "color                                                         Color   \n",
       "director_name                              No information available   \n",
       "duration                                                        143   \n",
       "gross                                                           NaN   \n",
       "genres                                        Drama|Horror|Thriller   \n",
       "movie_title                                              the ridges   \n",
       "title_year                                                     2011   \n",
       "language                                                    English   \n",
       "country                                                         USA   \n",
       "budget                                                USD 17,350.00   \n",
       "imdb_score                                                      3.0   \n",
       "actors                Robbie Barnes,Alana Kaniewski,Brandon Landers   \n",
       "movie_facebook_likes                                             33   \n",
       "movie_twitter_likes                                            1000   \n",
       "\n",
       "                                                            61  \\\n",
       "color                                                    Color   \n",
       "director_name                                Timur Bekmambetov   \n",
       "duration                                                   141   \n",
       "gross                                                      NaN   \n",
       "genres                                 Adventure|Drama|History   \n",
       "movie_title                                            ben-hur   \n",
       "title_year                                                2016   \n",
       "language                                               English   \n",
       "country                                                    USA   \n",
       "budget                                      USD 100,000,000.00   \n",
       "imdb_score                                                 6.1   \n",
       "actors                Morgan Freeman,Ayelet Zurer,Moises Arias   \n",
       "movie_facebook_likes                                         0   \n",
       "movie_twitter_likes                                       1000   \n",
       "\n",
       "                                                            62  \n",
       "color                                                    Color  \n",
       "director_name                                Timur Bekmambetov  \n",
       "duration                                                   141  \n",
       "gross                                                      NaN  \n",
       "genres                                 Adventure|Drama|History  \n",
       "movie_title                                            ben-hur  \n",
       "title_year                                                2016  \n",
       "language                                               English  \n",
       "country                                                    USA  \n",
       "budget                                      USD 100,000,000.00  \n",
       "imdb_score                                                 6.0  \n",
       "actors                Morgan Freeman,Ayelet Zurer,Moises Arias  \n",
       "movie_facebook_likes                                         0  \n",
       "movie_twitter_likes                                       1000  "
      ]
     },
     "execution_count": 46,
     "metadata": {},
     "output_type": "execute_result"
    }
   ],
   "source": [
    "df_imdb[df_imdb.gross.isna()].T"
   ]
  },
  {
   "cell_type": "code",
   "execution_count": 47,
   "metadata": {},
   "outputs": [],
   "source": [
    "recaudacion_mediana = df_imdb[\"gross\"].astype(float).median()\n",
    "df_imdb.loc[df_imdb.gross.isna(), \"gross\"] = recaudacion_mediana"
   ]
  },
  {
   "cell_type": "code",
   "execution_count": 48,
   "metadata": {},
   "outputs": [
    {
     "data": {
      "text/plain": [
       "False"
      ]
     },
     "execution_count": 48,
     "metadata": {},
     "output_type": "execute_result"
    }
   ],
   "source": [
    "df_imdb.gross.isna().any()"
   ]
  },
  {
   "cell_type": "code",
   "execution_count": 49,
   "metadata": {},
   "outputs": [],
   "source": [
    "df_imdb[\"gross\"] = pd.to_numeric(df_imdb.gross, downcast=\"integer\")"
   ]
  },
  {
   "cell_type": "code",
   "execution_count": 50,
   "metadata": {},
   "outputs": [
    {
     "data": {
      "text/plain": [
       "count    9.400000e+01\n",
       "mean     1.063969e+12\n",
       "std      1.031420e+13\n",
       "min     -9.293900e+04\n",
       "25%      4.705198e+07\n",
       "50%      1.061603e+08\n",
       "75%      2.021590e+08\n",
       "max      1.000000e+14\n",
       "Name: gross, dtype: float64"
      ]
     },
     "execution_count": 50,
     "metadata": {},
     "output_type": "execute_result"
    }
   ],
   "source": [
    "df_imdb.gross.describe()"
   ]
  },
  {
   "cell_type": "code",
   "execution_count": 51,
   "metadata": {},
   "outputs": [
    {
     "data": {
      "text/plain": [
       "count                    94\n",
       "mean      1,063,968,923,160\n",
       "std      10,314,197,958,305\n",
       "min                 -92,939\n",
       "25%              47,051,975\n",
       "50%             106,160,295\n",
       "75%             202,158,994\n",
       "max     100,000,000,000,000\n",
       "Name: gross, dtype: float64"
      ]
     },
     "execution_count": 51,
     "metadata": {},
     "output_type": "execute_result"
    }
   ],
   "source": [
    "pd.set_option(\"float_format\", \"{:,.0f}\".format)\n",
    "df_imdb.gross.describe()"
   ]
  },
  {
   "cell_type": "code",
   "execution_count": 52,
   "metadata": {},
   "outputs": [],
   "source": [
    "pd.reset_option(\"float_format\")"
   ]
  },
  {
   "cell_type": "code",
   "execution_count": 53,
   "metadata": {},
   "outputs": [
    {
     "data": {
      "text/plain": [
       "<AxesSubplot:>"
      ]
     },
     "execution_count": 53,
     "metadata": {},
     "output_type": "execute_result"
    },
    {
     "data": {
      "image/png": "[encoded data removed]",
      "text/plain": [
       "<Figure size 432x288 with 1 Axes>"
      ]
     },
     "metadata": {
      "needs_background": "light"
     },
     "output_type": "display_data"
    }
   ],
   "source": [
    "df_imdb.gross.hist()"
   ]
  },
  {
   "cell_type": "code",
   "execution_count": 54,
   "metadata": {},
   "outputs": [
    {
     "data": {
      "text/html": [
       "<div>\n",
       "<style scoped>\n",
       "    .dataframe tbody tr th:only-of-type {\n",
       "        vertical-align: middle;\n",
       "    }\n",
       "\n",
       "    .dataframe tbody tr th {\n",
       "        vertical-align: top;\n",
       "    }\n",
       "\n",
       "    .dataframe thead th {\n",
       "        text-align: right;\n",
       "    }\n",
       "</style>\n",
       "<table border=\"1\" class=\"dataframe\">\n",
       "  <thead>\n",
       "    <tr style=\"text-align: right;\">\n",
       "      <th></th>\n",
       "      <th>color</th>\n",
       "      <th>director_name</th>\n",
       "      <th>duration</th>\n",
       "      <th>gross</th>\n",
       "      <th>genres</th>\n",
       "      <th>movie_title</th>\n",
       "      <th>title_year</th>\n",
       "      <th>language</th>\n",
       "      <th>country</th>\n",
       "      <th>budget</th>\n",
       "      <th>imdb_score</th>\n",
       "      <th>actors</th>\n",
       "      <th>movie_facebook_likes</th>\n",
       "      <th>movie_twitter_likes</th>\n",
       "    </tr>\n",
       "  </thead>\n",
       "  <tbody>\n",
       "    <tr>\n",
       "      <th>51</th>\n",
       "      <td>Color</td>\n",
       "      <td>Zack Snyder</td>\n",
       "      <td>143</td>\n",
       "      <td>-1532</td>\n",
       "      <td>Action|Adventure|Fantasy|Sci-Fi</td>\n",
       "      <td>man of steel</td>\n",
       "      <td>2013</td>\n",
       "      <td>English</td>\n",
       "      <td>USA</td>\n",
       "      <td>USD 225,000,000.00</td>\n",
       "      <td>7.2</td>\n",
       "      <td>Henry Cavill,Christopher Meloni,Harry Lennix</td>\n",
       "      <td>118000</td>\n",
       "      <td>1000</td>\n",
       "    </tr>\n",
       "    <tr>\n",
       "      <th>92</th>\n",
       "      <td>Color</td>\n",
       "      <td>Sadyk Sher-Niyaz</td>\n",
       "      <td>135</td>\n",
       "      <td>-92939</td>\n",
       "      <td>Action|Biography|Drama|History</td>\n",
       "      <td>queen of the mountains</td>\n",
       "      <td>2014</td>\n",
       "      <td>English</td>\n",
       "      <td>Kyrgyzstan</td>\n",
       "      <td>USD 1,400,000.00</td>\n",
       "      <td>8.7</td>\n",
       "      <td>Elina Abai Kyzy,Aziz Muradillayev,Mirlan Abdul...</td>\n",
       "      <td>0</td>\n",
       "      <td>1000</td>\n",
       "    </tr>\n",
       "  </tbody>\n",
       "</table>\n",
       "</div>"
      ],
      "text/plain": [
       "    color     director_name  duration  gross                           genres  \\\n",
       "51  Color       Zack Snyder       143  -1532  Action|Adventure|Fantasy|Sci-Fi   \n",
       "92  Color  Sadyk Sher-Niyaz       135 -92939   Action|Biography|Drama|History   \n",
       "\n",
       "               movie_title  title_year language     country  \\\n",
       "51            man of steel        2013  English         USA   \n",
       "92  queen of the mountains        2014  English  Kyrgyzstan   \n",
       "\n",
       "                budget  imdb_score  \\\n",
       "51  USD 225,000,000.00         7.2   \n",
       "92    USD 1,400,000.00         8.7   \n",
       "\n",
       "                                               actors  movie_facebook_likes  \\\n",
       "51       Henry Cavill,Christopher Meloni,Harry Lennix                118000   \n",
       "92  Elina Abai Kyzy,Aziz Muradillayev,Mirlan Abdul...                     0   \n",
       "\n",
       "    movie_twitter_likes  \n",
       "51                 1000  \n",
       "92                 1000  "
      ]
     },
     "execution_count": 54,
     "metadata": {},
     "output_type": "execute_result"
    }
   ],
   "source": [
    "df_imdb[df_imdb[\"gross\"] < 0]"
   ]
  },
  {
   "cell_type": "code",
   "execution_count": 55,
   "metadata": {},
   "outputs": [],
   "source": [
    "df_imdb.loc[df_imdb.gross < 0, \"gross\"] = recaudacion_mediana"
   ]
  },
  {
   "cell_type": "code",
   "execution_count": 56,
   "metadata": {},
   "outputs": [
    {
     "data": {
      "text/html": [
       "<div>\n",
       "<style scoped>\n",
       "    .dataframe tbody tr th:only-of-type {\n",
       "        vertical-align: middle;\n",
       "    }\n",
       "\n",
       "    .dataframe tbody tr th {\n",
       "        vertical-align: top;\n",
       "    }\n",
       "\n",
       "    .dataframe thead th {\n",
       "        text-align: right;\n",
       "    }\n",
       "</style>\n",
       "<table border=\"1\" class=\"dataframe\">\n",
       "  <thead>\n",
       "    <tr style=\"text-align: right;\">\n",
       "      <th></th>\n",
       "      <th>color</th>\n",
       "      <th>director_name</th>\n",
       "      <th>duration</th>\n",
       "      <th>gross</th>\n",
       "      <th>genres</th>\n",
       "      <th>movie_title</th>\n",
       "      <th>title_year</th>\n",
       "      <th>language</th>\n",
       "      <th>country</th>\n",
       "      <th>budget</th>\n",
       "      <th>imdb_score</th>\n",
       "      <th>actors</th>\n",
       "      <th>movie_facebook_likes</th>\n",
       "      <th>movie_twitter_likes</th>\n",
       "    </tr>\n",
       "  </thead>\n",
       "  <tbody>\n",
       "    <tr>\n",
       "      <th>14</th>\n",
       "      <td>Color</td>\n",
       "      <td>F. Gary Gray</td>\n",
       "      <td>167</td>\n",
       "      <td>1.000000e+14</td>\n",
       "      <td>Biography|Crime|Drama|History|Music</td>\n",
       "      <td>straight outta compton</td>\n",
       "      <td>2015</td>\n",
       "      <td>English</td>\n",
       "      <td>USA</td>\n",
       "      <td>USD 28,000,000.00</td>\n",
       "      <td>7.9</td>\n",
       "      <td>Aldis Hodge,Neil Brown Jr.,R. Marcos Taylor</td>\n",
       "      <td>76000</td>\n",
       "      <td>1000</td>\n",
       "    </tr>\n",
       "  </tbody>\n",
       "</table>\n",
       "</div>"
      ],
      "text/plain": [
       "    color director_name  duration         gross  \\\n",
       "14  Color  F. Gary Gray       167  1.000000e+14   \n",
       "\n",
       "                                 genres             movie_title  title_year  \\\n",
       "14  Biography|Crime|Drama|History|Music  straight outta compton        2015   \n",
       "\n",
       "   language country             budget  imdb_score  \\\n",
       "14  English     USA  USD 28,000,000.00         7.9   \n",
       "\n",
       "                                         actors  movie_facebook_likes  \\\n",
       "14  Aldis Hodge,Neil Brown Jr.,R. Marcos Taylor                 76000   \n",
       "\n",
       "    movie_twitter_likes  \n",
       "14                 1000  "
      ]
     },
     "execution_count": 56,
     "metadata": {},
     "output_type": "execute_result"
    }
   ],
   "source": [
    "df_imdb[df_imdb[\"gross\"] > 1e9]"
   ]
  },
  {
   "cell_type": "code",
   "execution_count": 57,
   "metadata": {},
   "outputs": [],
   "source": [
    "df_imdb.loc[df_imdb.gross >= 1e9, \"gross\"] = recaudacion_mediana"
   ]
  },
  {
   "cell_type": "code",
   "execution_count": 58,
   "metadata": {},
   "outputs": [
    {
     "data": {
      "text/plain": [
       "count    9.400000e+01\n",
       "mean     1.425250e+08\n",
       "std      1.270556e+08\n",
       "min      4.122900e+04\n",
       "25%      4.859932e+07\n",
       "50%      1.061603e+08\n",
       "75%      1.970535e+08\n",
       "max      6.232795e+08\n",
       "Name: gross, dtype: float64"
      ]
     },
     "execution_count": 58,
     "metadata": {},
     "output_type": "execute_result"
    }
   ],
   "source": [
    "df_imdb.gross.describe()"
   ]
  },
  {
   "cell_type": "code",
   "execution_count": 59,
   "metadata": {},
   "outputs": [
    {
     "data": {
      "text/plain": [
       "<AxesSubplot:>"
      ]
     },
     "execution_count": 59,
     "metadata": {},
     "output_type": "execute_result"
    },
    {
     "data": {
      "image/png": "[encoded data removed]",
      "text/plain": [
       "<Figure size 432x288 with 1 Axes>"
      ]
     },
     "metadata": {
      "needs_background": "light"
     },
     "output_type": "display_data"
    }
   ],
   "source": [
    "df_imdb.gross.hist()"
   ]
  },
  {
   "cell_type": "code",
   "execution_count": 60,
   "metadata": {},
   "outputs": [],
   "source": [
    "assert df_imdb.gross.isna().any() == False\n",
    "assert (df_imdb.gross < 0).any() == False\n",
    "assert (df_imdb.gross >= 1e9).any() == False"
   ]
  },
  {
   "cell_type": "markdown",
   "metadata": {},
   "source": [
    "### Columna `genres`\n"
   ]
  },
  {
   "cell_type": "code",
   "execution_count": 61,
   "metadata": {},
   "outputs": [
    {
     "data": {
      "text/plain": [
       "True"
      ]
     },
     "execution_count": 61,
     "metadata": {},
     "output_type": "execute_result"
    }
   ],
   "source": [
    "df_imdb[\"genres\"].isnull().any()"
   ]
  },
  {
   "cell_type": "code",
   "execution_count": 62,
   "metadata": {},
   "outputs": [
    {
     "data": {
      "text/plain": [
       "Action|Adventure|Sci-Fi                     9\n",
       "Drama                                       5\n",
       "Crime|Drama|Thriller                        5\n",
       "Biography|Drama|History                     4\n",
       "Drama|Romance                               3\n",
       "Adventure|Fantasy                           3\n",
       "Action|Adventure|Thriller                   3\n",
       "Crime|Drama|Mystery|Thriller                3\n",
       "Action|Adventure|Fantasy|Sci-Fi             2\n",
       "Adventure|Drama|History                     2\n",
       "Action|Adventure|Fantasy                    2\n",
       "Drama|Musical|Romance                       2\n",
       "Adventure|Drama|Sci-Fi                      2\n",
       "Drama|History|Thriller                      2\n",
       "Action|Adventure|Drama                      2\n",
       "Biography|Drama|Sport|War                   2\n",
       "Action|Adventure|Sci-Fi|Thriller            2\n",
       "Crime|Drama                                 2\n",
       "Adventure|Drama|Sci-Fi|Thriller             1\n",
       "Adventure|Sci-Fi|Thriller                   1\n",
       "Mystery|Thriller                            1\n",
       "Crime|Drama|Mystery|Thriller|Western        1\n",
       "Comedy|Drama|Romance                        1\n",
       "Action|Animation|Crime|Sci-Fi|Thriller      1\n",
       "NaN                                         1\n",
       "Action|Biography|Drama|History|War          1\n",
       "Drama|Fantasy                               1\n",
       "Drama|Sci-Fi                                1\n",
       "Biography|Drama|History|War                 1\n",
       "Drama|War                                   1\n",
       "Comedy                                      1\n",
       "Adventure|Drama                             1\n",
       "Biography|Drama|Music                       1\n",
       "Action|Adventure|Western                    1\n",
       "Action|Drama|Thriller|War                   1\n",
       "Adventure|Sci-Fi                            1\n",
       "Adventure|Drama|Thriller|Western            1\n",
       "Action|Adventure|Drama|History              1\n",
       "Comedy|Drama                                1\n",
       "Action|Adventure|Fantasy|Sci-Fi|Thriller    1\n",
       "Drama|Thriller                              1\n",
       "Drama|Western                               1\n",
       "Comedy|Crime|Drama|Mystery|Romance          1\n",
       "Adventure|Mystery|Sci-Fi                    1\n",
       "Action|Biography|Drama|History              1\n",
       "Drama|Sport                                 1\n",
       "Biography|Crime|Drama|History|Music         1\n",
       "Biography|Comedy|Crime|Drama                1\n",
       "Biography|Crime|Drama                       1\n",
       "Comedy|Drama|Musical|Romance                1\n",
       "Comedy|Western                              1\n",
       "Action|Crime|Thriller                       1\n",
       "Action|Drama|War                            1\n",
       "Biography|Drama|Music|Musical               1\n",
       "Action|Thriller                             1\n",
       "Drama|Horror|Thriller                       1\n",
       "Biography|Drama|Thriller                    1\n",
       "Name: genres, dtype: int64"
      ]
     },
     "execution_count": 62,
     "metadata": {},
     "output_type": "execute_result"
    }
   ],
   "source": [
    "df_imdb[\"genres\"].value_counts(dropna=False)"
   ]
  },
  {
   "cell_type": "code",
   "execution_count": 63,
   "metadata": {},
   "outputs": [],
   "source": [
    "# Opcion 1 (explode)"
   ]
  },
  {
   "cell_type": "code",
   "execution_count": 64,
   "metadata": {},
   "outputs": [
    {
     "data": {
      "text/plain": [
       "0     Biography\n",
       "0        Comedy\n",
       "0         Crime\n",
       "0         Drama\n",
       "1        Action\n",
       "        ...    \n",
       "97          War\n",
       "98    Biography\n",
       "98        Drama\n",
       "98        Music\n",
       "98      Musical\n",
       "Name: genres, Length: 278, dtype: object"
      ]
     },
     "execution_count": 64,
     "metadata": {},
     "output_type": "execute_result"
    }
   ],
   "source": [
    "df_imdb.genres.str.split(\"|\").explode()"
   ]
  },
  {
   "cell_type": "code",
   "execution_count": 65,
   "metadata": {},
   "outputs": [
    {
     "data": {
      "text/plain": [
       "Drama        61\n",
       "Adventure    36\n",
       "Action       30\n",
       "Thriller     28\n",
       "Sci-Fi       22\n",
       "Crime        17\n",
       "Biography    15\n",
       "History      13\n",
       "Fantasy       9\n",
       "Romance       8\n",
       "Mystery       7\n",
       "War           7\n",
       "Comedy        7\n",
       "Western       5\n",
       "Musical       4\n",
       "Music         3\n",
       "Sport         3\n",
       "Horror        1\n",
       "Animation     1\n",
       "NaN           1\n",
       "Name: genres, dtype: int64"
      ]
     },
     "execution_count": 65,
     "metadata": {},
     "output_type": "execute_result"
    }
   ],
   "source": [
    "df_imdb.genres.str.split(\"|\").explode().value_counts(dropna=False)"
   ]
  },
  {
   "cell_type": "code",
   "execution_count": 66,
   "metadata": {},
   "outputs": [],
   "source": [
    "df_imdb_prueba = df_imdb.copy()\n",
    "df_imdb_prueba[\"genres\"] = df_imdb[\"genres\"].str.split(\"|\")"
   ]
  },
  {
   "cell_type": "code",
   "execution_count": 67,
   "metadata": {},
   "outputs": [
    {
     "data": {
      "text/html": [
       "<div>\n",
       "<style scoped>\n",
       "    .dataframe tbody tr th:only-of-type {\n",
       "        vertical-align: middle;\n",
       "    }\n",
       "\n",
       "    .dataframe tbody tr th {\n",
       "        vertical-align: top;\n",
       "    }\n",
       "\n",
       "    .dataframe thead th {\n",
       "        text-align: right;\n",
       "    }\n",
       "</style>\n",
       "<table border=\"1\" class=\"dataframe\">\n",
       "  <thead>\n",
       "    <tr style=\"text-align: right;\">\n",
       "      <th></th>\n",
       "      <th>color</th>\n",
       "      <th>director_name</th>\n",
       "      <th>duration</th>\n",
       "      <th>gross</th>\n",
       "      <th>genres</th>\n",
       "      <th>movie_title</th>\n",
       "      <th>title_year</th>\n",
       "      <th>language</th>\n",
       "      <th>country</th>\n",
       "      <th>budget</th>\n",
       "      <th>imdb_score</th>\n",
       "      <th>actors</th>\n",
       "      <th>movie_facebook_likes</th>\n",
       "      <th>movie_twitter_likes</th>\n",
       "    </tr>\n",
       "  </thead>\n",
       "  <tbody>\n",
       "    <tr>\n",
       "      <th>0</th>\n",
       "      <td>Color</td>\n",
       "      <td>Martin Scorsese</td>\n",
       "      <td>240</td>\n",
       "      <td>116866727.0</td>\n",
       "      <td>Biography</td>\n",
       "      <td>the wolf of wall street</td>\n",
       "      <td>2013</td>\n",
       "      <td>English</td>\n",
       "      <td>USA</td>\n",
       "      <td>USD 100,000,000.00</td>\n",
       "      <td>8.2</td>\n",
       "      <td>Leonardo DiCaprio,Matthew McConaughey,Jon Favreau</td>\n",
       "      <td>138000</td>\n",
       "      <td>1000</td>\n",
       "    </tr>\n",
       "    <tr>\n",
       "      <th>0</th>\n",
       "      <td>Color</td>\n",
       "      <td>Martin Scorsese</td>\n",
       "      <td>240</td>\n",
       "      <td>116866727.0</td>\n",
       "      <td>Comedy</td>\n",
       "      <td>the wolf of wall street</td>\n",
       "      <td>2013</td>\n",
       "      <td>English</td>\n",
       "      <td>USA</td>\n",
       "      <td>USD 100,000,000.00</td>\n",
       "      <td>8.2</td>\n",
       "      <td>Leonardo DiCaprio,Matthew McConaughey,Jon Favreau</td>\n",
       "      <td>138000</td>\n",
       "      <td>1000</td>\n",
       "    </tr>\n",
       "    <tr>\n",
       "      <th>0</th>\n",
       "      <td>Color</td>\n",
       "      <td>Martin Scorsese</td>\n",
       "      <td>240</td>\n",
       "      <td>116866727.0</td>\n",
       "      <td>Crime</td>\n",
       "      <td>the wolf of wall street</td>\n",
       "      <td>2013</td>\n",
       "      <td>English</td>\n",
       "      <td>USA</td>\n",
       "      <td>USD 100,000,000.00</td>\n",
       "      <td>8.2</td>\n",
       "      <td>Leonardo DiCaprio,Matthew McConaughey,Jon Favreau</td>\n",
       "      <td>138000</td>\n",
       "      <td>1000</td>\n",
       "    </tr>\n",
       "    <tr>\n",
       "      <th>0</th>\n",
       "      <td>Color</td>\n",
       "      <td>Martin Scorsese</td>\n",
       "      <td>240</td>\n",
       "      <td>116866727.0</td>\n",
       "      <td>Drama</td>\n",
       "      <td>the wolf of wall street</td>\n",
       "      <td>2013</td>\n",
       "      <td>English</td>\n",
       "      <td>USA</td>\n",
       "      <td>USD 100,000,000.00</td>\n",
       "      <td>8.2</td>\n",
       "      <td>Leonardo DiCaprio,Matthew McConaughey,Jon Favreau</td>\n",
       "      <td>138000</td>\n",
       "      <td>1000</td>\n",
       "    </tr>\n",
       "    <tr>\n",
       "      <th>1</th>\n",
       "      <td>Color</td>\n",
       "      <td>Shane Black</td>\n",
       "      <td>195</td>\n",
       "      <td>408992272.0</td>\n",
       "      <td>Action</td>\n",
       "      <td>iron man 3</td>\n",
       "      <td>2013</td>\n",
       "      <td>English</td>\n",
       "      <td>USA</td>\n",
       "      <td>USD 200,000,000.00</td>\n",
       "      <td>7.2</td>\n",
       "      <td>Robert Downey Jr.,Jon Favreau,Don Cheadle</td>\n",
       "      <td>95000</td>\n",
       "      <td>1000</td>\n",
       "    </tr>\n",
       "    <tr>\n",
       "      <th>...</th>\n",
       "      <td>...</td>\n",
       "      <td>...</td>\n",
       "      <td>...</td>\n",
       "      <td>...</td>\n",
       "      <td>...</td>\n",
       "      <td>...</td>\n",
       "      <td>...</td>\n",
       "      <td>...</td>\n",
       "      <td>...</td>\n",
       "      <td>...</td>\n",
       "      <td>...</td>\n",
       "      <td>...</td>\n",
       "      <td>...</td>\n",
       "      <td>...</td>\n",
       "    </tr>\n",
       "    <tr>\n",
       "      <th>97</th>\n",
       "      <td>Color</td>\n",
       "      <td>David Ayer</td>\n",
       "      <td>134</td>\n",
       "      <td>85707116.0</td>\n",
       "      <td>War</td>\n",
       "      <td>fury</td>\n",
       "      <td>2014</td>\n",
       "      <td>English</td>\n",
       "      <td>USA</td>\n",
       "      <td>USD 68,000,000.00</td>\n",
       "      <td>7.6</td>\n",
       "      <td>Brad Pitt,Logan Lerman,Jim Parrack</td>\n",
       "      <td>82000</td>\n",
       "      <td>1000</td>\n",
       "    </tr>\n",
       "    <tr>\n",
       "      <th>98</th>\n",
       "      <td>Color</td>\n",
       "      <td>Clint Eastwood</td>\n",
       "      <td>5</td>\n",
       "      <td>47034272.0</td>\n",
       "      <td>Biography</td>\n",
       "      <td>jersey boys</td>\n",
       "      <td>2014</td>\n",
       "      <td>English</td>\n",
       "      <td>USA</td>\n",
       "      <td>USD 40,000,000.00</td>\n",
       "      <td>6.9</td>\n",
       "      <td>Johnny Cannizzaro,Steve Schirripa,Scott Vance</td>\n",
       "      <td>16000</td>\n",
       "      <td>1000</td>\n",
       "    </tr>\n",
       "    <tr>\n",
       "      <th>98</th>\n",
       "      <td>Color</td>\n",
       "      <td>Clint Eastwood</td>\n",
       "      <td>5</td>\n",
       "      <td>47034272.0</td>\n",
       "      <td>Drama</td>\n",
       "      <td>jersey boys</td>\n",
       "      <td>2014</td>\n",
       "      <td>English</td>\n",
       "      <td>USA</td>\n",
       "      <td>USD 40,000,000.00</td>\n",
       "      <td>6.9</td>\n",
       "      <td>Johnny Cannizzaro,Steve Schirripa,Scott Vance</td>\n",
       "      <td>16000</td>\n",
       "      <td>1000</td>\n",
       "    </tr>\n",
       "    <tr>\n",
       "      <th>98</th>\n",
       "      <td>Color</td>\n",
       "      <td>Clint Eastwood</td>\n",
       "      <td>5</td>\n",
       "      <td>47034272.0</td>\n",
       "      <td>Music</td>\n",
       "      <td>jersey boys</td>\n",
       "      <td>2014</td>\n",
       "      <td>English</td>\n",
       "      <td>USA</td>\n",
       "      <td>USD 40,000,000.00</td>\n",
       "      <td>6.9</td>\n",
       "      <td>Johnny Cannizzaro,Steve Schirripa,Scott Vance</td>\n",
       "      <td>16000</td>\n",
       "      <td>1000</td>\n",
       "    </tr>\n",
       "    <tr>\n",
       "      <th>98</th>\n",
       "      <td>Color</td>\n",
       "      <td>Clint Eastwood</td>\n",
       "      <td>5</td>\n",
       "      <td>47034272.0</td>\n",
       "      <td>Musical</td>\n",
       "      <td>jersey boys</td>\n",
       "      <td>2014</td>\n",
       "      <td>English</td>\n",
       "      <td>USA</td>\n",
       "      <td>USD 40,000,000.00</td>\n",
       "      <td>6.9</td>\n",
       "      <td>Johnny Cannizzaro,Steve Schirripa,Scott Vance</td>\n",
       "      <td>16000</td>\n",
       "      <td>1000</td>\n",
       "    </tr>\n",
       "  </tbody>\n",
       "</table>\n",
       "<p>278 rows × 14 columns</p>\n",
       "</div>"
      ],
      "text/plain": [
       "    color    director_name  duration        gross     genres  \\\n",
       "0   Color  Martin Scorsese       240  116866727.0  Biography   \n",
       "0   Color  Martin Scorsese       240  116866727.0     Comedy   \n",
       "0   Color  Martin Scorsese       240  116866727.0      Crime   \n",
       "0   Color  Martin Scorsese       240  116866727.0      Drama   \n",
       "1   Color      Shane Black       195  408992272.0     Action   \n",
       "..    ...              ...       ...          ...        ...   \n",
       "97  Color       David Ayer       134   85707116.0        War   \n",
       "98  Color   Clint Eastwood         5   47034272.0  Biography   \n",
       "98  Color   Clint Eastwood         5   47034272.0      Drama   \n",
       "98  Color   Clint Eastwood         5   47034272.0      Music   \n",
       "98  Color   Clint Eastwood         5   47034272.0    Musical   \n",
       "\n",
       "                movie_title  title_year language country              budget  \\\n",
       "0   the wolf of wall street        2013  English     USA  USD 100,000,000.00   \n",
       "0   the wolf of wall street        2013  English     USA  USD 100,000,000.00   \n",
       "0   the wolf of wall street        2013  English     USA  USD 100,000,000.00   \n",
       "0   the wolf of wall street        2013  English     USA  USD 100,000,000.00   \n",
       "1                iron man 3        2013  English     USA  USD 200,000,000.00   \n",
       "..                      ...         ...      ...     ...                 ...   \n",
       "97                     fury        2014  English     USA   USD 68,000,000.00   \n",
       "98              jersey boys        2014  English     USA   USD 40,000,000.00   \n",
       "98              jersey boys        2014  English     USA   USD 40,000,000.00   \n",
       "98              jersey boys        2014  English     USA   USD 40,000,000.00   \n",
       "98              jersey boys        2014  English     USA   USD 40,000,000.00   \n",
       "\n",
       "    imdb_score                                             actors  \\\n",
       "0          8.2  Leonardo DiCaprio,Matthew McConaughey,Jon Favreau   \n",
       "0          8.2  Leonardo DiCaprio,Matthew McConaughey,Jon Favreau   \n",
       "0          8.2  Leonardo DiCaprio,Matthew McConaughey,Jon Favreau   \n",
       "0          8.2  Leonardo DiCaprio,Matthew McConaughey,Jon Favreau   \n",
       "1          7.2          Robert Downey Jr.,Jon Favreau,Don Cheadle   \n",
       "..         ...                                                ...   \n",
       "97         7.6                 Brad Pitt,Logan Lerman,Jim Parrack   \n",
       "98         6.9      Johnny Cannizzaro,Steve Schirripa,Scott Vance   \n",
       "98         6.9      Johnny Cannizzaro,Steve Schirripa,Scott Vance   \n",
       "98         6.9      Johnny Cannizzaro,Steve Schirripa,Scott Vance   \n",
       "98         6.9      Johnny Cannizzaro,Steve Schirripa,Scott Vance   \n",
       "\n",
       "    movie_facebook_likes  movie_twitter_likes  \n",
       "0                 138000                 1000  \n",
       "0                 138000                 1000  \n",
       "0                 138000                 1000  \n",
       "0                 138000                 1000  \n",
       "1                  95000                 1000  \n",
       "..                   ...                  ...  \n",
       "97                 82000                 1000  \n",
       "98                 16000                 1000  \n",
       "98                 16000                 1000  \n",
       "98                 16000                 1000  \n",
       "98                 16000                 1000  \n",
       "\n",
       "[278 rows x 14 columns]"
      ]
     },
     "execution_count": 67,
     "metadata": {},
     "output_type": "execute_result"
    }
   ],
   "source": [
    "df_imdb_prueba.explode(\"genres\")"
   ]
  },
  {
   "cell_type": "code",
   "execution_count": 68,
   "metadata": {},
   "outputs": [
    {
     "data": {
      "text/html": [
       "<div>\n",
       "<style scoped>\n",
       "    .dataframe tbody tr th:only-of-type {\n",
       "        vertical-align: middle;\n",
       "    }\n",
       "\n",
       "    .dataframe tbody tr th {\n",
       "        vertical-align: top;\n",
       "    }\n",
       "\n",
       "    .dataframe thead th {\n",
       "        text-align: right;\n",
       "    }\n",
       "</style>\n",
       "<table border=\"1\" class=\"dataframe\">\n",
       "  <thead>\n",
       "    <tr style=\"text-align: right;\">\n",
       "      <th></th>\n",
       "      <th>0</th>\n",
       "      <th>1</th>\n",
       "      <th>2</th>\n",
       "      <th>3</th>\n",
       "      <th>4</th>\n",
       "    </tr>\n",
       "  </thead>\n",
       "  <tbody>\n",
       "    <tr>\n",
       "      <th>0</th>\n",
       "      <td>Biography</td>\n",
       "      <td>Comedy</td>\n",
       "      <td>Crime</td>\n",
       "      <td>Drama</td>\n",
       "      <td>None</td>\n",
       "    </tr>\n",
       "    <tr>\n",
       "      <th>1</th>\n",
       "      <td>Action</td>\n",
       "      <td>Adventure</td>\n",
       "      <td>Sci-Fi</td>\n",
       "      <td>None</td>\n",
       "      <td>None</td>\n",
       "    </tr>\n",
       "    <tr>\n",
       "      <th>2</th>\n",
       "      <td>Crime</td>\n",
       "      <td>Drama</td>\n",
       "      <td>Mystery</td>\n",
       "      <td>Thriller</td>\n",
       "      <td>Western</td>\n",
       "    </tr>\n",
       "    <tr>\n",
       "      <th>3</th>\n",
       "      <td>Drama</td>\n",
       "      <td>None</td>\n",
       "      <td>None</td>\n",
       "      <td>None</td>\n",
       "      <td>None</td>\n",
       "    </tr>\n",
       "    <tr>\n",
       "      <th>4</th>\n",
       "      <td>Adventure</td>\n",
       "      <td>Fantasy</td>\n",
       "      <td>None</td>\n",
       "      <td>None</td>\n",
       "      <td>None</td>\n",
       "    </tr>\n",
       "    <tr>\n",
       "      <th>...</th>\n",
       "      <td>...</td>\n",
       "      <td>...</td>\n",
       "      <td>...</td>\n",
       "      <td>...</td>\n",
       "      <td>...</td>\n",
       "    </tr>\n",
       "    <tr>\n",
       "      <th>94</th>\n",
       "      <td>Biography</td>\n",
       "      <td>Drama</td>\n",
       "      <td>History</td>\n",
       "      <td>None</td>\n",
       "      <td>None</td>\n",
       "    </tr>\n",
       "    <tr>\n",
       "      <th>95</th>\n",
       "      <td>Comedy</td>\n",
       "      <td>Drama</td>\n",
       "      <td>None</td>\n",
       "      <td>None</td>\n",
       "      <td>None</td>\n",
       "    </tr>\n",
       "    <tr>\n",
       "      <th>96</th>\n",
       "      <td>Biography</td>\n",
       "      <td>Drama</td>\n",
       "      <td>Thriller</td>\n",
       "      <td>None</td>\n",
       "      <td>None</td>\n",
       "    </tr>\n",
       "    <tr>\n",
       "      <th>97</th>\n",
       "      <td>Action</td>\n",
       "      <td>Drama</td>\n",
       "      <td>War</td>\n",
       "      <td>None</td>\n",
       "      <td>None</td>\n",
       "    </tr>\n",
       "    <tr>\n",
       "      <th>98</th>\n",
       "      <td>Biography</td>\n",
       "      <td>Drama</td>\n",
       "      <td>Music</td>\n",
       "      <td>Musical</td>\n",
       "      <td>None</td>\n",
       "    </tr>\n",
       "  </tbody>\n",
       "</table>\n",
       "<p>94 rows × 5 columns</p>\n",
       "</div>"
      ],
      "text/plain": [
       "            0          1         2         3        4\n",
       "0   Biography     Comedy     Crime     Drama     None\n",
       "1      Action  Adventure    Sci-Fi      None     None\n",
       "2       Crime      Drama   Mystery  Thriller  Western\n",
       "3       Drama       None      None      None     None\n",
       "4   Adventure    Fantasy      None      None     None\n",
       "..        ...        ...       ...       ...      ...\n",
       "94  Biography      Drama   History      None     None\n",
       "95     Comedy      Drama      None      None     None\n",
       "96  Biography      Drama  Thriller      None     None\n",
       "97     Action      Drama       War      None     None\n",
       "98  Biography      Drama     Music   Musical     None\n",
       "\n",
       "[94 rows x 5 columns]"
      ]
     },
     "execution_count": 68,
     "metadata": {},
     "output_type": "execute_result"
    }
   ],
   "source": [
    "# Opcion 2 (dividir en varias columnas)\n",
    "generos_en_columnas = df_imdb[\"genres\"].str.split(\"|\", n=4, expand=True)\n",
    "generos_en_columnas"
   ]
  },
  {
   "cell_type": "code",
   "execution_count": 69,
   "metadata": {},
   "outputs": [],
   "source": [
    "df_imdb[\"genero_1\"] = generos_en_columnas[0]\n",
    "df_imdb[\"genero_2\"] = generos_en_columnas[1]\n",
    "df_imdb[\"genero_3\"] = generos_en_columnas[2]\n",
    "df_imdb[\"genero_4\"] = generos_en_columnas[3]\n",
    "df_imdb[\"genero_5\"] = generos_en_columnas[4]"
   ]
  },
  {
   "cell_type": "code",
   "execution_count": 70,
   "metadata": {},
   "outputs": [
    {
     "data": {
      "text/html": [
       "<div>\n",
       "<style scoped>\n",
       "    .dataframe tbody tr th:only-of-type {\n",
       "        vertical-align: middle;\n",
       "    }\n",
       "\n",
       "    .dataframe tbody tr th {\n",
       "        vertical-align: top;\n",
       "    }\n",
       "\n",
       "    .dataframe thead th {\n",
       "        text-align: right;\n",
       "    }\n",
       "</style>\n",
       "<table border=\"1\" class=\"dataframe\">\n",
       "  <thead>\n",
       "    <tr style=\"text-align: right;\">\n",
       "      <th></th>\n",
       "      <th>0</th>\n",
       "      <th>1</th>\n",
       "      <th>2</th>\n",
       "      <th>3</th>\n",
       "      <th>4</th>\n",
       "    </tr>\n",
       "  </thead>\n",
       "  <tbody>\n",
       "    <tr>\n",
       "      <th>color</th>\n",
       "      <td>Color</td>\n",
       "      <td>Color</td>\n",
       "      <td>Color</td>\n",
       "      <td>Color</td>\n",
       "      <td>Color</td>\n",
       "    </tr>\n",
       "    <tr>\n",
       "      <th>director_name</th>\n",
       "      <td>Martin Scorsese</td>\n",
       "      <td>Shane Black</td>\n",
       "      <td>Quentin Tarantino</td>\n",
       "      <td>Kenneth Lonergan</td>\n",
       "      <td>Peter Jackson</td>\n",
       "    </tr>\n",
       "    <tr>\n",
       "      <th>duration</th>\n",
       "      <td>240</td>\n",
       "      <td>195</td>\n",
       "      <td>187</td>\n",
       "      <td>186</td>\n",
       "      <td>186</td>\n",
       "    </tr>\n",
       "    <tr>\n",
       "      <th>gross</th>\n",
       "      <td>116866727.0</td>\n",
       "      <td>408992272.0</td>\n",
       "      <td>54116191.0</td>\n",
       "      <td>46495.0</td>\n",
       "      <td>258355354.0</td>\n",
       "    </tr>\n",
       "    <tr>\n",
       "      <th>genres</th>\n",
       "      <td>Biography|Comedy|Crime|Drama</td>\n",
       "      <td>Action|Adventure|Sci-Fi</td>\n",
       "      <td>Crime|Drama|Mystery|Thriller|Western</td>\n",
       "      <td>Drama</td>\n",
       "      <td>Adventure|Fantasy</td>\n",
       "    </tr>\n",
       "    <tr>\n",
       "      <th>movie_title</th>\n",
       "      <td>the wolf of wall street</td>\n",
       "      <td>iron man 3</td>\n",
       "      <td>the hateful eight</td>\n",
       "      <td>margaret</td>\n",
       "      <td>the hobbit: the desolation of smaug</td>\n",
       "    </tr>\n",
       "    <tr>\n",
       "      <th>title_year</th>\n",
       "      <td>2013</td>\n",
       "      <td>2013</td>\n",
       "      <td>2015</td>\n",
       "      <td>2011</td>\n",
       "      <td>2013</td>\n",
       "    </tr>\n",
       "    <tr>\n",
       "      <th>language</th>\n",
       "      <td>English</td>\n",
       "      <td>English</td>\n",
       "      <td>English</td>\n",
       "      <td>English</td>\n",
       "      <td>English</td>\n",
       "    </tr>\n",
       "    <tr>\n",
       "      <th>country</th>\n",
       "      <td>USA</td>\n",
       "      <td>USA</td>\n",
       "      <td>USA</td>\n",
       "      <td>usa</td>\n",
       "      <td>USA</td>\n",
       "    </tr>\n",
       "    <tr>\n",
       "      <th>budget</th>\n",
       "      <td>USD 100,000,000.00</td>\n",
       "      <td>USD 200,000,000.00</td>\n",
       "      <td>USD 44,000,000.00</td>\n",
       "      <td>USD 14,000,000.00</td>\n",
       "      <td>USD 225,000,000.00</td>\n",
       "    </tr>\n",
       "    <tr>\n",
       "      <th>imdb_score</th>\n",
       "      <td>8.2</td>\n",
       "      <td>7.2</td>\n",
       "      <td>7.9</td>\n",
       "      <td>6.5</td>\n",
       "      <td>7.9</td>\n",
       "    </tr>\n",
       "    <tr>\n",
       "      <th>actors</th>\n",
       "      <td>Leonardo DiCaprio,Matthew McConaughey,Jon Favreau</td>\n",
       "      <td>Robert Downey Jr.,Jon Favreau,Don Cheadle</td>\n",
       "      <td>Craig Stark,Jennifer Jason Leigh,Zoë Bell</td>\n",
       "      <td>Matt Damon,Kieran Culkin,John Gallagher Jr.</td>\n",
       "      <td>Aidan Turner,Adam Brown,James Nesbitt</td>\n",
       "    </tr>\n",
       "    <tr>\n",
       "      <th>movie_facebook_likes</th>\n",
       "      <td>138000</td>\n",
       "      <td>95000</td>\n",
       "      <td>114000</td>\n",
       "      <td>0</td>\n",
       "      <td>83000</td>\n",
       "    </tr>\n",
       "    <tr>\n",
       "      <th>movie_twitter_likes</th>\n",
       "      <td>1000</td>\n",
       "      <td>1000</td>\n",
       "      <td>1000</td>\n",
       "      <td>1000</td>\n",
       "      <td>1000</td>\n",
       "    </tr>\n",
       "    <tr>\n",
       "      <th>genero_1</th>\n",
       "      <td>Biography</td>\n",
       "      <td>Action</td>\n",
       "      <td>Crime</td>\n",
       "      <td>Drama</td>\n",
       "      <td>Adventure</td>\n",
       "    </tr>\n",
       "    <tr>\n",
       "      <th>genero_2</th>\n",
       "      <td>Comedy</td>\n",
       "      <td>Adventure</td>\n",
       "      <td>Drama</td>\n",
       "      <td>None</td>\n",
       "      <td>Fantasy</td>\n",
       "    </tr>\n",
       "    <tr>\n",
       "      <th>genero_3</th>\n",
       "      <td>Crime</td>\n",
       "      <td>Sci-Fi</td>\n",
       "      <td>Mystery</td>\n",
       "      <td>None</td>\n",
       "      <td>None</td>\n",
       "    </tr>\n",
       "    <tr>\n",
       "      <th>genero_4</th>\n",
       "      <td>Drama</td>\n",
       "      <td>None</td>\n",
       "      <td>Thriller</td>\n",
       "      <td>None</td>\n",
       "      <td>None</td>\n",
       "    </tr>\n",
       "    <tr>\n",
       "      <th>genero_5</th>\n",
       "      <td>None</td>\n",
       "      <td>None</td>\n",
       "      <td>Western</td>\n",
       "      <td>None</td>\n",
       "      <td>None</td>\n",
       "    </tr>\n",
       "  </tbody>\n",
       "</table>\n",
       "</div>"
      ],
      "text/plain": [
       "                                                                      0  \\\n",
       "color                                                             Color   \n",
       "director_name                                           Martin Scorsese   \n",
       "duration                                                            240   \n",
       "gross                                                       116866727.0   \n",
       "genres                                     Biography|Comedy|Crime|Drama   \n",
       "movie_title                                     the wolf of wall street   \n",
       "title_year                                                         2013   \n",
       "language                                                        English   \n",
       "country                                                             USA   \n",
       "budget                                               USD 100,000,000.00   \n",
       "imdb_score                                                          8.2   \n",
       "actors                Leonardo DiCaprio,Matthew McConaughey,Jon Favreau   \n",
       "movie_facebook_likes                                             138000   \n",
       "movie_twitter_likes                                                1000   \n",
       "genero_1                                                      Biography   \n",
       "genero_2                                                         Comedy   \n",
       "genero_3                                                          Crime   \n",
       "genero_4                                                          Drama   \n",
       "genero_5                                                           None   \n",
       "\n",
       "                                                              1  \\\n",
       "color                                                     Color   \n",
       "director_name                                       Shane Black   \n",
       "duration                                                    195   \n",
       "gross                                               408992272.0   \n",
       "genres                                  Action|Adventure|Sci-Fi   \n",
       "movie_title                                          iron man 3   \n",
       "title_year                                                 2013   \n",
       "language                                                English   \n",
       "country                                                     USA   \n",
       "budget                                       USD 200,000,000.00   \n",
       "imdb_score                                                  7.2   \n",
       "actors                Robert Downey Jr.,Jon Favreau,Don Cheadle   \n",
       "movie_facebook_likes                                      95000   \n",
       "movie_twitter_likes                                        1000   \n",
       "genero_1                                                 Action   \n",
       "genero_2                                              Adventure   \n",
       "genero_3                                                 Sci-Fi   \n",
       "genero_4                                                   None   \n",
       "genero_5                                                   None   \n",
       "\n",
       "                                                              2  \\\n",
       "color                                                     Color   \n",
       "director_name                                 Quentin Tarantino   \n",
       "duration                                                    187   \n",
       "gross                                                54116191.0   \n",
       "genres                     Crime|Drama|Mystery|Thriller|Western   \n",
       "movie_title                                   the hateful eight   \n",
       "title_year                                                 2015   \n",
       "language                                                English   \n",
       "country                                                     USA   \n",
       "budget                                        USD 44,000,000.00   \n",
       "imdb_score                                                  7.9   \n",
       "actors                Craig Stark,Jennifer Jason Leigh,Zoë Bell   \n",
       "movie_facebook_likes                                     114000   \n",
       "movie_twitter_likes                                        1000   \n",
       "genero_1                                                  Crime   \n",
       "genero_2                                                  Drama   \n",
       "genero_3                                                Mystery   \n",
       "genero_4                                               Thriller   \n",
       "genero_5                                                Western   \n",
       "\n",
       "                                                                3  \\\n",
       "color                                                       Color   \n",
       "director_name                                    Kenneth Lonergan   \n",
       "duration                                                      186   \n",
       "gross                                                     46495.0   \n",
       "genres                                                      Drama   \n",
       "movie_title                                              margaret   \n",
       "title_year                                                   2011   \n",
       "language                                                  English   \n",
       "country                                                       usa   \n",
       "budget                                          USD 14,000,000.00   \n",
       "imdb_score                                                    6.5   \n",
       "actors                Matt Damon,Kieran Culkin,John Gallagher Jr.   \n",
       "movie_facebook_likes                                            0   \n",
       "movie_twitter_likes                                          1000   \n",
       "genero_1                                                    Drama   \n",
       "genero_2                                                     None   \n",
       "genero_3                                                     None   \n",
       "genero_4                                                     None   \n",
       "genero_5                                                     None   \n",
       "\n",
       "                                                          4  \n",
       "color                                                 Color  \n",
       "director_name                                 Peter Jackson  \n",
       "duration                                                186  \n",
       "gross                                           258355354.0  \n",
       "genres                                    Adventure|Fantasy  \n",
       "movie_title             the hobbit: the desolation of smaug  \n",
       "title_year                                             2013  \n",
       "language                                            English  \n",
       "country                                                 USA  \n",
       "budget                                   USD 225,000,000.00  \n",
       "imdb_score                                              7.9  \n",
       "actors                Aidan Turner,Adam Brown,James Nesbitt  \n",
       "movie_facebook_likes                                  83000  \n",
       "movie_twitter_likes                                    1000  \n",
       "genero_1                                          Adventure  \n",
       "genero_2                                            Fantasy  \n",
       "genero_3                                               None  \n",
       "genero_4                                               None  \n",
       "genero_5                                               None  "
      ]
     },
     "execution_count": 70,
     "metadata": {},
     "output_type": "execute_result"
    }
   ],
   "source": [
    "df_imdb.head().T"
   ]
  },
  {
   "cell_type": "markdown",
   "metadata": {},
   "source": [
    "### Columna `budget`"
   ]
  },
  {
   "cell_type": "code",
   "execution_count": 71,
   "metadata": {},
   "outputs": [
    {
     "data": {
      "text/plain": [
       "0     USD 100,000,000.00\n",
       "1     USD 200,000,000.00\n",
       "2      USD 44,000,000.00\n",
       "3      USD 14,000,000.00\n",
       "4     USD 225,000,000.00\n",
       "             ...        \n",
       "94     USD 20,000,000.00\n",
       "95               USD nan\n",
       "96     USD 55,000,000.00\n",
       "97     USD 68,000,000.00\n",
       "98     USD 40,000,000.00\n",
       "Name: budget, Length: 94, dtype: object"
      ]
     },
     "execution_count": 71,
     "metadata": {},
     "output_type": "execute_result"
    }
   ],
   "source": [
    "df_imdb.budget"
   ]
  },
  {
   "cell_type": "code",
   "execution_count": 72,
   "metadata": {},
   "outputs": [
    {
     "data": {
      "text/plain": [
       "USD 250,000,000.00    6\n",
       "USD 40,000,000.00     5\n",
       "USD 100,000,000.00    5\n",
       "USD 200,000,000.00    5\n",
       "USD 50,000,000.00     5\n",
       "USD 25,000,000.00     4\n",
       "USD nan               4\n",
       "USD 61,000,000.00     3\n",
       "USD 65,000,000.00     3\n",
       "USD 225,000,000.00    2\n",
       "USD 160,000,000.00    2\n",
       "USD 125,000,000.00    2\n",
       "USD 20,000,000.00     2\n",
       "USD 32,000,000.00     2\n",
       "USD 35,000,000.00     2\n",
       "USD 105,000,000.00    1\n",
       "USD 22,000,000.00     1\n",
       "USD 46,000,000.00     1\n",
       "USD 60,000,000.00     1\n",
       "USD 17,350.00         1\n",
       "USD 15,000,000.00     1\n",
       "USD 140,000,000.00    1\n",
       "USD 75,000,000.00     1\n",
       "USD 70,000,000.00     1\n",
       "USD 31,000,000.00     1\n",
       "USD 4,000,000.00      1\n",
       "USD 130,000,000.00    1\n",
       "USD 55,000,000.00     1\n",
       "USD 85,000,000.00     1\n",
       "USD 190,000,000.00    1\n",
       "USD 230,000,000.00    1\n",
       "USD 135,000,000.00    1\n",
       "USD 66,000,000.00     1\n",
       "USD 14,000,000.00     1\n",
       "USD 180,000,000.00    1\n",
       "USD 25,500,000.00     1\n",
       "USD 220,000,000.00    1\n",
       "USD 68,000,000.00     1\n",
       "USD 1,400,000.00      1\n",
       "USD 90,000,000.00     1\n",
       "USD 78,000,000.00     1\n",
       "USD 210,000,000.00    1\n",
       "USD 195,000,000.00    1\n",
       "USD 45,000,000.00     1\n",
       "USD 120,000,000.00    1\n",
       "USD 3,500,000.00      1\n",
       "USD 178,000,000.00    1\n",
       "USD 102,000,000.00    1\n",
       "USD 30,000,000.00     1\n",
       "USD 245,000,000.00    1\n",
       "USD 44,000,000.00     1\n",
       "USD 165,000,000.00    1\n",
       "USD 28,000,000.00     1\n",
       "USD 80,000,000.00     1\n",
       "USD 108,000,000.00    1\n",
       "USD 215,000,000.00    1\n",
       "USD 170,000,000.00    1\n",
       "Name: budget, dtype: int64"
      ]
     },
     "execution_count": 72,
     "metadata": {},
     "output_type": "execute_result"
    }
   ],
   "source": [
    "df_imdb.budget.value_counts(dropna=False)"
   ]
  },
  {
   "cell_type": "code",
   "execution_count": 73,
   "metadata": {},
   "outputs": [],
   "source": [
    "df_imdb[\"budget\"] = df_imdb.budget.str.replace(\"USD\", \"\").str.replace(\",\", \"\")"
   ]
  },
  {
   "cell_type": "code",
   "execution_count": 74,
   "metadata": {},
   "outputs": [],
   "source": [
    "df_imdb.loc[df_imdb.budget.str.strip().str.match(\"nan\"), \"budget\"] = np.nan"
   ]
  },
  {
   "cell_type": "code",
   "execution_count": 75,
   "metadata": {},
   "outputs": [],
   "source": [
    "df_imdb[\"budget\"] = np.where(~df_imdb[\"budget\"].isna(), df_imdb[\"budget\"].str[:-3], df_imdb[\"budget\"])\n",
    "df_imdb[\"budget\"] = df_imdb.budget.astype(float)"
   ]
  },
  {
   "cell_type": "code",
   "execution_count": 76,
   "metadata": {},
   "outputs": [
    {
     "data": {
      "text/plain": [
       "<AxesSubplot:>"
      ]
     },
     "execution_count": 76,
     "metadata": {},
     "output_type": "execute_result"
    },
    {
     "data": {
      "image/png": "[encoded data removed]",
      "text/plain": [
       "<Figure size 432x288 with 1 Axes>"
      ]
     },
     "metadata": {
      "needs_background": "light"
     },
     "output_type": "display_data"
    }
   ],
   "source": [
    "df_imdb.budget.hist()"
   ]
  },
  {
   "cell_type": "code",
   "execution_count": 77,
   "metadata": {},
   "outputs": [],
   "source": [
    "presupuesto_promedio = df_imdb.budget.mean()\n",
    "df_imdb.loc[df_imdb.budget.isna(), \"budget\"] = presupuesto_promedio"
   ]
  },
  {
   "cell_type": "code",
   "execution_count": 78,
   "metadata": {},
   "outputs": [
    {
     "data": {
      "text/plain": [
       "<AxesSubplot:>"
      ]
     },
     "execution_count": 78,
     "metadata": {},
     "output_type": "execute_result"
    },
    {
     "data": {
      "image/png": "[encoded data removed]",
      "text/plain": [
       "<Figure size 432x288 with 1 Axes>"
      ]
     },
     "metadata": {
      "needs_background": "light"
     },
     "output_type": "display_data"
    }
   ],
   "source": [
    "df_imdb.budget.hist()"
   ]
  },
  {
   "cell_type": "code",
   "execution_count": 79,
   "metadata": {},
   "outputs": [
    {
     "data": {
      "text/plain": [
       "<AxesSubplot:xlabel='gross', ylabel='budget'>"
      ]
     },
     "execution_count": 79,
     "metadata": {},
     "output_type": "execute_result"
    },
    {
     "data": {
      "image/png": "[encoded data removed]",
      "text/plain": [
       "<Figure size 432x288 with 1 Axes>"
      ]
     },
     "metadata": {
      "needs_background": "light"
     },
     "output_type": "display_data"
    }
   ],
   "source": [
    "df_imdb.plot.scatter(x=\"gross\", y=\"budget\")"
   ]
  },
  {
   "cell_type": "code",
   "execution_count": 80,
   "metadata": {},
   "outputs": [
    {
     "data": {
      "text/html": [
       "<div>\n",
       "<style scoped>\n",
       "    .dataframe tbody tr th:only-of-type {\n",
       "        vertical-align: middle;\n",
       "    }\n",
       "\n",
       "    .dataframe tbody tr th {\n",
       "        vertical-align: top;\n",
       "    }\n",
       "\n",
       "    .dataframe thead th {\n",
       "        text-align: right;\n",
       "    }\n",
       "</style>\n",
       "<table border=\"1\" class=\"dataframe\">\n",
       "  <thead>\n",
       "    <tr style=\"text-align: right;\">\n",
       "      <th></th>\n",
       "      <th>gross</th>\n",
       "      <th>budget</th>\n",
       "    </tr>\n",
       "  </thead>\n",
       "  <tbody>\n",
       "    <tr>\n",
       "      <th>gross</th>\n",
       "      <td>1.000000</td>\n",
       "      <td>0.728868</td>\n",
       "    </tr>\n",
       "    <tr>\n",
       "      <th>budget</th>\n",
       "      <td>0.728868</td>\n",
       "      <td>1.000000</td>\n",
       "    </tr>\n",
       "  </tbody>\n",
       "</table>\n",
       "</div>"
      ],
      "text/plain": [
       "           gross    budget\n",
       "gross   1.000000  0.728868\n",
       "budget  0.728868  1.000000"
      ]
     },
     "execution_count": 80,
     "metadata": {},
     "output_type": "execute_result"
    }
   ],
   "source": [
    "df_imdb[[\"gross\", \"budget\"]].corr()"
   ]
  },
  {
   "cell_type": "code",
   "execution_count": null,
   "metadata": {},
   "outputs": [],
   "source": [
    "df_imdb[\"gross_budget_ratio\"] = df_imdb.gross / df_imdb.budget"
   ]
  },
  {
   "cell_type": "code",
   "execution_count": null,
   "metadata": {},
   "outputs": [],
   "source": [
    "def identify_films(gross, rating):\n",
    "    if gross > 150_000_000 and rating < 6.5:\n",
    "        return \"High gross, low rating\"\n",
    "    if gross < 80_000_000 and rating > 8:\n",
    "        return \"Low gross, high rating\"\n",
    "    return \"Normal\"\n",
    "\n",
    "identify_films(180_000_000, 4)"
   ]
  },
  {
   "cell_type": "code",
   "execution_count": null,
   "metadata": {},
   "outputs": [],
   "source": [
    "df_imdb[\"type_film\"] = df_imdb.apply(lambda row: identify_films(row[\"gross\"], row[\"imdb_score\"]), axis=1)"
   ]
  },
  {
   "cell_type": "code",
   "execution_count": null,
   "metadata": {},
   "outputs": [],
   "source": [
    "df_imdb.type_film.value_counts()"
   ]
  },
  {
   "cell_type": "markdown",
   "metadata": {},
   "source": [
    "## Guardar dataset"
   ]
  },
  {
   "cell_type": "code",
   "execution_count": null,
   "metadata": {},
   "outputs": [],
   "source": [
    "df_imdb.to_csv(\"data/imdb_limpio.csv\", index=False)"
   ]
  },
  {
   "cell_type": "markdown",
   "metadata": {},
   "source": [
    "## Otras columnas"
   ]
  },
  {
   "cell_type": "markdown",
   "metadata": {},
   "source": [
    "### Columna `duration`"
   ]
  },
  {
   "cell_type": "code",
   "execution_count": 81,
   "metadata": {},
   "outputs": [
    {
     "data": {
      "text/plain": [
       "0     240\n",
       "1     195\n",
       "2     187\n",
       "3     186\n",
       "4     186\n",
       "     ... \n",
       "94    134\n",
       "95    134\n",
       "96    134\n",
       "97    134\n",
       "98      5\n",
       "Name: duration, Length: 94, dtype: int64"
      ]
     },
     "execution_count": 81,
     "metadata": {},
     "output_type": "execute_result"
    }
   ],
   "source": [
    "df_imdb.duration"
   ]
  },
  {
   "cell_type": "code",
   "execution_count": 82,
   "metadata": {},
   "outputs": [
    {
     "data": {
      "text/plain": [
       " 138    6\n",
       " 141    6\n",
       " 137    6\n",
       " 136    5\n",
       " 143    5\n",
       " 134    4\n",
       " 146    4\n",
       " 144    4\n",
       " 148    4\n",
       " 140    4\n",
       " 139    4\n",
       " 142    3\n",
       " 158    3\n",
       " 150    3\n",
       " 153    3\n",
       " 186    2\n",
       " 165    2\n",
       " 164    2\n",
       " 156    2\n",
       " 135    2\n",
       " 149    2\n",
       " 195    1\n",
       " 187    1\n",
       " 173    1\n",
       " 580    1\n",
       " 240    1\n",
       " 183    1\n",
       " 180    1\n",
       "-50     1\n",
       " 5      1\n",
       " 172    1\n",
       " 170    1\n",
       " 169    1\n",
       " 167    1\n",
       " 157    1\n",
       " 151    1\n",
       " 147    1\n",
       " 650    1\n",
       " 154    1\n",
       "Name: duration, dtype: int64"
      ]
     },
     "execution_count": 82,
     "metadata": {},
     "output_type": "execute_result"
    }
   ],
   "source": [
    "df_imdb.duration.value_counts(dropna=False)"
   ]
  },
  {
   "cell_type": "code",
   "execution_count": 83,
   "metadata": {},
   "outputs": [
    {
     "data": {
      "text/plain": [
       "False"
      ]
     },
     "execution_count": 83,
     "metadata": {},
     "output_type": "execute_result"
    }
   ],
   "source": [
    "df_imdb.duration.isna().any()"
   ]
  },
  {
   "cell_type": "code",
   "execution_count": 84,
   "metadata": {},
   "outputs": [
    {
     "data": {
      "text/plain": [
       "count     94.000000\n",
       "mean     155.787234\n",
       "std       74.666840\n",
       "min      -50.000000\n",
       "25%      138.000000\n",
       "50%      143.500000\n",
       "75%      155.500000\n",
       "max      650.000000\n",
       "Name: duration, dtype: float64"
      ]
     },
     "execution_count": 84,
     "metadata": {},
     "output_type": "execute_result"
    }
   ],
   "source": [
    "df_imdb.duration.describe()"
   ]
  },
  {
   "cell_type": "code",
   "execution_count": 85,
   "metadata": {},
   "outputs": [
    {
     "data": {
      "text/plain": [
       "<AxesSubplot:>"
      ]
     },
     "execution_count": 85,
     "metadata": {},
     "output_type": "execute_result"
    },
    {
     "data": {
      "image/png": "[encoded data removed]",
      "text/plain": [
       "<Figure size 432x288 with 1 Axes>"
      ]
     },
     "metadata": {
      "needs_background": "light"
     },
     "output_type": "display_data"
    }
   ],
   "source": [
    "df_imdb.duration.hist()"
   ]
  },
  {
   "cell_type": "code",
   "execution_count": 86,
   "metadata": {},
   "outputs": [
    {
     "data": {
      "text/html": [
       "<div>\n",
       "<style scoped>\n",
       "    .dataframe tbody tr th:only-of-type {\n",
       "        vertical-align: middle;\n",
       "    }\n",
       "\n",
       "    .dataframe tbody tr th {\n",
       "        vertical-align: top;\n",
       "    }\n",
       "\n",
       "    .dataframe thead th {\n",
       "        text-align: right;\n",
       "    }\n",
       "</style>\n",
       "<table border=\"1\" class=\"dataframe\">\n",
       "  <thead>\n",
       "    <tr style=\"text-align: right;\">\n",
       "      <th></th>\n",
       "      <th>color</th>\n",
       "      <th>director_name</th>\n",
       "      <th>duration</th>\n",
       "      <th>gross</th>\n",
       "      <th>genres</th>\n",
       "      <th>movie_title</th>\n",
       "      <th>title_year</th>\n",
       "      <th>language</th>\n",
       "      <th>country</th>\n",
       "      <th>budget</th>\n",
       "      <th>imdb_score</th>\n",
       "      <th>actors</th>\n",
       "      <th>movie_facebook_likes</th>\n",
       "      <th>movie_twitter_likes</th>\n",
       "      <th>genero_1</th>\n",
       "      <th>genero_2</th>\n",
       "      <th>genero_3</th>\n",
       "      <th>genero_4</th>\n",
       "      <th>genero_5</th>\n",
       "    </tr>\n",
       "  </thead>\n",
       "  <tbody>\n",
       "    <tr>\n",
       "      <th>6</th>\n",
       "      <td>Color</td>\n",
       "      <td>Peter Jackson</td>\n",
       "      <td>-50</td>\n",
       "      <td>303001229.0</td>\n",
       "      <td>Adventure|Fantasy</td>\n",
       "      <td>the hobbit: an unexpected journey</td>\n",
       "      <td>2012</td>\n",
       "      <td>English</td>\n",
       "      <td>USA</td>\n",
       "      <td>180000000.0</td>\n",
       "      <td>7.9</td>\n",
       "      <td>Aidan Turner,Adam Brown,James Nesbitt</td>\n",
       "      <td>166000</td>\n",
       "      <td>1000</td>\n",
       "      <td>Adventure</td>\n",
       "      <td>Fantasy</td>\n",
       "      <td>None</td>\n",
       "      <td>None</td>\n",
       "      <td>None</td>\n",
       "    </tr>\n",
       "    <tr>\n",
       "      <th>98</th>\n",
       "      <td>Color</td>\n",
       "      <td>Clint Eastwood</td>\n",
       "      <td>5</td>\n",
       "      <td>47034272.0</td>\n",
       "      <td>Biography|Drama|Music|Musical</td>\n",
       "      <td>jersey boys</td>\n",
       "      <td>2014</td>\n",
       "      <td>English</td>\n",
       "      <td>USA</td>\n",
       "      <td>40000000.0</td>\n",
       "      <td>6.9</td>\n",
       "      <td>Johnny Cannizzaro,Steve Schirripa,Scott Vance</td>\n",
       "      <td>16000</td>\n",
       "      <td>1000</td>\n",
       "      <td>Biography</td>\n",
       "      <td>Drama</td>\n",
       "      <td>Music</td>\n",
       "      <td>Musical</td>\n",
       "      <td>None</td>\n",
       "    </tr>\n",
       "  </tbody>\n",
       "</table>\n",
       "</div>"
      ],
      "text/plain": [
       "    color   director_name  duration        gross  \\\n",
       "6   Color   Peter Jackson       -50  303001229.0   \n",
       "98  Color  Clint Eastwood         5   47034272.0   \n",
       "\n",
       "                           genres                        movie_title  \\\n",
       "6               Adventure|Fantasy  the hobbit: an unexpected journey   \n",
       "98  Biography|Drama|Music|Musical                        jersey boys   \n",
       "\n",
       "    title_year language country       budget  imdb_score  \\\n",
       "6         2012  English     USA  180000000.0         7.9   \n",
       "98        2014  English     USA   40000000.0         6.9   \n",
       "\n",
       "                                           actors  movie_facebook_likes  \\\n",
       "6           Aidan Turner,Adam Brown,James Nesbitt                166000   \n",
       "98  Johnny Cannizzaro,Steve Schirripa,Scott Vance                 16000   \n",
       "\n",
       "    movie_twitter_likes   genero_1 genero_2 genero_3 genero_4 genero_5  \n",
       "6                  1000  Adventure  Fantasy     None     None     None  \n",
       "98                 1000  Biography    Drama    Music  Musical     None  "
      ]
     },
     "execution_count": 86,
     "metadata": {},
     "output_type": "execute_result"
    }
   ],
   "source": [
    "df_imdb[df_imdb.duration < 30]"
   ]
  },
  {
   "cell_type": "code",
   "execution_count": 87,
   "metadata": {},
   "outputs": [
    {
     "data": {
      "text/plain": [
       "156"
      ]
     },
     "execution_count": 87,
     "metadata": {},
     "output_type": "execute_result"
    }
   ],
   "source": [
    "duracion_media = round(df_imdb.duration.mean())\n",
    "duracion_media"
   ]
  },
  {
   "cell_type": "code",
   "execution_count": 88,
   "metadata": {},
   "outputs": [],
   "source": [
    "df_imdb.loc[df_imdb.duration < 30, \"duration\"] = duracion_media"
   ]
  },
  {
   "cell_type": "code",
   "execution_count": 89,
   "metadata": {},
   "outputs": [],
   "source": [
    "df_imdb.loc[df_imdb.duration > 300, \"duration\"] = duracion_media"
   ]
  },
  {
   "cell_type": "code",
   "execution_count": 90,
   "metadata": {},
   "outputs": [
    {
     "data": {
      "text/plain": [
       "<AxesSubplot:>"
      ]
     },
     "execution_count": 90,
     "metadata": {},
     "output_type": "execute_result"
    },
    {
     "data": {
      "image/png": "[encoded data removed]",
      "text/plain": [
       "<Figure size 432x288 with 1 Axes>"
      ]
     },
     "metadata": {
      "needs_background": "light"
     },
     "output_type": "display_data"
    }
   ],
   "source": [
    "df_imdb.duration.hist()"
   ]
  },
  {
   "cell_type": "markdown",
   "metadata": {},
   "source": [
    "### Columna `movie_title`"
   ]
  },
  {
   "cell_type": "code",
   "execution_count": 92,
   "metadata": {},
   "outputs": [
    {
     "data": {
      "text/plain": [
       "ben-hur                       2\n",
       "les misérables                2\n",
       "unbroken                      2\n",
       "the wolverine                 1\n",
       "prisoners                     1\n",
       "                             ..\n",
       "rock of ages                  1\n",
       "gone girl                     1\n",
       "the martian                   1\n",
       "the place beyond the pines    1\n",
       "spectre                       1\n",
       "Name: movie_title, Length: 91, dtype: int64"
      ]
     },
     "execution_count": 92,
     "metadata": {},
     "output_type": "execute_result"
    }
   ],
   "source": [
    "df_imdb.movie_title.value_counts(dropna=False)"
   ]
  },
  {
   "cell_type": "code",
   "execution_count": 93,
   "metadata": {},
   "outputs": [
    {
     "name": "stdout",
     "output_type": "stream",
     "text": [
      "ben-hur                                        2\n",
      "les misérables                                 2\n",
      "unbroken                                       2\n",
      "the wolverine                                  1\n",
      "prisoners                                      1\n",
      "flight                                         1\n",
      "jersey boys                                    1\n",
      "get on up                                      1\n",
      "captain phillips                               1\n",
      "ramanujan                                      1\n",
      "margaret                                       1\n",
      "robin hood                                     1\n",
      "the hunger games: catching fire                1\n",
      "furious 7                                      1\n",
      "cloud atlas                                    1\n",
      "warrior                                        1\n",
      "transformers: dark of the moon                 1\n",
      "zero dark thirty                               1\n",
      "the amazing spider-man                         1\n",
      "the amazing spider-man 2                       1\n",
      "the master                                     1\n",
      "son of god                                     1\n",
      "anchorman 2: the legend continues              1\n",
      "queen of the mountains                         1\n",
      "inception                                      1\n",
      "blood ties                                     1\n",
      "x-men: apocalypse                              1\n",
      "pirates of the caribbean: on stranger tides    1\n",
      "bridge of spies                                1\n",
      "inherent vice                                  1\n",
      "batman: the dark knight returns, part 2        1\n",
      "war horse                                      1\n",
      "exodus: gods and kings                         1\n",
      "the avengers                                   1\n",
      "skyfall                                        1\n",
      "a million ways to die in the west              1\n",
      "free state of jones                            1\n",
      "x-men: days of future past                     1\n",
      "the wolf of wall street                        1\n",
      "the ridges                                     1\n",
      "13 hours                                       1\n",
      "mr. turner                                     1\n",
      "barney's version                               1\n",
      "sex and the city 2                             1\n",
      "the bourne legacy                              1\n",
      "the hunger games                               1\n",
      "the hunger games: mockingjay - part 2          1\n",
      "child 44                                       1\n",
      "the hobbit: an unexpected journey              1\n",
      "the help                                       1\n",
      "man of steel                                   1\n",
      "american hustle                                1\n",
      "j. edgar                                       1\n",
      "shutter island                                 1\n",
      "the hobbit: the battle of the five armies      1\n",
      "divergent                                      1\n",
      "the hateful eight                              1\n",
      "transformers: age of extinction                1\n",
      "the girl with the dragon tattoo                1\n",
      "iron man 3                                     1\n",
      "savages                                        1\n",
      "boyhood                                        1\n",
      "the great gatsby                               1\n",
      "straight outta compton                         1\n",
      "batman v superman: dawn of justice             1\n",
      "the counselor                                  1\n",
      "the revenant                                   1\n",
      "wall street: money never sleeps                1\n",
      "eat pray love                                  1\n",
      "on the road                                    1\n",
      "the hobbit: the desolation of smaug            1\n",
      "django unchained                               1\n",
      "the tree of life                               1\n",
      "fury                                           1\n",
      "the lone ranger                                1\n",
      "lincoln                                        1\n",
      "captain america: civil war                     1\n",
      "restless                                       1\n",
      "mandela: long walk to freedom                  1\n",
      "the dark knight rises                          1\n",
      "the judge                                      1\n",
      "12 years a slave                               1\n",
      "captain america: the winter soldier            1\n",
      "avengers: age of ultron                        1\n",
      "interstellar                                   1\n",
      "noah                                           1\n",
      "rock of ages                                   1\n",
      "gone girl                                      1\n",
      "the martian                                    1\n",
      "the place beyond the pines                     1\n",
      "spectre                                        1\n",
      "Name: movie_title, dtype: int64\n"
     ]
    }
   ],
   "source": [
    "pd.set_option(\"display.max_rows\", None)\n",
    "print(df_imdb.movie_title.value_counts(dropna=False))"
   ]
  },
  {
   "cell_type": "code",
   "execution_count": 94,
   "metadata": {},
   "outputs": [],
   "source": [
    "pd.reset_option(\"display.max_rows\")"
   ]
  },
  {
   "cell_type": "code",
   "execution_count": 95,
   "metadata": {},
   "outputs": [
    {
     "data": {
      "text/plain": [
       "False"
      ]
     },
     "execution_count": 95,
     "metadata": {},
     "output_type": "execute_result"
    }
   ],
   "source": [
    "df_imdb.movie_title.isna().any()"
   ]
  },
  {
   "cell_type": "code",
   "execution_count": 96,
   "metadata": {},
   "outputs": [
    {
     "data": {
      "text/html": [
       "<div>\n",
       "<style scoped>\n",
       "    .dataframe tbody tr th:only-of-type {\n",
       "        vertical-align: middle;\n",
       "    }\n",
       "\n",
       "    .dataframe tbody tr th {\n",
       "        vertical-align: top;\n",
       "    }\n",
       "\n",
       "    .dataframe thead th {\n",
       "        text-align: right;\n",
       "    }\n",
       "</style>\n",
       "<table border=\"1\" class=\"dataframe\">\n",
       "  <thead>\n",
       "    <tr style=\"text-align: right;\">\n",
       "      <th></th>\n",
       "      <th>color</th>\n",
       "      <th>director_name</th>\n",
       "      <th>duration</th>\n",
       "      <th>gross</th>\n",
       "      <th>genres</th>\n",
       "      <th>movie_title</th>\n",
       "      <th>title_year</th>\n",
       "      <th>language</th>\n",
       "      <th>country</th>\n",
       "      <th>budget</th>\n",
       "      <th>imdb_score</th>\n",
       "      <th>actors</th>\n",
       "      <th>movie_facebook_likes</th>\n",
       "      <th>movie_twitter_likes</th>\n",
       "      <th>genero_1</th>\n",
       "      <th>genero_2</th>\n",
       "      <th>genero_3</th>\n",
       "      <th>genero_4</th>\n",
       "      <th>genero_5</th>\n",
       "    </tr>\n",
       "  </thead>\n",
       "  <tbody>\n",
       "    <tr>\n",
       "      <th>77</th>\n",
       "      <td>Color</td>\n",
       "      <td>Darren Aronofsky</td>\n",
       "      <td>138</td>\n",
       "      <td>101160529.0</td>\n",
       "      <td>Action|Adventure|Drama</td>\n",
       "      <td>noah</td>\n",
       "      <td>2014</td>\n",
       "      <td>English</td>\n",
       "      <td>USA</td>\n",
       "      <td>125000000.0</td>\n",
       "      <td>5.8</td>\n",
       "      <td>Anthony Hopkins,Emma Watson,Logan Lerman</td>\n",
       "      <td>71000</td>\n",
       "      <td>1000</td>\n",
       "      <td>Action</td>\n",
       "      <td>Adventure</td>\n",
       "      <td>Drama</td>\n",
       "      <td>None</td>\n",
       "      <td>None</td>\n",
       "    </tr>\n",
       "    <tr>\n",
       "      <th>97</th>\n",
       "      <td>Color</td>\n",
       "      <td>David Ayer</td>\n",
       "      <td>134</td>\n",
       "      <td>85707116.0</td>\n",
       "      <td>Action|Drama|War</td>\n",
       "      <td>fury</td>\n",
       "      <td>2014</td>\n",
       "      <td>English</td>\n",
       "      <td>USA</td>\n",
       "      <td>68000000.0</td>\n",
       "      <td>7.6</td>\n",
       "      <td>Brad Pitt,Logan Lerman,Jim Parrack</td>\n",
       "      <td>82000</td>\n",
       "      <td>1000</td>\n",
       "      <td>Action</td>\n",
       "      <td>Drama</td>\n",
       "      <td>War</td>\n",
       "      <td>None</td>\n",
       "      <td>None</td>\n",
       "    </tr>\n",
       "  </tbody>\n",
       "</table>\n",
       "</div>"
      ],
      "text/plain": [
       "    color     director_name  duration        gross                  genres  \\\n",
       "77  Color  Darren Aronofsky       138  101160529.0  Action|Adventure|Drama   \n",
       "97  Color        David Ayer       134   85707116.0        Action|Drama|War   \n",
       "\n",
       "   movie_title  title_year language country       budget  imdb_score  \\\n",
       "77        noah        2014  English     USA  125000000.0         5.8   \n",
       "97        fury        2014  English     USA   68000000.0         7.6   \n",
       "\n",
       "                                      actors  movie_facebook_likes  \\\n",
       "77  Anthony Hopkins,Emma Watson,Logan Lerman                 71000   \n",
       "97        Brad Pitt,Logan Lerman,Jim Parrack                 82000   \n",
       "\n",
       "    movie_twitter_likes genero_1   genero_2 genero_3 genero_4 genero_5  \n",
       "77                 1000   Action  Adventure    Drama     None     None  \n",
       "97                 1000   Action      Drama      War     None     None  "
      ]
     },
     "execution_count": 96,
     "metadata": {},
     "output_type": "execute_result"
    }
   ],
   "source": [
    "df_imdb[df_imdb.movie_title.str.len() < 5]"
   ]
  },
  {
   "cell_type": "code",
   "execution_count": 97,
   "metadata": {},
   "outputs": [],
   "source": [
    "df_imdb[\"movie_title\"] = df_imdb.movie_title.str.title()"
   ]
  },
  {
   "cell_type": "code",
   "execution_count": 98,
   "metadata": {},
   "outputs": [
    {
     "data": {
      "text/plain": [
       "0                The Wolf Of Wall Street\n",
       "1                             Iron Man 3\n",
       "2                      The Hateful Eight\n",
       "3                               Margaret\n",
       "4    The Hobbit: The Desolation Of Smaug\n",
       "Name: movie_title, dtype: object"
      ]
     },
     "execution_count": 98,
     "metadata": {},
     "output_type": "execute_result"
    }
   ],
   "source": [
    "df_imdb.movie_title.head()"
   ]
  },
  {
   "cell_type": "markdown",
   "metadata": {},
   "source": [
    "### Columna `title_year`"
   ]
  },
  {
   "cell_type": "code",
   "execution_count": 99,
   "metadata": {},
   "outputs": [
    {
     "data": {
      "text/plain": [
       " 2014    22\n",
       " 2012    19\n",
       " 2013    17\n",
       " 2011    10\n",
       " 2015     8\n",
       " 2010     7\n",
       " 2016     6\n",
       " 1800     1\n",
       " 202      1\n",
       " 205      1\n",
       "-1000     1\n",
       " 2030     1\n",
       "Name: title_year, dtype: int64"
      ]
     },
     "execution_count": 99,
     "metadata": {},
     "output_type": "execute_result"
    }
   ],
   "source": [
    "df_imdb.title_year.value_counts(dropna=False)"
   ]
  },
  {
   "cell_type": "code",
   "execution_count": 100,
   "metadata": {},
   "outputs": [],
   "source": [
    "filtro = (df_imdb.title_year > 1950) & (df_imdb.title_year < 2021)\n",
    "df_imdb.title_year[filtro]\n",
    "df_imdb.loc[~filtro, \"title_year\"] = round(df_imdb.title_year[filtro].mean())"
   ]
  },
  {
   "cell_type": "code",
   "execution_count": 101,
   "metadata": {},
   "outputs": [
    {
     "data": {
      "text/plain": [
       "2013    22\n",
       "2014    22\n",
       "2012    19\n",
       "2011    10\n",
       "2015     8\n",
       "2010     7\n",
       "2016     6\n",
       "Name: title_year, dtype: int64"
      ]
     },
     "execution_count": 101,
     "metadata": {},
     "output_type": "execute_result"
    }
   ],
   "source": [
    "df_imdb.title_year.value_counts(dropna=False)"
   ]
  },
  {
   "cell_type": "markdown",
   "metadata": {},
   "source": [
    "### Columna `movie_twitter_likes`"
   ]
  },
  {
   "cell_type": "code",
   "execution_count": 102,
   "metadata": {},
   "outputs": [
    {
     "data": {
      "text/plain": [
       "<AxesSubplot:>"
      ]
     },
     "execution_count": 102,
     "metadata": {},
     "output_type": "execute_result"
    },
    {
     "data": {
      "image/png": "[encoded data removed]",
      "text/plain": [
       "<Figure size 432x288 with 1 Axes>"
      ]
     },
     "metadata": {
      "needs_background": "light"
     },
     "output_type": "display_data"
    }
   ],
   "source": [
    "df_imdb.movie_twitter_likes.hist()"
   ]
  },
  {
   "cell_type": "code",
   "execution_count": 103,
   "metadata": {},
   "outputs": [
    {
     "data": {
      "text/plain": [
       "1000    94\n",
       "Name: movie_twitter_likes, dtype: int64"
      ]
     },
     "execution_count": 103,
     "metadata": {},
     "output_type": "execute_result"
    }
   ],
   "source": [
    "df_imdb.movie_twitter_likes.value_counts(dropna=False)"
   ]
  },
  {
   "cell_type": "code",
   "execution_count": 104,
   "metadata": {},
   "outputs": [],
   "source": [
    "df_imdb.drop(\"movie_twitter_likes\", axis=1, inplace=True)"
   ]
  },
  {
   "cell_type": "markdown",
   "metadata": {},
   "source": [
    "### Columna `imdb_score`"
   ]
  },
  {
   "cell_type": "code",
   "execution_count": 105,
   "metadata": {},
   "outputs": [
    {
     "data": {
      "text/plain": [
       "<AxesSubplot:>"
      ]
     },
     "execution_count": 105,
     "metadata": {},
     "output_type": "execute_result"
    },
    {
     "data": {
      "image/png": "[encoded data removed]",
      "text/plain": [
       "<Figure size 432x288 with 1 Axes>"
      ]
     },
     "metadata": {
      "needs_background": "light"
     },
     "output_type": "display_data"
    }
   ],
   "source": [
    "df_imdb.imdb_score.hist()"
   ]
  },
  {
   "cell_type": "code",
   "execution_count": 106,
   "metadata": {},
   "outputs": [],
   "source": [
    "filtro = df_imdb.imdb_score < 0\n",
    "score_medio = df_imdb.imdb_score[~filtro].mean()\n",
    "df_imdb.loc[df_imdb.imdb_score < 0, \"imdb_score\"] = score_medio"
   ]
  },
  {
   "cell_type": "markdown",
   "metadata": {},
   "source": [
    "### Columna `country`"
   ]
  },
  {
   "cell_type": "code",
   "execution_count": 107,
   "metadata": {},
   "outputs": [
    {
     "data": {
      "text/plain": [
       "USA               75\n",
       "UK                 6\n",
       "usa                3\n",
       "France             2\n",
       "United States      1\n",
       "Canada             1\n",
       "Germany            1\n",
       "Czech Republic     1\n",
       "India              1\n",
       "Kyrgyzstan         1\n",
       "New Zealand        1\n",
       "Australia          1\n",
       "Name: country, dtype: int64"
      ]
     },
     "execution_count": 107,
     "metadata": {},
     "output_type": "execute_result"
    }
   ],
   "source": [
    "df_imdb.country.value_counts(dropna=False)"
   ]
  },
  {
   "cell_type": "code",
   "execution_count": 108,
   "metadata": {},
   "outputs": [],
   "source": [
    "df_imdb.loc[df_imdb.country.str.lower() == \"usa\", \"country\"] = \"United States\""
   ]
  },
  {
   "cell_type": "code",
   "execution_count": 109,
   "metadata": {},
   "outputs": [],
   "source": [
    "df_imdb.loc[df_imdb.country == \"UK\", \"country\"] = \"United Kingdom\""
   ]
  },
  {
   "cell_type": "code",
   "execution_count": 110,
   "metadata": {},
   "outputs": [
    {
     "data": {
      "text/plain": [
       "United States     79\n",
       "United Kingdom     6\n",
       "France             2\n",
       "Germany            1\n",
       "Czech Republic     1\n",
       "India              1\n",
       "Kyrgyzstan         1\n",
       "Australia          1\n",
       "Canada             1\n",
       "New Zealand        1\n",
       "Name: country, dtype: int64"
      ]
     },
     "execution_count": 110,
     "metadata": {},
     "output_type": "execute_result"
    }
   ],
   "source": [
    "df_imdb.country.value_counts(dropna=False)"
   ]
  },
  {
   "cell_type": "markdown",
   "metadata": {},
   "source": [
    "### Columna `language`"
   ]
  },
  {
   "cell_type": "code",
   "execution_count": 111,
   "metadata": {},
   "outputs": [
    {
     "data": {
      "text/plain": [
       "English    94\n",
       "Name: language, dtype: int64"
      ]
     },
     "execution_count": 111,
     "metadata": {},
     "output_type": "execute_result"
    }
   ],
   "source": [
    "df_imdb.language.value_counts(dropna=False)"
   ]
  },
  {
   "cell_type": "markdown",
   "metadata": {},
   "source": [
    "### Columna `movie_facebook_likes`"
   ]
  },
  {
   "cell_type": "code",
   "execution_count": 112,
   "metadata": {},
   "outputs": [
    {
     "data": {
      "text/plain": [
       "<AxesSubplot:>"
      ]
     },
     "execution_count": 112,
     "metadata": {},
     "output_type": "execute_result"
    },
    {
     "data": {
      "image/png": "[encoded data removed]",
      "text/plain": [
       "<Figure size 432x288 with 1 Axes>"
      ]
     },
     "metadata": {
      "needs_background": "light"
     },
     "output_type": "display_data"
    }
   ],
   "source": [
    "df_imdb.movie_facebook_likes.hist()"
   ]
  },
  {
   "cell_type": "code",
   "execution_count": 113,
   "metadata": {},
   "outputs": [
    {
     "data": {
      "text/plain": [
       "False"
      ]
     },
     "execution_count": 113,
     "metadata": {},
     "output_type": "execute_result"
    }
   ],
   "source": [
    "df_imdb.movie_facebook_likes.isna().any()"
   ]
  },
  {
   "cell_type": "code",
   "execution_count": 114,
   "metadata": {},
   "outputs": [
    {
     "data": {
      "text/plain": [
       "count        94.000000\n",
       "mean      65633.244681\n",
       "std       58702.022178\n",
       "min           0.000000\n",
       "25%       24500.000000\n",
       "50%       54000.000000\n",
       "75%       84500.000000\n",
       "max      349000.000000\n",
       "Name: movie_facebook_likes, dtype: float64"
      ]
     },
     "execution_count": 114,
     "metadata": {},
     "output_type": "execute_result"
    }
   ],
   "source": [
    "df_imdb.movie_facebook_likes.describe()"
   ]
  },
  {
   "cell_type": "markdown",
   "metadata": {},
   "source": [
    "### Columna `actors`"
   ]
  },
  {
   "cell_type": "code",
   "execution_count": 115,
   "metadata": {},
   "outputs": [
    {
     "data": {
      "text/plain": [
       "Leonardo DiCaprio     7\n",
       "Jennifer Lawrence     6\n",
       "Hugh Jackman          5\n",
       "Tom Hardy             5\n",
       "Robert Downey Jr.     5\n",
       "                     ..\n",
       "B.J. Novak            1\n",
       "Bruce McGill          1\n",
       "Anthony Reynolds      1\n",
       "James Badge Dale      1\n",
       "John Gallagher Jr.    1\n",
       "Name: actors, Length: 209, dtype: int64"
      ]
     },
     "execution_count": 115,
     "metadata": {},
     "output_type": "execute_result"
    }
   ],
   "source": [
    "df_imdb.actors.str.split(\",\").explode().value_counts()"
   ]
  }
 ],
 "metadata": {
  "kernelspec": {
   "display_name": "Python 3.8.8 64-bit ('nuclio': conda)",
   "language": "python",
   "name": "python388jvsc74a57bd047c7c997e12db0943f037ebbbbd3e237f559f651ec857a3093f1bc2fc6c9f54a"
  },
  "language_info": {
   "codemirror_mode": {
    "name": "ipython",
    "version": 3
   },
   "file_extension": ".py",
   "mimetype": "text/x-python",
   "name": "python",
   "nbconvert_exporter": "python",
   "pygments_lexer": "ipython3",
   "version": "3.8.8"
  },
  "metadata": {
   "interpreter": {
    "hash": "47c7c997e12db0943f037ebbbbd3e237f559f651ec857a3093f1bc2fc6c9f54a"
   }
  }
 },
 "nbformat": 4,
 "nbformat_minor": 2
}
