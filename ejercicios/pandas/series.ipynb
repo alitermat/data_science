{
 "cells": [
  {
   "cell_type": "markdown",
   "metadata": {},
   "source": [
    "# EJERCICIOS - Pandas Series"
   ]
  },
  {
   "cell_type": "markdown",
   "metadata": {},
   "source": [
    "1 - Importa numpy y pandas\n",
    "\n"
   ]
  },
  {
   "cell_type": "code",
   "execution_count": 1,
   "metadata": {
    "ExecuteTime": {
     "end_time": "2021-01-21T19:19:40.412032Z",
     "start_time": "2021-01-21T19:19:39.550006Z"
    }
   },
   "outputs": [],
   "source": [
    "import pandas as pd"
   ]
  },
  {
   "cell_type": "markdown",
   "metadata": {},
   "source": [
    "2 - Crea una Pandas Series desde una lista que contiene 6 letras\n"
   ]
  },
  {
   "cell_type": "code",
   "execution_count": 5,
   "metadata": {
    "ExecuteTime": {
     "end_time": "2021-01-21T19:21:36.249239Z",
     "start_time": "2021-01-21T19:21:36.224099Z"
    }
   },
   "outputs": [
    {
     "data": {
      "text/plain": [
       "0    a\n",
       "1    b\n",
       "2    c\n",
       "3    d\n",
       "4    e\n",
       "5    f\n",
       "dtype: object"
      ]
     },
     "execution_count": 5,
     "metadata": {},
     "output_type": "execute_result"
    }
   ],
   "source": [
    "lista = ['a','b','c','d','e','f']\n",
    "serie = pd.Series(lista)\n",
    "serie"
   ]
  },
  {
   "cell_type": "markdown",
   "metadata": {},
   "source": [
    "3 - Crea una Serie desde un array del 1-9\n",
    "\n"
   ]
  },
  {
   "cell_type": "code",
   "execution_count": 7,
   "metadata": {
    "ExecuteTime": {
     "end_time": "2021-01-21T19:23:07.586924Z",
     "start_time": "2021-01-21T19:23:07.583935Z"
    }
   },
   "outputs": [],
   "source": [
    "import numpy as np"
   ]
  },
  {
   "cell_type": "code",
   "execution_count": 9,
   "metadata": {
    "ExecuteTime": {
     "end_time": "2021-01-21T19:23:24.230740Z",
     "start_time": "2021-01-21T19:23:24.212178Z"
    }
   },
   "outputs": [
    {
     "data": {
      "text/plain": [
       "0    0\n",
       "1    1\n",
       "2    2\n",
       "3    3\n",
       "4    4\n",
       "5    5\n",
       "6    6\n",
       "7    7\n",
       "8    8\n",
       "9    9\n",
       "dtype: int32"
      ]
     },
     "execution_count": 9,
     "metadata": {},
     "output_type": "execute_result"
    }
   ],
   "source": [
    "arr = np.arange(10)\n",
    "serie_1 = pd.Series(arr)\n",
    "serie_1"
   ]
  },
  {
   "cell_type": "markdown",
   "metadata": {},
   "source": [
    "4 - Crea una Serie desde un diccionario con 5 números y 5 etiquetas de letras"
   ]
  },
  {
   "cell_type": "code",
   "execution_count": 12,
   "metadata": {
    "ExecuteTime": {
     "end_time": "2021-01-21T19:26:31.447729Z",
     "start_time": "2021-01-21T19:26:31.404333Z"
    }
   },
   "outputs": [
    {
     "data": {
      "text/plain": [
       "a    1\n",
       "b    2\n",
       "c    3\n",
       "d    4\n",
       "e    5\n",
       "dtype: int64"
      ]
     },
     "execution_count": 12,
     "metadata": {},
     "output_type": "execute_result"
    }
   ],
   "source": [
    "dict_1 = {'a':1, 'b':2, 'c':3, 'd':4, 'e':5}\n",
    "serie_2 = pd.Series(dict_1)\n",
    "serie_2"
   ]
  },
  {
   "cell_type": "markdown",
   "metadata": {},
   "source": [
    "5 - Dada una serie con 5 números, cambia los índices por default a etiquetas con nombres\n",
    "\n"
   ]
  },
  {
   "cell_type": "code",
   "execution_count": 19,
   "metadata": {
    "ExecuteTime": {
     "end_time": "2021-01-21T19:29:38.115790Z",
     "start_time": "2021-01-21T19:29:38.105240Z"
    }
   },
   "outputs": [
    {
     "data": {
      "text/plain": [
       "array([2, 4, 4, 9, 9])"
      ]
     },
     "execution_count": 19,
     "metadata": {},
     "output_type": "execute_result"
    }
   ],
   "source": [
    "arr_2 = np.random.randint(0, 10, 5)\n",
    "arr_2"
   ]
  },
  {
   "cell_type": "code",
   "execution_count": 20,
   "metadata": {
    "ExecuteTime": {
     "end_time": "2021-01-21T19:30:05.438307Z",
     "start_time": "2021-01-21T19:30:05.420423Z"
    }
   },
   "outputs": [
    {
     "data": {
      "text/plain": [
       "0    2\n",
       "1    4\n",
       "2    4\n",
       "3    9\n",
       "4    9\n",
       "dtype: int32"
      ]
     },
     "execution_count": 20,
     "metadata": {},
     "output_type": "execute_result"
    }
   ],
   "source": [
    "serie_3 = pd.Series(arr_2)\n",
    "serie_3"
   ]
  },
  {
   "cell_type": "code",
   "execution_count": 23,
   "metadata": {
    "ExecuteTime": {
     "end_time": "2021-01-21T19:32:13.076438Z",
     "start_time": "2021-01-21T19:32:13.060554Z"
    }
   },
   "outputs": [
    {
     "data": {
      "text/plain": [
       "españa      2\n",
       "francia     4\n",
       "italia      4\n",
       "portugal    9\n",
       "alemania    9\n",
       "dtype: int32"
      ]
     },
     "execution_count": 23,
     "metadata": {},
     "output_type": "execute_result"
    }
   ],
   "source": [
    "serie_3.index = ['españa', 'francia', 'italia', 'portugal', 'alemania']\n",
    "serie_3"
   ]
  },
  {
   "cell_type": "code",
   "execution_count": null,
   "metadata": {},
   "outputs": [],
   "source": [
    "# Alternativa interesante y a estudiar"
   ]
  },
  {
   "cell_type": "code",
   "execution_count": 28,
   "metadata": {
    "ExecuteTime": {
     "end_time": "2021-01-21T19:36:19.765413Z",
     "start_time": "2021-01-21T19:36:19.752861Z"
    }
   },
   "outputs": [
    {
     "data": {
      "text/plain": [
       "A    0\n",
       "B    1\n",
       "C    2\n",
       "D    3\n",
       "E    4\n",
       "dtype: int32"
      ]
     },
     "execution_count": 28,
     "metadata": {},
     "output_type": "execute_result"
    }
   ],
   "source": [
    "index = list('ABCDE')\n",
    "values = np.arange(5)\n",
    "serie_4 = pd.Series(values, index)\n",
    "serie_4"
   ]
  },
  {
   "cell_type": "markdown",
   "metadata": {},
   "source": [
    "6 - Pónle un nombre a la Serie!"
   ]
  },
  {
   "cell_type": "code",
   "execution_count": 31,
   "metadata": {
    "ExecuteTime": {
     "end_time": "2021-01-21T19:37:27.879435Z",
     "start_time": "2021-01-21T19:37:27.860852Z"
    }
   },
   "outputs": [
    {
     "data": {
      "text/plain": [
       "A    0\n",
       "B    1\n",
       "C    2\n",
       "D    3\n",
       "E    4\n",
       "Name: ejercicios, dtype: int32"
      ]
     },
     "execution_count": 31,
     "metadata": {},
     "output_type": "execute_result"
    }
   ],
   "source": [
    "serie_4.name = 'ejercicios'\n",
    "serie_4"
   ]
  },
  {
   "cell_type": "markdown",
   "metadata": {},
   "source": [
    "7 - Dados dos arrays, \n",
    "\n",
    "a = np.array([1,2,3,2,3,4,3,4,5,6])\n",
    "\n",
    "\n",
    "b = np.array([7,2,10,2,7,4,9,4,9,8])\n",
    "\n",
    "Convíertalos en serie e identifica qué elementos de la serie a no estan en la serie b"
   ]
  },
  {
   "cell_type": "code",
   "execution_count": 33,
   "metadata": {
    "ExecuteTime": {
     "end_time": "2021-01-21T19:38:59.043000Z",
     "start_time": "2021-01-21T19:38:59.036992Z"
    }
   },
   "outputs": [],
   "source": [
    "a = np.array([1,2,3,2,3,4,3,4,5,6])\n",
    "\n",
    "b = np.array([7,2,10,2,7,4,9,4,9,8])"
   ]
  },
  {
   "cell_type": "code",
   "execution_count": 36,
   "metadata": {
    "ExecuteTime": {
     "end_time": "2021-01-21T19:41:26.547666Z",
     "start_time": "2021-01-21T19:41:26.528966Z"
    }
   },
   "outputs": [],
   "source": [
    "serie_a = pd.Series(a)\n",
    "serie_b = pd.Series(b)"
   ]
  },
  {
   "cell_type": "code",
   "execution_count": 39,
   "metadata": {
    "ExecuteTime": {
     "end_time": "2021-01-21T19:44:53.847831Z",
     "start_time": "2021-01-21T19:44:53.830194Z"
    }
   },
   "outputs": [
    {
     "data": {
      "text/plain": [
       "0    1\n",
       "2    3\n",
       "4    3\n",
       "6    3\n",
       "8    5\n",
       "9    6\n",
       "dtype: int32"
      ]
     },
     "execution_count": 39,
     "metadata": {},
     "output_type": "execute_result"
    }
   ],
   "source": [
    "serie_a[~serie_a.isin(serie_b)]"
   ]
  },
  {
   "cell_type": "markdown",
   "metadata": {},
   "source": [
    "8 - Crea una serie con los elementos NO comunes entre la serie a y b\n",
    "\n"
   ]
  },
  {
   "cell_type": "code",
   "execution_count": 42,
   "metadata": {
    "ExecuteTime": {
     "end_time": "2021-01-21T19:49:02.837967Z",
     "start_time": "2021-01-21T19:49:02.827373Z"
    }
   },
   "outputs": [
    {
     "data": {
      "text/plain": [
       "0      1\n",
       "1      3\n",
       "2      3\n",
       "3      3\n",
       "4      5\n",
       "5      6\n",
       "6      7\n",
       "7     10\n",
       "8      7\n",
       "9      9\n",
       "10     9\n",
       "11     8\n",
       "dtype: int32"
      ]
     },
     "execution_count": 42,
     "metadata": {},
     "output_type": "execute_result"
    }
   ],
   "source": [
    "no_com_a = serie_a[~serie_a.isin(serie_b)]\n",
    "no_com_b = serie_b[~serie_b.isin(serie_a)]\n",
    "\n",
    "no_com = no_com_a.append(no_com_b, ignore_index=True)\n",
    "no_com"
   ]
  },
  {
   "cell_type": "markdown",
   "metadata": {},
   "source": [
    "9 - Calcula el mínimo, percentil 25, mediana, percentil 75 y el máximo de la Serie a"
   ]
  },
  {
   "cell_type": "code",
   "execution_count": 45,
   "metadata": {
    "ExecuteTime": {
     "end_time": "2021-01-21T19:52:35.067114Z",
     "start_time": "2021-01-21T19:52:35.053555Z"
    }
   },
   "outputs": [
    {
     "name": "stdout",
     "output_type": "stream",
     "text": [
      "mínimo= 1 percentil 25= 2.25 percentil 75= 4.0 máximo= 6\n"
     ]
    }
   ],
   "source": [
    "print('mínimo=', serie_a.min(), 'percentil 25=', serie_a.quantile(q=0.25), 'percentil 75=', serie_a.quantile(q=0.75), 'máximo=', serie_a.max())"
   ]
  },
  {
   "cell_type": "code",
   "execution_count": 50,
   "metadata": {
    "ExecuteTime": {
     "end_time": "2021-01-21T19:53:51.656239Z",
     "start_time": "2021-01-21T19:53:51.613602Z"
    }
   },
   "outputs": [
    {
     "data": {
      "text/plain": [
       "count    10.000000\n",
       "mean      3.300000\n",
       "std       1.494434\n",
       "min       1.000000\n",
       "25%       2.250000\n",
       "50%       3.000000\n",
       "75%       4.000000\n",
       "max       6.000000\n",
       "dtype: float64"
      ]
     },
     "execution_count": 50,
     "metadata": {},
     "output_type": "execute_result"
    }
   ],
   "source": [
    "serie_a.describe() #manera fácil y correcta"
   ]
  },
  {
   "cell_type": "markdown",
   "metadata": {
    "ExecuteTime": {
     "end_time": "2020-03-02T07:30:12.381136Z",
     "start_time": "2020-03-02T07:30:12.374105Z"
    }
   },
   "source": [
    "10 - Calcula la frecuencia de conteo de cada elemento único de la siguiente serie\n",
    "\n",
    "ser = pd.Series(np.take(list('abcdefgh'), np.random.randint(8, size=30)))"
   ]
  },
  {
   "cell_type": "code",
   "execution_count": 61,
   "metadata": {
    "ExecuteTime": {
     "end_time": "2021-01-21T20:00:12.836909Z",
     "start_time": "2021-01-21T20:00:12.813904Z"
    }
   },
   "outputs": [
    {
     "data": {
      "text/plain": [
       "0     h\n",
       "1     e\n",
       "2     h\n",
       "3     a\n",
       "4     e\n",
       "5     h\n",
       "6     f\n",
       "7     d\n",
       "8     f\n",
       "9     d\n",
       "10    h\n",
       "11    d\n",
       "12    c\n",
       "13    d\n",
       "14    g\n",
       "15    c\n",
       "16    a\n",
       "17    h\n",
       "18    f\n",
       "19    c\n",
       "20    h\n",
       "21    g\n",
       "22    h\n",
       "23    a\n",
       "24    a\n",
       "25    b\n",
       "26    c\n",
       "27    h\n",
       "28    a\n",
       "29    g\n",
       "dtype: object"
      ]
     },
     "execution_count": 61,
     "metadata": {},
     "output_type": "execute_result"
    }
   ],
   "source": [
    "ser = pd.Series(np.take(list('abcdefgh'), np.random.randint(8, size=30)))\n",
    "ser"
   ]
  },
  {
   "cell_type": "code",
   "execution_count": 63,
   "metadata": {
    "ExecuteTime": {
     "end_time": "2021-01-21T20:02:03.634443Z",
     "start_time": "2021-01-21T20:02:03.594294Z"
    }
   },
   "outputs": [
    {
     "data": {
      "text/plain": [
       "h    8\n",
       "a    5\n",
       "c    4\n",
       "d    4\n",
       "g    3\n",
       "f    3\n",
       "e    2\n",
       "b    1\n",
       "dtype: int64"
      ]
     },
     "execution_count": 63,
     "metadata": {},
     "output_type": "execute_result"
    }
   ],
   "source": [
    "ser.value_counts() #Función muy interesante de pandas"
   ]
  },
  {
   "cell_type": "markdown",
   "metadata": {},
   "source": [
    "11 - De la serie anterior, quédate con los 2 elementos más frecuentes y reemplaza el resto con el valor \"Otros\""
   ]
  },
  {
   "cell_type": "code",
   "execution_count": 85,
   "metadata": {
    "ExecuteTime": {
     "end_time": "2021-01-21T20:12:57.511040Z",
     "start_time": "2021-01-21T20:12:57.500485Z"
    }
   },
   "outputs": [],
   "source": [
    " val_frec = ser.value_counts(sort=True, ascending=False)[:2].index"
   ]
  },
  {
   "cell_type": "code",
   "execution_count": 86,
   "metadata": {
    "ExecuteTime": {
     "end_time": "2021-01-21T20:12:58.180938Z",
     "start_time": "2021-01-21T20:12:58.158271Z"
    }
   },
   "outputs": [
    {
     "data": {
      "text/plain": [
       "0         h\n",
       "1     Otros\n",
       "2         h\n",
       "3     Otros\n",
       "4     Otros\n",
       "5         h\n",
       "6     Otros\n",
       "7     Otros\n",
       "8     Otros\n",
       "9     Otros\n",
       "10        h\n",
       "11    Otros\n",
       "12    Otros\n",
       "13    Otros\n",
       "14    Otros\n",
       "15    Otros\n",
       "16    Otros\n",
       "17        h\n",
       "18    Otros\n",
       "19    Otros\n",
       "20        h\n",
       "21    Otros\n",
       "22        h\n",
       "23    Otros\n",
       "24    Otros\n",
       "25    Otros\n",
       "26    Otros\n",
       "27        h\n",
       "28    Otros\n",
       "29    Otros\n",
       "dtype: object"
      ]
     },
     "execution_count": 86,
     "metadata": {},
     "output_type": "execute_result"
    }
   ],
   "source": [
    "ser[~ser.isin(val_frec)] = 'Otros'\n",
    "ser"
   ]
  },
  {
   "cell_type": "markdown",
   "metadata": {},
   "source": [
    "12 - Encuentra la posición de los números de la siguiente serie que son múltiples de 3\n",
    "\n",
    "ser = pd.Series(np.random.randint(1, 10, 7))"
   ]
  },
  {
   "cell_type": "code",
   "execution_count": 106,
   "metadata": {
    "ExecuteTime": {
     "end_time": "2021-01-21T20:22:30.664472Z",
     "start_time": "2021-01-21T20:22:30.651953Z"
    }
   },
   "outputs": [
    {
     "data": {
      "text/plain": [
       "0    6\n",
       "1    5\n",
       "2    1\n",
       "3    1\n",
       "4    6\n",
       "5    7\n",
       "6    6\n",
       "dtype: int32"
      ]
     },
     "execution_count": 106,
     "metadata": {},
     "output_type": "execute_result"
    }
   ],
   "source": [
    "np.random.RandomState(100) #con esta función, podemos fijar la semilla para que el random siempre genere los mismos valores.\n",
    "ser = pd.Series(np.random.randint(1, 10, 7))\n",
    "ser"
   ]
  },
  {
   "cell_type": "code",
   "execution_count": 109,
   "metadata": {
    "ExecuteTime": {
     "end_time": "2021-01-21T20:23:11.454000Z",
     "start_time": "2021-01-21T20:23:11.443996Z"
    }
   },
   "outputs": [
    {
     "data": {
      "text/plain": [
       "[0, 4, 6]"
      ]
     },
     "execution_count": 109,
     "metadata": {},
     "output_type": "execute_result"
    }
   ],
   "source": [
    "ser[ser % 3 == 0].index.to_list()"
   ]
  },
  {
   "cell_type": "markdown",
   "metadata": {},
   "source": [
    "13 - Extrae los elementos de la serie mediante las posiciones especificadas en la lista:\n",
    "\n",
    "ser = pd.Series(list('abcdefghijklmnopqrstuvwxyz'))\n",
    "\n",
    "pos = [0, 4, 8, 14, 20]"
   ]
  },
  {
   "cell_type": "code",
   "execution_count": 115,
   "metadata": {
    "ExecuteTime": {
     "end_time": "2021-01-21T20:28:56.111329Z",
     "start_time": "2021-01-21T20:28:56.092282Z"
    }
   },
   "outputs": [
    {
     "data": {
      "text/plain": [
       "0     a\n",
       "4     e\n",
       "8     i\n",
       "14    o\n",
       "20    u\n",
       "dtype: object"
      ]
     },
     "execution_count": 115,
     "metadata": {},
     "output_type": "execute_result"
    }
   ],
   "source": [
    "# Input\n",
    "ser = pd.Series(list('abcdefghijklmnopqrstuvwxyz'))\n",
    "pos = [0, 4, 8, 14, 20]\n",
    "\n",
    "# Solución\n",
    "ser.take(pos)"
   ]
  },
  {
   "cell_type": "code",
   "execution_count": 116,
   "metadata": {
    "ExecuteTime": {
     "end_time": "2021-01-21T20:29:14.264489Z",
     "start_time": "2021-01-21T20:29:14.243293Z"
    }
   },
   "outputs": [
    {
     "data": {
      "text/plain": [
       "0     a\n",
       "4     e\n",
       "8     i\n",
       "14    o\n",
       "20    u\n",
       "dtype: object"
      ]
     },
     "execution_count": 116,
     "metadata": {},
     "output_type": "execute_result"
    }
   ],
   "source": [
    "ser.iloc[pos] #otra manera de realizar el ejercicio"
   ]
  },
  {
   "cell_type": "markdown",
   "metadata": {},
   "source": [
    "14 - Une las series serie_1 y serie_2:\n",
    "- horizontalmente\n",
    "- verticalmente\n",
    "\n",
    "Donde la serie_1 es una serie comprendida por un rango de elementos enteros distribuidos hasta el nº 4 por step=1 y la serie_2 contiene los elementos a, b, c, d, e"
   ]
  },
  {
   "cell_type": "code",
   "execution_count": 120,
   "metadata": {
    "ExecuteTime": {
     "end_time": "2021-01-21T20:31:26.502464Z",
     "start_time": "2021-01-21T20:31:26.484405Z"
    }
   },
   "outputs": [
    {
     "data": {
      "text/plain": [
       "0    0\n",
       "1    1\n",
       "2    2\n",
       "3    3\n",
       "4    4\n",
       "dtype: int32"
      ]
     },
     "execution_count": 120,
     "metadata": {},
     "output_type": "execute_result"
    }
   ],
   "source": [
    "serie_1 = pd.Series(np.arange(0, 5, 1))\n",
    "serie_1"
   ]
  },
  {
   "cell_type": "code",
   "execution_count": 121,
   "metadata": {
    "ExecuteTime": {
     "end_time": "2021-01-21T20:32:12.709495Z",
     "start_time": "2021-01-21T20:32:12.692441Z"
    }
   },
   "outputs": [
    {
     "data": {
      "text/plain": [
       "0    a\n",
       "1    b\n",
       "2    c\n",
       "3    d\n",
       "4    e\n",
       "dtype: object"
      ]
     },
     "execution_count": 121,
     "metadata": {},
     "output_type": "execute_result"
    }
   ],
   "source": [
    "serie_2 = pd.Series(list('abcde'))\n",
    "serie_2"
   ]
  },
  {
   "cell_type": "code",
   "execution_count": 131,
   "metadata": {
    "ExecuteTime": {
     "end_time": "2021-01-21T20:37:30.992952Z",
     "start_time": "2021-01-21T20:37:30.945801Z"
    }
   },
   "outputs": [
    {
     "data": {
      "text/html": [
       "<div>\n",
       "<style scoped>\n",
       "    .dataframe tbody tr th:only-of-type {\n",
       "        vertical-align: middle;\n",
       "    }\n",
       "\n",
       "    .dataframe tbody tr th {\n",
       "        vertical-align: top;\n",
       "    }\n",
       "\n",
       "    .dataframe thead th {\n",
       "        text-align: right;\n",
       "    }\n",
       "</style>\n",
       "<table border=\"1\" class=\"dataframe\">\n",
       "  <thead>\n",
       "    <tr style=\"text-align: right;\">\n",
       "      <th></th>\n",
       "      <th>0</th>\n",
       "      <th>1</th>\n",
       "    </tr>\n",
       "  </thead>\n",
       "  <tbody>\n",
       "    <tr>\n",
       "      <th>0</th>\n",
       "      <td>0</td>\n",
       "      <td>a</td>\n",
       "    </tr>\n",
       "    <tr>\n",
       "      <th>1</th>\n",
       "      <td>1</td>\n",
       "      <td>b</td>\n",
       "    </tr>\n",
       "    <tr>\n",
       "      <th>2</th>\n",
       "      <td>2</td>\n",
       "      <td>c</td>\n",
       "    </tr>\n",
       "    <tr>\n",
       "      <th>3</th>\n",
       "      <td>3</td>\n",
       "      <td>d</td>\n",
       "    </tr>\n",
       "    <tr>\n",
       "      <th>4</th>\n",
       "      <td>4</td>\n",
       "      <td>e</td>\n",
       "    </tr>\n",
       "  </tbody>\n",
       "</table>\n",
       "</div>"
      ],
      "text/plain": [
       "   0  1\n",
       "0  0  a\n",
       "1  1  b\n",
       "2  2  c\n",
       "3  3  d\n",
       "4  4  e"
      ]
     },
     "execution_count": 131,
     "metadata": {},
     "output_type": "execute_result"
    }
   ],
   "source": [
    "serie_h = pd.concat([serie_1, serie_2], axis=1)\n",
    "serie_h"
   ]
  },
  {
   "cell_type": "code",
   "execution_count": 133,
   "metadata": {
    "ExecuteTime": {
     "end_time": "2021-01-21T20:38:13.104789Z",
     "start_time": "2021-01-21T20:38:13.084688Z"
    }
   },
   "outputs": [
    {
     "data": {
      "text/plain": [
       "0    0\n",
       "1    1\n",
       "2    2\n",
       "3    3\n",
       "4    4\n",
       "5    a\n",
       "6    b\n",
       "7    c\n",
       "8    d\n",
       "9    e\n",
       "dtype: object"
      ]
     },
     "execution_count": 133,
     "metadata": {},
     "output_type": "execute_result"
    }
   ],
   "source": [
    "serie_v = pd.concat([serie_1, serie_2], axis=0, ignore_index=True)\n",
    "serie_v"
   ]
  },
  {
   "cell_type": "code",
   "execution_count": 138,
   "metadata": {
    "ExecuteTime": {
     "end_time": "2021-01-21T20:41:16.741707Z",
     "start_time": "2021-01-21T20:41:16.724872Z"
    }
   },
   "outputs": [
    {
     "data": {
      "text/plain": [
       "0     10\n",
       "1      9\n",
       "2      6\n",
       "3      5\n",
       "4      3\n",
       "5      1\n",
       "6     12\n",
       "7      8\n",
       "8     13\n",
       "9      1\n",
       "10     3\n",
       "11    10\n",
       "12    13\n",
       "dtype: int64"
      ]
     },
     "execution_count": 138,
     "metadata": {},
     "output_type": "execute_result"
    }
   ],
   "source": [
    "serie_1.append(serie_2, ignore_index=True) #Otra alternativa"
   ]
  },
  {
   "cell_type": "markdown",
   "metadata": {
    "ExecuteTime": {
     "end_time": "2020-03-02T07:51:22.858003Z",
     "start_time": "2020-03-02T07:51:22.848319Z"
    }
   },
   "source": [
    "15 - Filtra la serie 1 mediante los elementos de la serie 2 \n",
    "\n",
    "serie_1 = pd.Series([10, 9, 6, 5, 3, 1, 12, 8, 13])\n",
    "\n",
    "serie_2 = pd.Series([1, 3, 10, 13])"
   ]
  },
  {
   "cell_type": "code",
   "execution_count": 134,
   "metadata": {
    "ExecuteTime": {
     "end_time": "2021-01-21T20:38:47.220403Z",
     "start_time": "2021-01-21T20:38:47.200876Z"
    }
   },
   "outputs": [],
   "source": [
    "serie_1 = pd.Series([10, 9, 6, 5, 3, 1, 12, 8, 13])\n",
    "\n",
    "serie_2 = pd.Series([1, 3, 10, 13])"
   ]
  },
  {
   "cell_type": "code",
   "execution_count": 141,
   "metadata": {
    "ExecuteTime": {
     "end_time": "2021-01-21T20:49:53.582671Z",
     "start_time": "2021-01-21T20:49:53.573276Z"
    }
   },
   "outputs": [
    {
     "data": {
      "text/plain": [
       "0    10\n",
       "4     3\n",
       "5     1\n",
       "8    13\n",
       "dtype: int64"
      ]
     },
     "execution_count": 141,
     "metadata": {},
     "output_type": "execute_result"
    }
   ],
   "source": [
    "serie_1[serie_1.isin(serie_2)] #Solución 1 de realizar el ejercicio y la más simple"
   ]
  },
  {
   "cell_type": "code",
   "execution_count": 149,
   "metadata": {
    "ExecuteTime": {
     "end_time": "2021-01-21T21:00:57.678800Z",
     "start_time": "2021-01-21T21:00:57.666792Z"
    }
   },
   "outputs": [
    {
     "data": {
      "text/plain": [
       "5     1\n",
       "4     3\n",
       "0    10\n",
       "8    13\n",
       "dtype: int64"
      ]
     },
     "execution_count": 149,
     "metadata": {},
     "output_type": "execute_result"
    }
   ],
   "source": [
    "list_filt = [] #Solución 2 de realizarlo utilizando Pandas. \n",
    "for i in serie_2:\n",
    "    a = pd.Index(serie_1).get_loc(i)\n",
    "    list_filt.append(a)\n",
    "\n",
    "serie_1[list_filt]  \n",
    "    "
   ]
  },
  {
   "cell_type": "code",
   "execution_count": 159,
   "metadata": {
    "ExecuteTime": {
     "end_time": "2021-01-21T21:09:34.207828Z",
     "start_time": "2021-01-21T21:09:34.187176Z"
    }
   },
   "outputs": [
    {
     "data": {
      "text/plain": [
       "5     1\n",
       "4     3\n",
       "0    10\n",
       "8    13\n",
       "dtype: int64"
      ]
     },
     "execution_count": 159,
     "metadata": {},
     "output_type": "execute_result"
    }
   ],
   "source": [
    "serie_1[[pd.Index(serie_1).get_loc(i) for i in serie_2]] #Solución 2 de realizarlo utilizando Pandas pero simplificada."
   ]
  },
  {
   "cell_type": "code",
   "execution_count": 192,
   "metadata": {
    "ExecuteTime": {
     "end_time": "2021-01-21T21:25:16.418949Z",
     "start_time": "2021-01-21T21:25:16.406945Z"
    }
   },
   "outputs": [
    {
     "data": {
      "text/plain": [
       "5     1\n",
       "4     3\n",
       "0    10\n",
       "8    13\n",
       "dtype: int64"
      ]
     },
     "execution_count": 192,
     "metadata": {},
     "output_type": "execute_result"
    }
   ],
   "source": [
    "list_filt = []                        # Solución 3 utilizando Numpy\n",
    "for i in serie_2:\n",
    "    a = np.where(i == serie_1)[0][0]\n",
    "    list_filt.append(a)\n",
    "\n",
    "serie_1[list_filt]"
   ]
  },
  {
   "cell_type": "code",
   "execution_count": 199,
   "metadata": {
    "ExecuteTime": {
     "end_time": "2021-01-21T21:27:01.631094Z",
     "start_time": "2021-01-21T21:27:01.616534Z"
    }
   },
   "outputs": [
    {
     "data": {
      "text/plain": [
       "5     1\n",
       "4     3\n",
       "0    10\n",
       "8    13\n",
       "dtype: int64"
      ]
     },
     "execution_count": 199,
     "metadata": {},
     "output_type": "execute_result"
    }
   ],
   "source": [
    "serie_1[[np.where(i == serie_1)[0][0] for i in serie_2]] #Solución 3 simplificada"
   ]
  },
  {
   "cell_type": "markdown",
   "metadata": {},
   "source": [
    "16 - Pon en mayúsculas la primera letra de cada elemento de la serie:\n",
    "\n",
    "mi_frase = pd.Series(['como', 'ser', 'el', 'master', 'de', 'Python?'])"
   ]
  },
  {
   "cell_type": "code",
   "execution_count": 200,
   "metadata": {
    "ExecuteTime": {
     "end_time": "2021-01-21T21:28:54.733099Z",
     "start_time": "2021-01-21T21:28:54.727100Z"
    }
   },
   "outputs": [],
   "source": [
    "mi_frase = pd.Series(['como', 'ser', 'el', 'master', 'de', 'Python?'])"
   ]
  },
  {
   "cell_type": "code",
   "execution_count": 202,
   "metadata": {
    "ExecuteTime": {
     "end_time": "2021-01-21T21:29:21.915220Z",
     "start_time": "2021-01-21T21:29:21.899145Z"
    }
   },
   "outputs": [
    {
     "data": {
      "text/plain": [
       "0       Como\n",
       "1        Ser\n",
       "2         El\n",
       "3     Master\n",
       "4         De\n",
       "5    Python?\n",
       "dtype: object"
      ]
     },
     "execution_count": 202,
     "metadata": {},
     "output_type": "execute_result"
    }
   ],
   "source": [
    "mi_frase.str.title() #Solución 1 y más eficiente con .str de pandas series."
   ]
  },
  {
   "cell_type": "code",
   "execution_count": 215,
   "metadata": {
    "ExecuteTime": {
     "end_time": "2021-01-21T21:49:50.590686Z",
     "start_time": "2021-01-21T21:49:50.581091Z"
    }
   },
   "outputs": [
    {
     "data": {
      "text/plain": [
       "0       Como\n",
       "1        Ser\n",
       "2         El\n",
       "3     Master\n",
       "4         De\n",
       "5    Python?\n",
       "dtype: object"
      ]
     },
     "execution_count": 215,
     "metadata": {},
     "output_type": "execute_result"
    }
   ],
   "source": [
    "mi_frase = pd.Series(['como', 'ser', 'el', 'master', 'de', 'Python?']) #Solución 2 utilizando .map.\n",
    "mi_frase.map(lambda x : x.title())                                     #Mediante .map() reemplazamos cada elemento de la serie por el mismo elemento transformado mediante title()"
   ]
  },
  {
   "cell_type": "code",
   "execution_count": 219,
   "metadata": {
    "ExecuteTime": {
     "end_time": "2021-01-21T21:55:10.988850Z",
     "start_time": "2021-01-21T21:55:10.976296Z"
    }
   },
   "outputs": [
    {
     "data": {
      "text/plain": [
       "0       Como\n",
       "1        Ser\n",
       "2         El\n",
       "3     Master\n",
       "4         De\n",
       "5    Python?\n",
       "dtype: object"
      ]
     },
     "execution_count": 219,
     "metadata": {},
     "output_type": "execute_result"
    }
   ],
   "source": [
    "mi_frase = pd.Series(['como', 'ser', 'el', 'master', 'de', 'Python?'])\n",
    "pd.Series([i.title() for i in mi_frase])                #Solución 3 aplicamos title() a cada elemento de la Serie mediante un bucle y los elementos resultantos los convertimos a serie"
   ]
  },
  {
   "cell_type": "markdown",
   "metadata": {},
   "source": [
    "17 - Calcula el nº de letras en cada elemento de la serie\n",
    "\n",
    "mi_frase = pd.Series(['como', 'ser', 'el', 'master', 'de', 'Python?'])"
   ]
  },
  {
   "cell_type": "code",
   "execution_count": 220,
   "metadata": {
    "ExecuteTime": {
     "end_time": "2021-01-21T21:55:29.637349Z",
     "start_time": "2021-01-21T21:55:29.624242Z"
    }
   },
   "outputs": [],
   "source": [
    "mi_frase = pd.Series(['como', 'ser', 'el', 'master', 'de', 'Python?'])"
   ]
  },
  {
   "cell_type": "code",
   "execution_count": 222,
   "metadata": {
    "ExecuteTime": {
     "end_time": "2021-01-21T21:56:29.817436Z",
     "start_time": "2021-01-21T21:56:29.804415Z"
    }
   },
   "outputs": [
    {
     "data": {
      "text/plain": [
       "0    4\n",
       "1    3\n",
       "2    2\n",
       "3    6\n",
       "4    2\n",
       "5    7\n",
       "dtype: int64"
      ]
     },
     "execution_count": 222,
     "metadata": {},
     "output_type": "execute_result"
    }
   ],
   "source": [
    "mi_frase.map(lambda x: len(x))   # Primera solución"
   ]
  },
  {
   "cell_type": "code",
   "execution_count": 223,
   "metadata": {
    "ExecuteTime": {
     "end_time": "2021-01-21T21:58:44.012591Z",
     "start_time": "2021-01-21T21:58:43.997484Z"
    }
   },
   "outputs": [
    {
     "data": {
      "text/plain": [
       "como       4\n",
       "ser        3\n",
       "el         2\n",
       "master     6\n",
       "de         2\n",
       "Python?    7\n",
       "dtype: int64"
      ]
     },
     "execution_count": 223,
     "metadata": {},
     "output_type": "execute_result"
    }
   ],
   "source": [
    "pd.Series([len(i) for i in mi_frase], index=mi_frase)   #Segunda solución"
   ]
  },
  {
   "cell_type": "markdown",
   "metadata": {
    "ExecuteTime": {
     "end_time": "2020-03-02T07:59:28.860357Z",
     "start_time": "2020-03-02T07:59:28.853633Z"
    }
   },
   "source": [
    "18 - Calcula el máximo local en una serie numerica:\n",
    "\n",
    "mis_numeros = pd.Series([2, 10, 3, 4, 9, 10, 2, 7, 3])"
   ]
  },
  {
   "cell_type": "code",
   "execution_count": 224,
   "metadata": {
    "ExecuteTime": {
     "end_time": "2021-01-21T21:59:29.064660Z",
     "start_time": "2021-01-21T21:59:29.048577Z"
    }
   },
   "outputs": [],
   "source": [
    "mis_numeros = pd.Series([2, 10, 3, 4, 9, 10, 2, 7, 3])"
   ]
  },
  {
   "cell_type": "code",
   "execution_count": 225,
   "metadata": {
    "ExecuteTime": {
     "end_time": "2021-01-21T21:59:48.006603Z",
     "start_time": "2021-01-21T21:59:47.990557Z"
    }
   },
   "outputs": [
    {
     "data": {
      "text/plain": [
       "10"
      ]
     },
     "execution_count": 225,
     "metadata": {},
     "output_type": "execute_result"
    }
   ],
   "source": [
    "mis_numeros.max()"
   ]
  }
 ],
 "metadata": {
  "kernelspec": {
   "display_name": "Python 3",
   "language": "python",
   "name": "python3"
  },
  "language_info": {
   "codemirror_mode": {
    "name": "ipython",
    "version": 3
   },
   "file_extension": ".py",
   "mimetype": "text/x-python",
   "name": "python",
   "nbconvert_exporter": "python",
   "pygments_lexer": "ipython3",
   "version": "3.8.5"
  },
  "latex_envs": {
   "LaTeX_envs_menu_present": true,
   "autoclose": false,
   "autocomplete": true,
   "bibliofile": "biblio.bib",
   "cite_by": "apalike",
   "current_citInitial": 1,
   "eqLabelWithNumbers": true,
   "eqNumInitial": 1,
   "hotkeys": {
    "equation": "Ctrl-E",
    "itemize": "Ctrl-I"
   },
   "labels_anchors": false,
   "latex_user_defs": false,
   "report_style_numbering": false,
   "user_envs_cfg": false
  },
  "toc": {
   "base_numbering": 1,
   "nav_menu": {},
   "number_sections": true,
   "sideBar": true,
   "skip_h1_title": false,
   "title_cell": "Table of Contents",
   "title_sidebar": "Contents",
   "toc_cell": false,
   "toc_position": {
    "height": "calc(100% - 180px)",
    "left": "10px",
    "top": "150px",
    "width": "418.3831481933594px"
   },
   "toc_section_display": true,
   "toc_window_display": false
  },
  "varInspector": {
   "cols": {
    "lenName": 16,
    "lenType": 16,
    "lenVar": 40
   },
   "kernels_config": {
    "python": {
     "delete_cmd_postfix": "",
     "delete_cmd_prefix": "del ",
     "library": "var_list.py",
     "varRefreshCmd": "print(var_dic_list())"
    },
    "r": {
     "delete_cmd_postfix": ") ",
     "delete_cmd_prefix": "rm(",
     "library": "var_list.r",
     "varRefreshCmd": "cat(var_dic_list()) "
    }
   },
   "types_to_exclude": [
    "module",
    "function",
    "builtin_function_or_method",
    "instance",
    "_Feature"
   ],
   "window_display": false
  }
 },
 "nbformat": 4,
 "nbformat_minor": 2
}
